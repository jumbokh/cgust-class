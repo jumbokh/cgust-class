{
  "nbformat": 4,
  "nbformat_minor": 0,
  "metadata": {
    "colab": {
      "provenance": [],
      "authorship_tag": "ABX9TyPRDYOzg4XP1OkXKi4UYd0c",
      "include_colab_link": true
    },
    "kernelspec": {
      "name": "python3",
      "display_name": "Python 3"
    },
    "language_info": {
      "name": "python"
    }
  },
  "cells": [
    {
      "cell_type": "markdown",
      "metadata": {
        "id": "view-in-github",
        "colab_type": "text"
      },
      "source": [
        "<a href=\"https://colab.research.google.com/github/jumbokh/summer2023-class/blob/main/notebooks/bstest.ipynb\" target=\"_parent\"><img src=\"https://colab.research.google.com/assets/colab-badge.svg\" alt=\"Open In Colab\"/></a>"
      ]
    },
    {
      "cell_type": "code",
      "execution_count": 1,
      "metadata": {
        "id": "qxdMfxejBIPl"
      },
      "outputs": [],
      "source": [
        "import requests"
      ]
    },
    {
      "cell_type": "code",
      "source": [
        "from bs4 import BeautifulSoup"
      ],
      "metadata": {
        "id": "qbfxhGnaBK-N"
      },
      "execution_count": 2,
      "outputs": []
    },
    {
      "cell_type": "code",
      "source": [
        "url = \"https://photo.xuite.net/antony.love/4030999-%E5%8F%B0%E7%81%A3%E7%AC%AC%E4%B8%80%E5%90%8D%E6%A8%A1+-+%E6%9E%97%E5%BF%97%E7%8E%B2\""
      ],
      "metadata": {
        "id": "RSR8qoExBQJe"
      },
      "execution_count": 3,
      "outputs": []
    },
    {
      "cell_type": "code",
      "source": [
        "r = requests.get(url)"
      ],
      "metadata": {
        "id": "DjgI0Z7ABc5Q"
      },
      "execution_count": 4,
      "outputs": []
    },
    {
      "cell_type": "code",
      "source": [
        "soup = BeautifulSoup(r.text)"
      ],
      "metadata": {
        "id": "Y6n3teMBBdYE"
      },
      "execution_count": 5,
      "outputs": []
    },
    {
      "cell_type": "code",
      "source": [
        "soup.select(\".list_area .photo_item.inline-block img\")"
      ],
      "metadata": {
        "colab": {
          "base_uri": "https://localhost:8080/"
        },
        "id": "pMlbAb-VBgx2",
        "outputId": "c9cd489d-e3da-4f7d-b3f2-34a0044c4722"
      },
      "execution_count": 6,
      "outputs": [
        {
          "output_type": "execute_result",
          "data": {
            "text/plain": [
              "[]"
            ]
          },
          "metadata": {},
          "execution_count": 6
        }
      ]
    },
    {
      "cell_type": "code",
      "source": [
        "imgs = soup.select(\".list_area .photo_item.inline-block img\")"
      ],
      "metadata": {
        "id": "Oe5IibDaBkgj"
      },
      "execution_count": 7,
      "outputs": []
    },
    {
      "cell_type": "code",
      "source": [],
      "metadata": {
        "colab": {
          "base_uri": "https://localhost:8080/"
        },
        "id": "lvDWOu69BnXI",
        "outputId": "28a0dfc6-9de3-468f-c710-f10b34cb2299"
      },
      "execution_count": 8,
      "outputs": [
        {
          "output_type": "execute_result",
          "data": {
            "text/plain": [
              "[]"
            ]
          },
          "metadata": {},
          "execution_count": 8
        }
      ]
    },
    {
      "cell_type": "code",
      "source": [
        "import requests\n",
        "from bs4 import BeautifulSoup\n",
        "homepage = requests.get('https://www.ptt.cc/bbs/hotboards.html')\n",
        "\n",
        "soup = BeautifulSoup(homepage.text,'lxml')"
      ],
      "metadata": {
        "id": "00PTxvwUBoT7"
      },
      "execution_count": 9,
      "outputs": []
    },
    {
      "cell_type": "code",
      "source": [
        "board_find = soup.find('a', class_= 'board')\n",
        "board_select = soup.select_one('a.board')"
      ],
      "metadata": {
        "id": "mmpfpZDMDUFq"
      },
      "execution_count": 10,
      "outputs": []
    },
    {
      "cell_type": "code",
      "source": [
        "print(board_select)"
      ],
      "metadata": {
        "colab": {
          "base_uri": "https://localhost:8080/"
        },
        "id": "DkCT0t3yDZIp",
        "outputId": "39fa5724-1656-4eea-8511-577da4cff7ea"
      },
      "execution_count": 11,
      "outputs": [
        {
          "output_type": "stream",
          "name": "stdout",
          "text": [
            "<a class=\"board\" href=\"/bbs/Gossiping/index.html\">\n",
            "<div class=\"board-name\">Gossiping</div>\n",
            "<div class=\"board-nuser\"><span class=\"hl f6\">12222</span></div>\n",
            "<div class=\"board-class\">綜合</div>\n",
            "<div class=\"board-title\">◎[八卦] 慟！8/5 PTT停機一天QQ\"</div>\n",
            "</a>\n"
          ]
        }
      ]
    },
    {
      "cell_type": "code",
      "source": [],
      "metadata": {
        "id": "8C-issLlDd_Q"
      },
      "execution_count": null,
      "outputs": []
    }
  ]
}