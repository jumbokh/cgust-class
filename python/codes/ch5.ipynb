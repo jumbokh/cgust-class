{
  "cells": [
    {
      "cell_type": "code",
      "execution_count": 2,
      "metadata": {
        "id": "8n8uSRhHluRB",
        "outputId": "8ee3f824-f82b-4d46-c322-280f33ceaed0",
        "colab": {
          "base_uri": "https://localhost:8080/"
        }
      },
      "outputs": [
        {
          "output_type": "stream",
          "name": "stdout",
          "text": [
            "請輸入任一數55\n",
            "55 55\n"
          ]
        }
      ],
      "source": [
        "#E_5_1 功能: 輸入一個數值，判斷若小於50則開根號乘以10\n",
        "import math\n",
        "num=int(input('請輸入任一數'))\n",
        "Tt=num\n",
        "if num<50:\n",
        "    Tt=math.sqrt(num)*10\n",
        "print(num,Tt)\n"
      ]
    },
    {
      "cell_type": "code",
      "execution_count": 5,
      "metadata": {
        "id": "KcnY0Ug9luRa",
        "outputId": "80403014-7651-4162-9db0-1038075881ce",
        "colab": {
          "base_uri": "https://localhost:8080/"
        }
      },
      "outputs": [
        {
          "output_type": "stream",
          "name": "stdout",
          "text": [
            "請輸入數據1-100: 35\n",
            "num= 35\n",
            "total=59\n"
          ]
        }
      ],
      "source": [
        "#E_5_2 功能: 輸入一個數值，判斷若小於50則開根號乘以10，否則加10。\n",
        "import math\n",
        "num=int(input('請輸入數據1-100: '))\n",
        "print('num= %d'% num)\n",
        "if num<50:\n",
        "    total=math.sqrt(num)*10\n",
        "else:\n",
        "    total=num+10\n",
        "print('total=%d' % round(total))"
      ]
    },
    {
      "cell_type": "markdown",
      "source": [
        "#### BMI = W/H^2,  W: Kg, H: M\n",
        "#### 1. 18.5 < BMI < 24  ==> Good\n",
        "#### 2. 24  < BMI < 27  ==> 過重\n",
        "#### 3. 27  < BMI < 30  ==> 輕度肥胖"
      ],
      "metadata": {
        "id": "0wl4hOpev7qg"
      }
    },
    {
      "cell_type": "code",
      "source": [
        "import math\n",
        "w = int(input('體重(kg): '))\n",
        "h = int(input('身高(cm): '))/100\n",
        "BMI = w/h**2\n",
        "print('BMI: %d'%BMI)\n",
        "if BMI < 18.5:\n",
        "  print('太瘦了')\n",
        "elif BMI > 24 and BMI <27:\n",
        "  print('胖囉')\n",
        "elif BMI > 18.5 and BMI < 24:\n",
        "  print('很讚')"
      ],
      "metadata": {
        "id": "OBDrI13yv63E",
        "outputId": "70247f30-3437-4ed2-cab8-7d0efbc81206",
        "colab": {
          "base_uri": "https://localhost:8080/"
        }
      },
      "execution_count": 6,
      "outputs": [
        {
          "output_type": "stream",
          "name": "stdout",
          "text": [
            "體重(kg): 74\n",
            "身高(cm): 177\n",
            "BMI: 23\n",
            "很讚\n"
          ]
        }
      ]
    },
    {
      "cell_type": "code",
      "source": [
        "score = 100 # assignment\n",
        "(score == 100)"
      ],
      "metadata": {
        "id": "XniIU2Nt0qMW",
        "outputId": "0a1d52ed-6bd5-4112-f023-2236769e5444",
        "colab": {
          "base_uri": "https://localhost:8080/"
        }
      },
      "execution_count": 8,
      "outputs": [
        {
          "output_type": "execute_result",
          "data": {
            "text/plain": [
              "True"
            ]
          },
          "metadata": {},
          "execution_count": 8
        }
      ]
    },
    {
      "cell_type": "code",
      "source": [
        "score"
      ],
      "metadata": {
        "id": "k_N-2_V40-Zn",
        "outputId": "f84dc2a2-66f2-4137-be5e-856e146715f8",
        "colab": {
          "base_uri": "https://localhost:8080/"
        }
      },
      "execution_count": 9,
      "outputs": [
        {
          "output_type": "execute_result",
          "data": {
            "text/plain": [
              "100"
            ]
          },
          "metadata": {},
          "execution_count": 9
        }
      ]
    },
    {
      "cell_type": "code",
      "execution_count": 7,
      "metadata": {
        "id": "jbeqZCkgluRc",
        "outputId": "3ed559c8-8737-4a92-d256-cad8dff5821e",
        "colab": {
          "base_uri": "https://localhost:8080/"
        }
      },
      "outputs": [
        {
          "output_type": "stream",
          "name": "stdout",
          "text": [
            "輸入成績0-100分: 75\n",
            "75 丙等\n"
          ]
        }
      ],
      "source": [
        "#E_5_3 功能: 成績分等級\n",
        "score=int(input('輸入成績0-100分: '))\n",
        "grade='輸入'\n",
        "if score<60:  #條件1\n",
        "    grade='戊等'\n",
        "elif score <70:  #條件2\n",
        "    grade='丁等'\n",
        "elif score<80:  #條件3\n",
        "    grade='丙等'\n",
        "elif score<90:  #條件4\n",
        "    grade='乙等'\n",
        "elif score<=100:  #條件5\n",
        "    grade='甲等'\n",
        "else:    #條件6\n",
        "    grade='輸入錯誤'\n",
        "print (score,grade)"
      ]
    },
    {
      "cell_type": "code",
      "source": [
        "sumi=0\n",
        "n=10\n",
        "for i in range(1,n+1):\n",
        "  sumi=sumi+i   # sumi += i\n",
        "  print(sumi,end=' ')\n",
        "print()\n",
        "print('Total = %d'% sumi)\n",
        "print('Total = {},{}'.format(sumi,n))"
      ],
      "metadata": {
        "id": "xdEQAynt2QYw",
        "outputId": "db0e707c-416b-448d-cf16-7710a5c8ccc7",
        "colab": {
          "base_uri": "https://localhost:8080/"
        }
      },
      "execution_count": 23,
      "outputs": [
        {
          "output_type": "stream",
          "name": "stdout",
          "text": [
            "1 3 6 10 15 21 28 36 45 55 \n",
            "Total = 55\n",
            "Total = 55,10\n"
          ]
        }
      ]
    },
    {
      "cell_type": "code",
      "source": [
        "for i in range(2,10):\n",
        "  for j in range(1,10):\n",
        "    print('{}x{}={:2d}'.format(i,j,i*j),end=' ')\n",
        "  print()"
      ],
      "metadata": {
        "id": "h3e9QG2s7-aT",
        "outputId": "e4a03184-6ea4-48fa-ad99-f82bb8379739",
        "colab": {
          "base_uri": "https://localhost:8080/"
        }
      },
      "execution_count": 32,
      "outputs": [
        {
          "output_type": "stream",
          "name": "stdout",
          "text": [
            "2x1= 2 2x2= 4 2x3= 6 2x4= 8 2x5=10 2x6=12 2x7=14 2x8=16 2x9=18 \n",
            "3x1= 3 3x2= 6 3x3= 9 3x4=12 3x5=15 3x6=18 3x7=21 3x8=24 3x9=27 \n",
            "4x1= 4 4x2= 8 4x3=12 4x4=16 4x5=20 4x6=24 4x7=28 4x8=32 4x9=36 \n",
            "5x1= 5 5x2=10 5x3=15 5x4=20 5x5=25 5x6=30 5x7=35 5x8=40 5x9=45 \n",
            "6x1= 6 6x2=12 6x3=18 6x4=24 6x5=30 6x6=36 6x7=42 6x8=48 6x9=54 \n",
            "7x1= 7 7x2=14 7x3=21 7x4=28 7x5=35 7x6=42 7x7=49 7x8=56 7x9=63 \n",
            "8x1= 8 8x2=16 8x3=24 8x4=32 8x5=40 8x6=48 8x7=56 8x8=64 8x9=72 \n",
            "9x1= 9 9x2=18 9x3=27 9x4=36 9x5=45 9x6=54 9x7=63 9x8=72 9x9=81 \n"
          ]
        }
      ]
    },
    {
      "cell_type": "code",
      "execution_count": 19,
      "metadata": {
        "id": "1Fb21aY1luRd",
        "outputId": "48cde0fc-50b4-4c77-d668-d25171fd0a35",
        "colab": {
          "base_uri": "https://localhost:8080/"
        }
      },
      "outputs": [
        {
          "output_type": "stream",
          "name": "stdout",
          "text": [
            "請輸入0-30的數值: 27\n",
            "請輸入性別: 1. 男  2. 女: 1\n",
            "你猜的數字比較大，還差很多\n"
          ]
        }
      ],
      "source": [
        "#E_5_4 功能: 猜數字遊戲\n",
        "num=int(input('請輸入0-30的數值: '))\n",
        "sex=input('請輸入性別: 1. 男  2. 女: ')\n",
        "nmax=30   #設定最大值\n",
        "nmin=0   #設定最小值\n",
        "bingo=18  #答案\n",
        "diff=0   #計算差額\n",
        "if num==bingo:  #條件1\n",
        "    if sex=='1':\n",
        "        print('帥哥，你猜對了，真棒!')\n",
        "    else:\n",
        "        print('美女，妳猜對了，了不起')\n",
        "elif (num < bingo) & (num>=nmin):  #條件2\n",
        "    diff=abs(num-bingo)\n",
        "    if diff<3:\n",
        "        print('你猜的數字比較小，已經接近了')\n",
        "    else:\n",
        "        print('你猜的數字比較小，還差很多')\n",
        "elif (num> bingo) & (num<=nmax):  #條件3\n",
        "    diff=num-bingo\n",
        "    if diff<3:\n",
        "        print('你猜的數字比較大，已經接近了')\n",
        "    else:\n",
        "        print('你猜的數字比較大，還差很多')\n",
        "else:  #條件4\n",
        "    if num<0 or num>30:\n",
        "        print('輸入超過數值範圍')"
      ]
    },
    {
      "cell_type": "code",
      "execution_count": null,
      "metadata": {
        "id": "M8HNdSLBluRe",
        "outputId": "4409f5f1-67b5-44b1-889c-df6790b51c3d"
      },
      "outputs": [
        {
          "name": "stdout",
          "output_type": "stream",
          "text": [
            "0\n",
            "2\n",
            "4\n",
            "6\n",
            "8\n"
          ]
        }
      ],
      "source": [
        "#E_5_4 功能: 迴圈依序印出序列的值\n",
        "for i in range(0, 10, 2):\n",
        "    print(i)\n"
      ]
    },
    {
      "cell_type": "code",
      "execution_count": null,
      "metadata": {
        "id": "yJdgBtbJluRf",
        "outputId": "f9726e1b-20f5-4e2c-90fe-c60e8f868624"
      },
      "outputs": [
        {
          "name": "stdout",
          "output_type": "stream",
          "text": [
            "1\n",
            "3\n",
            "6\n",
            "10\n",
            "15\n",
            "sumi = 15\n"
          ]
        }
      ],
      "source": [
        "#E_5_6 功能: 計算1累加到5的總和\n",
        "sumi=0\n",
        "n=5\n",
        "for i in range(1,n+1):\n",
        "    sumi=sumi+i\n",
        "    print(sumi)\n",
        "print('sumi =',sumi)"
      ]
    },
    {
      "cell_type": "code",
      "execution_count": null,
      "metadata": {
        "id": "j1bUr0tvluRg",
        "outputId": "bd7ec664-3471-4e7a-f2f7-c7973e14d967"
      },
      "outputs": [
        {
          "name": "stdout",
          "output_type": "stream",
          "text": [
            "1到100能被7整數的因子= [7, 14, 21, 28, 35, 42, 49, 56, 63, 70, 77, 84, 91, 98]\n",
            "1到100能被7整數的個數= 14\n",
            "1到100能被7整數的因子總合為= 735\n"
          ]
        }
      ],
      "source": [
        "#E_5_7 功能: 找出1～100能被7整除的因數、個數與總和。\n",
        "count=0  #累加1到100能被7整除的個數\n",
        "lis0=[]  #記錄1到100能被7整除的因子\n",
        "sumi=0   #累加1到100能被7整除的因子總合為\n",
        "for i in range(1,101):\n",
        "    [quotient, remainder]=divmod(i,7)\n",
        "    if remainder==0:\n",
        "        count=count+1\n",
        "        sumi=sumi+i\n",
        "        lis0.append(i)\n",
        "print('1到100能被7整數的因子=',lis0)\n",
        "print('1到100能被7整數的個數=',count)\n",
        "print('1到100能被7整數的因子總合為=',sumi)\n"
      ]
    },
    {
      "cell_type": "code",
      "execution_count": null,
      "metadata": {
        "id": "UoL8jUfYluRi",
        "outputId": "c8503d4a-469e-486d-9665-38d2faca7826"
      },
      "outputs": [
        {
          "name": "stdout",
          "output_type": "stream",
          "text": [
            "Please input n : 10\n",
            "The result is  7.07\n"
          ]
        }
      ],
      "source": [
        "#E_5_8 功能: 計算1-(1/n)的函數。\n",
        "n=int(input('Please input n : '))\n",
        "result=0\n",
        "for i in range(2,n+1,1):\n",
        "    result=result+(1-(1/i))\n",
        "print('%s %.2f' %('The result is ', result))"
      ]
    },
    {
      "cell_type": "code",
      "execution_count": null,
      "metadata": {
        "id": "fR7Oix01luRj",
        "outputId": "47299a9b-0d74-4a97-82dd-c6eaf5b53ab8"
      },
      "outputs": [
        {
          "name": "stdout",
          "output_type": "stream",
          "text": [
            "  5  1  7  2  3  9  7  0  6\n",
            "\n",
            "  7  6  8  0  2  7  5  4  8\n",
            "\n",
            "  5  7  5  7  3  7  8  0  7\n",
            "\n",
            "  0  5  3  8  2  4  8  3  6\n",
            "\n",
            "  4  6  9  6  6  4  0  9  4\n",
            "\n",
            "  2  9  8  7  9  9  1  5  7\n",
            "\n",
            "  5  9  6  2  1  3  3  5  3\n",
            "\n",
            "  9  8  6  4  9  8  7  1  7\n",
            "\n",
            "  5  3  3  9  1  5  6  2  9\n",
            "\n"
          ]
        }
      ],
      "source": [
        "# E_5_9 功能: 以雙迴圈(9列，9行)產生亂數(0到9)模擬二維陣列\n",
        "import random as rd\n",
        "for i in range(1, 10):  #外圈\n",
        "    for j in range(1, 10):  #內圈\n",
        "        num=rd.randint(0,9)\n",
        "        print('%3d'%(num), end='')\n",
        "    print('\\n')"
      ]
    },
    {
      "cell_type": "code",
      "execution_count": null,
      "metadata": {
        "id": "C_M-V-eZluRl",
        "outputId": "3810a532-aac4-4e5e-9135-d1635a56422f"
      },
      "outputs": [
        {
          "name": "stdout",
          "output_type": "stream",
          "text": [
            "1*1= 1 1*2= 2 1*3= 3 1*4= 4 1*5= 5 1*6= 6 1*7= 7 1*8= 8 1*9= 9 \n",
            "\n",
            "2*1= 2 2*2= 4 2*3= 6 2*4= 8 2*5=10 2*6=12 2*7=14 2*8=16 2*9=18 \n",
            "\n",
            "3*1= 3 3*2= 6 3*3= 9 3*4=12 3*5=15 3*6=18 3*7=21 3*8=24 3*9=27 \n",
            "\n",
            "4*1= 4 4*2= 8 4*3=12 4*4=16 4*5=20 4*6=24 4*7=28 4*8=32 4*9=36 \n",
            "\n",
            "5*1= 5 5*2=10 5*3=15 5*4=20 5*5=25 5*6=30 5*7=35 5*8=40 5*9=45 \n",
            "\n",
            "6*1= 6 6*2=12 6*3=18 6*4=24 6*5=30 6*6=36 6*7=42 6*8=48 6*9=54 \n",
            "\n",
            "7*1= 7 7*2=14 7*3=21 7*4=28 7*5=35 7*6=42 7*7=49 7*8=56 7*9=63 \n",
            "\n",
            "8*1= 8 8*2=16 8*3=24 8*4=32 8*5=40 8*6=48 8*7=56 8*8=64 8*9=72 \n",
            "\n",
            "9*1= 9 9*2=18 9*3=27 9*4=36 9*5=45 9*6=54 9*7=63 9*8=72 9*9=81 \n",
            "\n"
          ]
        }
      ],
      "source": [
        "# E_5_10 功能: 以巢狀迴圈產生9*9乘法表\n",
        "for i in range(1, 10):  #外圈\n",
        "    for j in range(1, 10):  #內圈\n",
        "        #print('%d*%d=%2d  '%(i,j,i*j), end='')\n",
        "        print('%d*%d=%2d '%(i,j,i*j),end='')\n",
        "    print('\\n')"
      ]
    },
    {
      "cell_type": "code",
      "execution_count": null,
      "metadata": {
        "id": "SqYmxEWzluRm",
        "outputId": "b15c474e-f2da-419d-d47c-7fb7b4a5a582"
      },
      "outputs": [
        {
          "name": "stdout",
          "output_type": "stream",
          "text": [
            "1\n",
            "4\n",
            "3\n",
            "6\n",
            "0\n",
            "共產生亂數5次\n"
          ]
        }
      ],
      "source": [
        "# E_5_11 功能:重覆產生亂數(0至9的整數)直到產生的值是零時結束。\n",
        "import random as rd\n",
        "num=rd.randint(0,9)\n",
        "count=1\n",
        "while num!=0:\n",
        "    print(num)\n",
        "    num=rd.randint(0,9)\n",
        "    count+=1\n",
        "print(num)\n",
        "print('%s%d%s' %('共產生亂數',count,'次'))"
      ]
    },
    {
      "cell_type": "code",
      "execution_count": null,
      "metadata": {
        "id": "sK8XmMHQluRn",
        "outputId": "0dbcaa39-68e1-4136-beba-fcfc2e184268"
      },
      "outputs": [
        {
          "name": "stdout",
          "output_type": "stream",
          "text": [
            "1*1= 1  1*2= 2  1*3= 3  1*4= 4  1*5= 5  1*6= 6  \n",
            "\n",
            "2*1= 2  2*2= 4  2*3= 6  2*4= 8  2*5=10  2*6=12  \n",
            "\n",
            "3*1= 3  3*2= 6  3*3= 9  3*4=12  3*5=15  3*6=18  \n",
            "\n",
            "5*1= 5  5*2=10  5*3=15  5*4=20  5*5=25  5*6=30  \n",
            "\n",
            "6*1= 6  6*2=12  6*3=18  6*4=24  6*5=30  6*6=36  \n",
            "\n",
            "7*1= 7  7*2=14  7*3=21  7*4=28  7*5=35  7*6=42  \n",
            "\n",
            "8*1= 8  8*2=16  8*3=24  8*4=32  8*5=40  8*6=48  \n",
            "\n",
            "9*1= 9  9*2=18  9*3=27  9*4=36  9*5=45  9*6=54  \n",
            "\n"
          ]
        }
      ],
      "source": [
        "# E_5_12 功能:以while迴圈產生9*9乘法表結合break 與continue。\n",
        "i=1\n",
        "j=1\n",
        "while i<=9: #外圈\n",
        "    if i==4:\n",
        "        i+=1\n",
        "        continue\n",
        "    while j<=9:  #內圈\n",
        "        if j==7:\n",
        "            break\n",
        "        print('%d*%d=%2d  '%(i,j,i*j), end='')\n",
        "        j+=1\n",
        "    j=1\n",
        "    i+=1\n",
        "    print('\\n')"
      ]
    },
    {
      "cell_type": "code",
      "execution_count": null,
      "metadata": {
        "id": "SoEMdNCPluRn",
        "outputId": "a4b24285-f18d-45cf-f93e-26f8004a63bf"
      },
      "outputs": [
        {
          "name": "stdout",
          "output_type": "stream",
          "text": [
            "0.0\n",
            "0.1\n",
            "0.2\n"
          ]
        }
      ],
      "source": [
        "# E_5_13 功能: range函數採先放大再縮小產生浮點數。\n",
        "for i in range(0, 3):\n",
        "    i=i/10\n",
        "    print(i)\n"
      ]
    },
    {
      "cell_type": "code",
      "execution_count": null,
      "metadata": {
        "id": "_XsbYlNfluRo",
        "outputId": "741c3072-9ff6-4e79-fa49-0a0d1a17a128"
      },
      "outputs": [
        {
          "name": "stdout",
          "output_type": "stream",
          "text": [
            "0.0\n",
            "0.1\n",
            "0.2\n"
          ]
        }
      ],
      "source": [
        "# E_5_14 功能: 使用arange函數產生浮點數。\n",
        "import numpy as np\n",
        "for i in np.arange(0, 0.3, 0.1):\n",
        "    print(i)\n"
      ]
    },
    {
      "cell_type": "code",
      "execution_count": null,
      "metadata": {
        "id": "cVh8emugluRo",
        "outputId": "0632230e-b5fb-4fec-87fc-cd43d33bd10c"
      },
      "outputs": [
        {
          "name": "stdout",
          "output_type": "stream",
          "text": [
            "area =  41.89504999999999\n"
          ]
        }
      ],
      "source": [
        "# E_5_15 功能: 積分計算面積。\n",
        "dx=1\n",
        "area=0\n",
        "y=0\n",
        "for x in range(200,500,dx):\n",
        "    x=x/100\n",
        "    y=(x**2)+1\n",
        "    area=area+(y*(dx/100))\n",
        "print('area = ', area)"
      ]
    },
    {
      "cell_type": "code",
      "execution_count": null,
      "metadata": {
        "id": "ImEd5JQuluRo",
        "outputId": "89d9d654-15c3-44dd-b7c8-6a0e79e82a6f"
      },
      "outputs": [
        {
          "name": "stdout",
          "output_type": "stream",
          "text": [
            "Please input dx =0.00001\n",
            "area =  41.9998950003\n"
          ]
        }
      ],
      "source": [
        "# E_5_15_2 功能: 積分計算面積(1)。\n",
        "import numpy as np\n",
        "dx=float(input('Please input dx =' ))\n",
        "area=0\n",
        "y=0\n",
        "for x in np.arange(2, 5, dx):\n",
        "    y=(x**2)+1\n",
        "    area=area+(y*dx)\n",
        "print('area = ', area)"
      ]
    },
    {
      "cell_type": "code",
      "execution_count": null,
      "metadata": {
        "id": "yHO4iKCmluRp",
        "outputId": "7f8a821e-f416-4732-8a2f-0016346f75b6"
      },
      "outputs": [
        {
          "name": "stdout",
          "output_type": "stream",
          "text": [
            "輸入 m= 10\n",
            "輸入 n= 7\n",
            "排列組合共有 120 方法\n"
          ]
        }
      ],
      "source": [
        "# E_5_16 功能: 排列組合。\n",
        "m=int(input('輸入 m= '))\n",
        "n=int(input('輸入 n= '))\n",
        "prodi=1 #計算m!\n",
        "prodj=1 #計算n!\n",
        "prodk=1 #計算m-n!\n",
        "for i in range(m,1,-1):\n",
        "    prodi=prodi*i\n",
        "for j in range(n,1,-1):\n",
        "    prodj=prodj*j\n",
        "k=m-n\n",
        "for k in range(k,1,-1):\n",
        "    prodk=prodk*k\n",
        "number=prodi/(prodj*prodk)\n",
        "print('%s %d %s' %('排列組合共有', number, '方法'))"
      ]
    },
    {
      "cell_type": "code",
      "execution_count": null,
      "metadata": {
        "id": "Eorxj7sOluRp",
        "outputId": "19ae54ec-4db1-4013-bcee-db4cef92597f"
      },
      "outputs": [
        {
          "name": "stdout",
          "output_type": "stream",
          "text": [
            "請輸入華氏溫度： abc\n",
            "請輸入數值資料\n"
          ]
        }
      ],
      "source": [
        "# RC_5_1 功能: 。\n",
        "data=input('請輸入華氏溫度： ')\n",
        "if data.isdigit():\n",
        "    Fahrenheit=int(data)\n",
        "    Celsius=(5/9)*(Fahrenheit-32)\n",
        "    print('攝氏溫度為', round(Celsius,1))\n",
        "else:\n",
        "    print('請輸入數值資料')"
      ]
    },
    {
      "cell_type": "code",
      "execution_count": null,
      "metadata": {
        "id": "pvRD-eIHluRp",
        "outputId": "72c29f0c-50a7-4bea-c238-92a847193b6c"
      },
      "outputs": [
        {
          "name": "stdout",
          "output_type": "stream",
          "text": [
            "請輸入景氣對策信號綜合分數 = 19\n",
            "黃藍燈\n"
          ]
        }
      ],
      "source": [
        "# RC_5_2 功能: 景氣對策信號。\n",
        "score=int(input('請輸入景氣對策信號綜合分數 = '))\n",
        "if score>=45 or score<9:\n",
        "    print('錯誤')\n",
        "elif score>=37:\n",
        "    print('紅燈')\n",
        "elif score>=31:\n",
        "    print('黃紅燈')\n",
        "elif score>=22:\n",
        "    print('綠燈')\n",
        "elif score>=16:\n",
        "    print('黃藍燈')\n",
        "elif score>=9:\n",
        "    print('藍燈')"
      ]
    },
    {
      "cell_type": "code",
      "execution_count": null,
      "metadata": {
        "id": "BtuNwP53luRq",
        "outputId": "e37df99a-d028-4658-91d6-df6de96840ff"
      },
      "outputs": [
        {
          "name": "stdout",
          "output_type": "stream",
          "text": [
            "請輸入淨年所得額: 11000000\n",
            "應繳稅額 =  3645000.0\n"
          ]
        }
      ],
      "source": [
        "# RC_5_3 功能: 簡化版個人綜合所得稅試算。\n",
        "level1=520000*0.05\n",
        "level2=(1170000-520000)*0.12\n",
        "level3=(2350000-1170000)*0.2\n",
        "level4=(4400000-2350000)*0.3\n",
        "level5=(10000000-4400000)*0.4\n",
        "income=int(input('請輸入淨年所得額: '))\n",
        "if income<=520000: #條件1\n",
        "    tax=income*0.05\n",
        "elif income<=1170000: #條件2\n",
        "    tax=level1+((income-520000)*0.12)\n",
        "elif income<= 2350000: #條件3\n",
        "    tax=level1+level2+((income-1170000)*0.2)\n",
        "elif income<=4400000: #條件4\n",
        "    tax=level1+level2+level3+((income-2350000)*0.3)\n",
        "elif income<=10000000: #條件5\n",
        "    tax=level1+level2+level3+level4+((income-4400000)*0.4)\n",
        "else: #條件6\n",
        "    tax=level1+level2+level3+level4+level5+((income-10000000)*0.45)\n",
        "print('應繳稅額 = ', tax)"
      ]
    },
    {
      "cell_type": "code",
      "execution_count": null,
      "metadata": {
        "id": "X5c0ot_uluRq",
        "outputId": "d99cee96-98b2-495a-c3b2-355d9adec35a"
      },
      "outputs": [
        {
          "name": "stdout",
          "output_type": "stream",
          "text": [
            "sample =  [5, 8, 9, 6, 4, 1, 5, 3, 6, 2]\n",
            "mean =  4.9\n",
            "max =  9\n",
            "min =  1\n",
            "variance =  6.32\n",
            "standard deviation =  2.51\n"
          ]
        }
      ],
      "source": [
        "# RC_5_4_1 功能: 敘述統計。\n",
        "import math\n",
        "sample=[5,8,9,6,4,1,5,3,6,2]\n",
        "n=len(sample)\n",
        "mean=sum(sample)/n\n",
        "sumi=0\n",
        "for i in range(0, n):\n",
        "    sumi=sumi+((sample[i]-mean)**2)\n",
        "var=sumi/(n-1)\n",
        "std=math.sqrt(var)\n",
        "print('sample = ', sample)\n",
        "print('mean = ', mean)\n",
        "print('max = ', max(sample))\n",
        "print('min = ', min(sample))\n",
        "print('variance = ', round(var,2))\n",
        "print('standard deviation = ', round(std,2))"
      ]
    },
    {
      "cell_type": "code",
      "execution_count": null,
      "metadata": {
        "id": "DkQkPfXxluRr",
        "outputId": "e4c1e066-043c-47dd-ac58-052abde6d2ba"
      },
      "outputs": [
        {
          "name": "stdout",
          "output_type": "stream",
          "text": [
            "sample =  [5, 8, 9, 6, 4, 1, 5, 3, 6, 2]\n",
            "mean =  4.9\n",
            "max =  9\n",
            "min =  1\n",
            "variance =  6.32\n",
            "standard deviation =  2.51\n"
          ]
        }
      ],
      "source": [
        "# RC_5_4_2 功能: 敘述統計。\n",
        "import statistics as st\n",
        "sample=[5,8,9,6,4,1,5,3,6,2]\n",
        "print('sample = ', sample)\n",
        "print('mean = ',  st.mean(sample))\n",
        "print('max = ',  max(sample))\n",
        "print('min = ',  min(sample))\n",
        "print('variance = ', round(st.variance(sample),2))\n",
        "print('standard deviation = ',  round(st.stdev(sample),2))"
      ]
    },
    {
      "cell_type": "code",
      "execution_count": null,
      "metadata": {
        "id": "yjErVfSqluRr",
        "outputId": "c45da8e5-4d0b-40ba-d807-464b29214401"
      },
      "outputs": [
        {
          "name": "stdout",
          "output_type": "stream",
          "text": [
            "共有 36 種換法\n"
          ]
        }
      ],
      "source": [
        "# RC_5_5 功能: 找零錢。\n",
        "count = 0\n",
        "for x in range(6):\n",
        "    for y in range(11):\n",
        "        for z in range(51):\n",
        "            if 10*x+5*y+z == 50:\n",
        "                count = count + 1\n",
        "print('%s %d %s' %('共有', count, '種換法'))"
      ]
    },
    {
      "cell_type": "code",
      "execution_count": null,
      "metadata": {
        "id": "7M0VaIY1luRr",
        "outputId": "28595706-84ae-4e30-afd7-f15c6208c98e"
      },
      "outputs": [
        {
          "name": "stdout",
          "output_type": "stream",
          "text": [
            "月存1萬,約 7.75 年可以存到 1006718.97 元\n",
            "年存12萬,約 8.00 年可以存到 1050555.41 元\n"
          ]
        }
      ],
      "source": [
        "# RC_5_6 功能: 儲存人生的第一桶金。\n",
        "mpv=10000  #月存金額\n",
        "ypv=120000  #年存金額\n",
        "r=0.02  #年利率\n",
        "target=1000000  #目標存款\n",
        "#月複利\n",
        "mfv=0  #月複利累計金額\n",
        "n=0  #期數\n",
        "while mfv<target:\n",
        "    mfv=(mpv+mfv)*(1+r/12)\n",
        "    n=n+1\n",
        "print('%s %.2f %s %.2f %s' %('月存1萬,約', n/12, '年可以存到', mfv, '元'))\n",
        "#年複利\n",
        "yfv=0 #年複利累計金額\n",
        "n=0\n",
        "while yfv<target:\n",
        "    yfv=(ypv+yfv)*(1+r)\n",
        "    n=n+1\n",
        "print('%s %.2f %s %.2f %s' %('年存12萬,約', n, '年可以存到', yfv, '元'))"
      ]
    },
    {
      "cell_type": "code",
      "execution_count": null,
      "metadata": {
        "id": "Mnulb7b0luRs",
        "outputId": "2be413c1-a5e8-4625-ef0d-f4fa1c9dd7a2"
      },
      "outputs": [
        {
          "name": "stdout",
          "output_type": "stream",
          "text": [
            "請輸入身份證字號 = H124077814\n",
            "sumn  8\n",
            "sumn  22\n",
            "sumn  46\n",
            "sumn  46\n",
            "sumn  74\n",
            "sumn  95\n",
            "sumn  111\n",
            "sumn  112\n",
            "Y =  180\n",
            "身份証號碼規則驗證正確\n"
          ]
        }
      ],
      "source": [
        "# RC_5_7 功能: 身分證號碼檢查。\n",
        "data=input('請輸入身份證字號 = ')\n",
        "id=data.upper()\n",
        "a1_dic={'A': '10', 'B': '11', 'C': '12', 'D': '13', 'E': '14', 'F': '15', \\\n",
        "'G': '16', 'H': '17', 'J': '18', 'K': '19', 'L': '20', 'M': '21',\\\n",
        "'N': '22', 'P': '23', 'Q': '24', 'R': '25', 'S': '26', 'T': '27', 'U': '28',\\\n",
        "'V': '29', 'X': '30', 'Y': '31', 'W': '32', 'Z': '33'}\n",
        "N=len(id)\n",
        "if (id.isalnum()) & (N==10) & (id[0].isalpha()) & (id[1:N].isdigit()):\n",
        "    A=id[0]\n",
        "    a1_value=a1_dic.get(A)\n",
        "    X1=int(a1_value[0])\n",
        "    X2=int(a1_value[1])\n",
        "    w=1\n",
        "    sumn=0\n",
        "    for k in range(N-2, 0, -1):\n",
        "        sumn=sumn+(int(id[w])*k)\n",
        "        w+=1\n",
        "        print('sumn ', sumn)\n",
        "    Y=X1+(X2*9)+sumn+int(id[w])\n",
        "    print('Y = ', Y)\n",
        "    [quotient, remainder]=divmod(Y,10)\n",
        "    if remainder==0:\n",
        "        print('身份証號碼規則驗證正確')\n",
        "    else:\n",
        "        print('身份証號碼規則驗證「不」正確')\n",
        "else:\n",
        "    print('請輸入第1個字元為英文字母，9個阿拉伯數字')"
      ]
    },
    {
      "cell_type": "code",
      "execution_count": null,
      "metadata": {
        "collapsed": true,
        "id": "VeUcvc-EluRs"
      },
      "outputs": [],
      "source": []
    }
  ],
  "metadata": {
    "kernelspec": {
      "display_name": "Python 3",
      "language": "python",
      "name": "python3"
    },
    "language_info": {
      "codemirror_mode": {
        "name": "ipython",
        "version": 3
      },
      "file_extension": ".py",
      "mimetype": "text/x-python",
      "name": "python",
      "nbconvert_exporter": "python",
      "pygments_lexer": "ipython3",
      "version": "3.6.0"
    },
    "colab": {
      "provenance": []
    }
  },
  "nbformat": 4,
  "nbformat_minor": 0
}