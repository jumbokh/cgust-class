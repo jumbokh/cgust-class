{
  "nbformat": 4,
  "nbformat_minor": 0,
  "metadata": {
    "colab": {
      "provenance": [],
      "authorship_tag": "ABX9TyOHFWDRUQePih4X0vYrJMxQ",
      "include_colab_link": true
    },
    "kernelspec": {
      "name": "python3",
      "display_name": "Python 3"
    },
    "language_info": {
      "name": "python"
    }
  },
  "cells": [
    {
      "cell_type": "markdown",
      "metadata": {
        "id": "view-in-github",
        "colab_type": "text"
      },
      "source": [
        "<a href=\"https://colab.research.google.com/github/jumbokh/cgust-class/blob/main/python/codes/ch5_101_0103.ipynb\" target=\"_parent\"><img src=\"https://colab.research.google.com/assets/colab-badge.svg\" alt=\"Open In Colab\"/></a>"
      ]
    },
    {
      "cell_type": "code",
      "execution_count": 6,
      "metadata": {
        "colab": {
          "base_uri": "https://localhost:8080/"
        },
        "id": "K8O-e4dGvuXc",
        "outputId": "d0c46ef3-81f9-4587-af6e-bed6769ea656"
      },
      "outputs": [
        {
          "output_type": "stream",
          "name": "stdout",
          "text": [
            "6\n"
          ]
        }
      ],
      "source": [
        "import random\n",
        "num=random.randint(1,6)\n",
        "print(num)"
      ]
    },
    {
      "cell_type": "code",
      "source": [
        "dir(random)"
      ],
      "metadata": {
        "id": "wDeEUP8k0ByV"
      },
      "execution_count": null,
      "outputs": []
    },
    {
      "cell_type": "code",
      "source": [
        "help(random.uniform)"
      ],
      "metadata": {
        "colab": {
          "base_uri": "https://localhost:8080/"
        },
        "id": "XtdGiaSL0Dd3",
        "outputId": "7f6e2d4f-484a-4d4d-edfd-6ad6fcd53eee"
      },
      "execution_count": 9,
      "outputs": [
        {
          "output_type": "stream",
          "name": "stdout",
          "text": [
            "Help on method uniform in module random:\n",
            "\n",
            "uniform(a, b) method of random.Random instance\n",
            "    Get a random number in the range [a, b) or [a, b] depending on rounding.\n",
            "\n"
          ]
        }
      ]
    },
    {
      "cell_type": "code",
      "source": [
        "random.uniform(1,6)"
      ],
      "metadata": {
        "colab": {
          "base_uri": "https://localhost:8080/"
        },
        "id": "knJ0xXho0Xk9",
        "outputId": "b82975d2-abd6-4d9b-b7e7-ee3805e27a39"
      },
      "execution_count": 10,
      "outputs": [
        {
          "output_type": "execute_result",
          "data": {
            "text/plain": [
              "1.401498221921417"
            ]
          },
          "metadata": {},
          "execution_count": 10
        }
      ]
    },
    {
      "cell_type": "code",
      "source": [
        "from random import randint as ri\n",
        "print(ri(1,6))"
      ],
      "metadata": {
        "colab": {
          "base_uri": "https://localhost:8080/"
        },
        "id": "9PQhMc-40fV0",
        "outputId": "c0570ba5-e67a-4d60-d775-dc20b39d6f12"
      },
      "execution_count": 11,
      "outputs": [
        {
          "output_type": "stream",
          "name": "stdout",
          "text": [
            "5\n"
          ]
        }
      ]
    },
    {
      "cell_type": "code",
      "source": [
        "num=list(range(0,5))\n",
        "print(num)\n",
        "print(random.choice(num))"
      ],
      "metadata": {
        "colab": {
          "base_uri": "https://localhost:8080/"
        },
        "id": "cb_I7gCq1jsp",
        "outputId": "c79139d5-bc8e-4f25-fbf2-7f981091e734"
      },
      "execution_count": 18,
      "outputs": [
        {
          "output_type": "stream",
          "name": "stdout",
          "text": [
            "[0, 1, 2, 3, 4]\n",
            "3\n"
          ]
        }
      ]
    },
    {
      "cell_type": "code",
      "source": [
        "import math\n",
        "num=int(input(\"請輸入成績? \"))\n",
        "Tt=num\n",
        "if num<50:\n",
        "  Tt=math.sqrt(num)*10\n",
        "print('num=%d, Tt=%3.2f'%(num,Tt))"
      ],
      "metadata": {
        "colab": {
          "base_uri": "https://localhost:8080/"
        },
        "id": "99BXahZv3xn5",
        "outputId": "fa97e276-3032-44a6-c1c7-f1eccecfec8d"
      },
      "execution_count": 19,
      "outputs": [
        {
          "output_type": "stream",
          "name": "stdout",
          "text": [
            "請輸入成績? 38\n",
            "num=38, Tt=61.64\n"
          ]
        }
      ]
    },
    {
      "cell_type": "code",
      "source": [
        "import math\n",
        "num=int(input(\"請輸入成績? \"))\n",
        "Tt=num\n",
        "if num<50:\n",
        "  Tt=math.sqrt(num)*10\n",
        "else:\n",
        "  Tt=Tt+10\n",
        "print('num=%d, Tt=%3.2f'%(num,Tt))"
      ],
      "metadata": {
        "colab": {
          "base_uri": "https://localhost:8080/"
        },
        "id": "H4_VhqjS9iKi",
        "outputId": "59e29f52-25c1-4340-dae4-24eb729f7d8b"
      },
      "execution_count": 20,
      "outputs": [
        {
          "output_type": "stream",
          "name": "stdout",
          "text": [
            "請輸入成績? 50\n",
            "num=50, Tt=60.00\n"
          ]
        }
      ]
    },
    {
      "cell_type": "code",
      "source": [
        "for i in range(0,10,2):\n",
        "  print(i)"
      ],
      "metadata": {
        "colab": {
          "base_uri": "https://localhost:8080/"
        },
        "id": "Rb-goRLqCHg5",
        "outputId": "f765aa32-d693-457c-fff8-7ff2a55f956f"
      },
      "execution_count": 21,
      "outputs": [
        {
          "output_type": "stream",
          "name": "stdout",
          "text": [
            "0\n",
            "2\n",
            "4\n",
            "6\n",
            "8\n"
          ]
        }
      ]
    },
    {
      "cell_type": "code",
      "source": [
        "sumi=0\n",
        "n=5\n",
        "for i in range(1,n+1):\n",
        "  sumi+=i\n",
        "  print(sumi)\n",
        "print('sumi=',sumi)"
      ],
      "metadata": {
        "colab": {
          "base_uri": "https://localhost:8080/"
        },
        "id": "xmJUC3psCLv5",
        "outputId": "dc416551-5892-461e-dd1a-7e6e17876973"
      },
      "execution_count": 22,
      "outputs": [
        {
          "output_type": "stream",
          "name": "stdout",
          "text": [
            "1\n",
            "3\n",
            "6\n",
            "10\n",
            "15\n",
            "sumi= 15\n"
          ]
        }
      ]
    }
  ]
}