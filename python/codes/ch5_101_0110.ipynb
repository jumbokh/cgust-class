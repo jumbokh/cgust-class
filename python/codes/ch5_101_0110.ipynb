{
  "nbformat": 4,
  "nbformat_minor": 0,
  "metadata": {
    "colab": {
      "provenance": []
    },
    "kernelspec": {
      "name": "python3",
      "display_name": "Python 3"
    },
    "language_info": {
      "name": "python"
    }
  },
  "cells": [
    {
      "cell_type": "code",
      "execution_count": 1,
      "metadata": {
        "colab": {
          "base_uri": "https://localhost:8080/"
        },
        "id": "tehVgrM-x1D7",
        "outputId": "d2c29722-faf0-4d9c-ba30-8c67e06869c1"
      },
      "outputs": [
        {
          "output_type": "stream",
          "name": "stdout",
          "text": [
            "Please input n : 10\n",
            "The result is  7.07\n"
          ]
        }
      ],
      "source": [
        "#E_5_8 功能: 計算1-(1/n)的函數。\n",
        "n=int(input('Please input n : '))\n",
        "result=0\n",
        "for i in range(2,n+1,1):\n",
        "    result=result+(1-(1/i))\n",
        "print('%s %.2f' %('The result is ', result))"
      ]
    },
    {
      "cell_type": "code",
      "source": [
        "from random import randint as ri\n",
        "for i in range(10):\n",
        " num=ri(1,6)\n",
        " print(' {:2d}'.format(num),end='')\n",
        "print()"
      ],
      "metadata": {
        "colab": {
          "base_uri": "https://localhost:8080/"
        },
        "id": "afvrmgVy0fCb",
        "outputId": "fbfca06c-bdd0-4d93-de99-7895376ed86a"
      },
      "execution_count": 6,
      "outputs": [
        {
          "output_type": "stream",
          "name": "stdout",
          "text": [
            "  4  5  6  1  6  1  6  6  2  2\n"
          ]
        }
      ]
    },
    {
      "cell_type": "code",
      "source": [
        "from random import randint as ri\n",
        "for i in range(10):\n",
        " print(' {:2d}'.format(ri(1,6)),end='')\n",
        "print()"
      ],
      "metadata": {
        "colab": {
          "base_uri": "https://localhost:8080/"
        },
        "id": "1YPNsMd32TpN",
        "outputId": "b9f23ffb-b8ea-43ff-8533-6958752c5c1e"
      },
      "execution_count": 7,
      "outputs": [
        {
          "output_type": "stream",
          "name": "stdout",
          "text": [
            "  5  4  5  6  6  5  4  3  6  1\n"
          ]
        }
      ]
    },
    {
      "cell_type": "code",
      "source": [
        "from random import randint as ri\n",
        "import random\n",
        "s=['A','B','C','D','E']\n",
        "for i in range(10):\n",
        " num=ri(1,6)\n",
        " print('{:2d} '.format(num),end='')\n",
        "print()\n",
        "for i in range(10):\n",
        " print(' {:2s}'.format(random.choice(s)),end='')\n",
        "print()"
      ],
      "metadata": {
        "colab": {
          "base_uri": "https://localhost:8080/"
        },
        "id": "NVIA9A_e5RZx",
        "outputId": "ab155e51-dcb4-4d85-dc91-d36a906d461b"
      },
      "execution_count": 11,
      "outputs": [
        {
          "output_type": "stream",
          "name": "stdout",
          "text": [
            " 6  6  6  5  6  1  2  1  6  1 \n",
            " A  D  C  E  E  B  C  A  A  B \n"
          ]
        }
      ]
    },
    {
      "cell_type": "code",
      "source": [
        "for i in range(1,10):\n",
        "  for j in range(1,10):\n",
        "    print('{}x{}={:2d}'.format(i,j,i*j),end=' ')\n",
        "  print()"
      ],
      "metadata": {
        "colab": {
          "base_uri": "https://localhost:8080/"
        },
        "id": "vhSAipCs53x4",
        "outputId": "023bfd66-caed-4337-dc57-ed06cac239ad"
      },
      "execution_count": 12,
      "outputs": [
        {
          "output_type": "stream",
          "name": "stdout",
          "text": [
            "1x1= 1 1x2= 2 1x3= 3 1x4= 4 1x5= 5 1x6= 6 1x7= 7 1x8= 8 1x9= 9 \n",
            "2x1= 2 2x2= 4 2x3= 6 2x4= 8 2x5=10 2x6=12 2x7=14 2x8=16 2x9=18 \n",
            "3x1= 3 3x2= 6 3x3= 9 3x4=12 3x5=15 3x6=18 3x7=21 3x8=24 3x9=27 \n",
            "4x1= 4 4x2= 8 4x3=12 4x4=16 4x5=20 4x6=24 4x7=28 4x8=32 4x9=36 \n",
            "5x1= 5 5x2=10 5x3=15 5x4=20 5x5=25 5x6=30 5x7=35 5x8=40 5x9=45 \n",
            "6x1= 6 6x2=12 6x3=18 6x4=24 6x5=30 6x6=36 6x7=42 6x8=48 6x9=54 \n",
            "7x1= 7 7x2=14 7x3=21 7x4=28 7x5=35 7x6=42 7x7=49 7x8=56 7x9=63 \n",
            "8x1= 8 8x2=16 8x3=24 8x4=32 8x5=40 8x6=48 8x7=56 8x8=64 8x9=72 \n",
            "9x1= 9 9x2=18 9x3=27 9x4=36 9x5=45 9x6=54 9x7=63 9x8=72 9x9=81 \n"
          ]
        }
      ]
    },
    {
      "cell_type": "markdown",
      "source": [
        "## BMI值計算\n",
        "\n",
        "##### BMI值計算公式:    BMI = 體重(公斤) / $身高^2$($公尺^2$)\n",
        "\n",
        "##### 例如：一個52公斤的人，身高是155公分，則BMI為 :\n",
        "\n",
        "##### 52(公斤)/$1.55^2$ ( $公尺^2$ )= 21.6\n",
        "\n",
        "##### 體重正常範圍為  BMI=18.5～24"
      ],
      "metadata": {
        "id": "jUyN6VOQCM78"
      }
    },
    {
      "cell_type": "code",
      "source": [
        "h=float(input('請輸入身高(公分)? '))\n",
        "w=float(input('請輸入體重(公斤)? '))\n",
        "bmi = w/(pow(h/100.,2))\n",
        "print('你的BMI值:{:6.2f}'.format(bmi))"
      ],
      "metadata": {
        "colab": {
          "base_uri": "https://localhost:8080/"
        },
        "id": "6tdbNz-j7x07",
        "outputId": "0563bccb-55cb-41e4-db9d-be3747114d87"
      },
      "execution_count": 13,
      "outputs": [
        {
          "output_type": "stream",
          "name": "stdout",
          "text": [
            "請輸入身高(公分)? 181\n",
            "請輸入體重(公斤)? 80\n",
            "你的BMI值: 24.42\n"
          ]
        }
      ]
    },
    {
      "cell_type": "code",
      "source": [
        "while True:\n",
        "  h=float(input('請輸入身高(公分)? '))\n",
        "  if h==0:\n",
        "    break\n",
        "  w=float(input('請輸入體重(公斤)? '))\n",
        "  bmi = w/(pow(h/100.,2))\n",
        "  print('你的BMI值:{:6.2f}'.format(bmi))"
      ],
      "metadata": {
        "colab": {
          "base_uri": "https://localhost:8080/"
        },
        "id": "8tKn0LNfFyZO",
        "outputId": "495fc39a-ffc1-4517-bac8-b00d5af36a48"
      },
      "execution_count": 14,
      "outputs": [
        {
          "name": "stdout",
          "output_type": "stream",
          "text": [
            "請輸入身高(公分)? 180\n",
            "請輸入體重(公斤)? 80\n",
            "你的BMI值: 24.69\n",
            "請輸入身高(公分)? 177\n",
            "請輸入體重(公斤)? 74\n",
            "你的BMI值: 23.62\n",
            "請輸入身高(公分)? 0\n"
          ]
        }
      ]
    },
    {
      "cell_type": "code",
      "source": [
        "def BMI():\n",
        "  h=float(input('請輸入身高(公分)? '))\n",
        "  w=float(input('請輸入體重(公斤)? '))\n",
        "  bmi = w/(pow(h/100.,2))\n",
        "  print('你的BMI值:{:6.2f}'.format(bmi))\n",
        "\n",
        "BMI()"
      ],
      "metadata": {
        "colab": {
          "base_uri": "https://localhost:8080/"
        },
        "id": "Xx0U8TQNGN1U",
        "outputId": "1d28e424-85d5-44eb-9bc1-9c163cef6b6e"
      },
      "execution_count": 15,
      "outputs": [
        {
          "output_type": "stream",
          "name": "stdout",
          "text": [
            "請輸入身高(公分)? 181\n",
            "請輸入體重(公斤)? 80\n",
            "你的BMI值: 24.42\n"
          ]
        }
      ]
    },
    {
      "cell_type": "code",
      "source": [
        "def BMI():\n",
        "  h=float(input('請輸入身高(公分)? '))\n",
        "  w=float(input('請輸入體重(公斤)? '))\n",
        "  bmi = w/(pow(h/100.,2))\n",
        "  print('你的BMI值:{:6.2f}'.format(bmi))\n",
        "\n",
        "while True:\n",
        "  BMI()\n",
        "  q=input('按q結束')\n",
        "  if q=='q':\n",
        "    break"
      ],
      "metadata": {
        "colab": {
          "base_uri": "https://localhost:8080/"
        },
        "id": "UkWzF84YHTnX",
        "outputId": "7869a2e3-996e-45a3-f468-7db0798485fb"
      },
      "execution_count": 16,
      "outputs": [
        {
          "name": "stdout",
          "output_type": "stream",
          "text": [
            "請輸入身高(公分)? 181\n",
            "請輸入體重(公斤)? 80\n",
            "你的BMI值: 24.42\n",
            "按q結束\n",
            "請輸入身高(公分)? 174\n",
            "請輸入體重(公斤)? 60\n",
            "你的BMI值: 19.82\n",
            "按q結束q\n"
          ]
        }
      ]
    },
    {
      "cell_type": "code",
      "source": [
        "i=1\n",
        "while i<10:\n",
        "  for j in range(10):\n",
        "     print('{}x{}={:2d}'.format(i,j,i*j),end=' ')\n",
        "  print()\n",
        "  i=i+1"
      ],
      "metadata": {
        "colab": {
          "base_uri": "https://localhost:8080/"
        },
        "id": "9wMww6dpIksg",
        "outputId": "f125832d-93b7-4d2b-e8bd-843d06d95b66"
      },
      "execution_count": 17,
      "outputs": [
        {
          "output_type": "stream",
          "name": "stdout",
          "text": [
            "1x0= 0 1x1= 1 1x2= 2 1x3= 3 1x4= 4 1x5= 5 1x6= 6 1x7= 7 1x8= 8 1x9= 9 \n",
            "2x0= 0 2x1= 2 2x2= 4 2x3= 6 2x4= 8 2x5=10 2x6=12 2x7=14 2x8=16 2x9=18 \n",
            "3x0= 0 3x1= 3 3x2= 6 3x3= 9 3x4=12 3x5=15 3x6=18 3x7=21 3x8=24 3x9=27 \n",
            "4x0= 0 4x1= 4 4x2= 8 4x3=12 4x4=16 4x5=20 4x6=24 4x7=28 4x8=32 4x9=36 \n",
            "5x0= 0 5x1= 5 5x2=10 5x3=15 5x4=20 5x5=25 5x6=30 5x7=35 5x8=40 5x9=45 \n",
            "6x0= 0 6x1= 6 6x2=12 6x3=18 6x4=24 6x5=30 6x6=36 6x7=42 6x8=48 6x9=54 \n",
            "7x0= 0 7x1= 7 7x2=14 7x3=21 7x4=28 7x5=35 7x6=42 7x7=49 7x8=56 7x9=63 \n",
            "8x0= 0 8x1= 8 8x2=16 8x3=24 8x4=32 8x5=40 8x6=48 8x7=56 8x8=64 8x9=72 \n",
            "9x0= 0 9x1= 9 9x2=18 9x3=27 9x4=36 9x5=45 9x6=54 9x7=63 9x8=72 9x9=81 \n"
          ]
        }
      ]
    },
    {
      "cell_type": "code",
      "source": [],
      "metadata": {
        "id": "wDJQYalwJjXO"
      },
      "execution_count": null,
      "outputs": []
    }
  ]
}