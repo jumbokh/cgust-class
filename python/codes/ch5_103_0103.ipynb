{
  "nbformat": 4,
  "nbformat_minor": 0,
  "metadata": {
    "colab": {
      "provenance": [],
      "authorship_tag": "ABX9TyNCGS9Nt2OCAlWXXxkKnGQU",
      "include_colab_link": true
    },
    "kernelspec": {
      "name": "python3",
      "display_name": "Python 3"
    },
    "language_info": {
      "name": "python"
    }
  },
  "cells": [
    {
      "cell_type": "markdown",
      "metadata": {
        "id": "view-in-github",
        "colab_type": "text"
      },
      "source": [
        "<a href=\"https://colab.research.google.com/github/jumbokh/cgust-class/blob/main/python/codes/ch5_103_0103.ipynb\" target=\"_parent\"><img src=\"https://colab.research.google.com/assets/colab-badge.svg\" alt=\"Open In Colab\"/></a>"
      ]
    },
    {
      "cell_type": "code",
      "execution_count": 9,
      "metadata": {
        "colab": {
          "base_uri": "https://localhost:8080/"
        },
        "id": "p6svL_I8tQZm",
        "outputId": "3547ac2a-8ba5-4ab8-8620-75e0b0003355"
      },
      "outputs": [
        {
          "output_type": "stream",
          "name": "stdout",
          "text": [
            "4\n"
          ]
        }
      ],
      "source": [
        "import random\n",
        "num=random.randint(1,6)\n",
        "print(num)"
      ]
    },
    {
      "cell_type": "code",
      "source": [
        "from random import randint as ri\n",
        "num=ri(1,10)\n",
        "print(num)"
      ],
      "metadata": {
        "colab": {
          "base_uri": "https://localhost:8080/"
        },
        "id": "UJK9XB6atsDE",
        "outputId": "54cf18bc-8015-41a5-ed2c-bfc391338648"
      },
      "execution_count": 10,
      "outputs": [
        {
          "output_type": "stream",
          "name": "stdout",
          "text": [
            "7\n"
          ]
        }
      ]
    },
    {
      "cell_type": "code",
      "source": [
        "num=list(range(1,5))\n",
        "print(num)\n",
        "print(random.choice(num))"
      ],
      "metadata": {
        "colab": {
          "base_uri": "https://localhost:8080/"
        },
        "id": "Rhr_dBlHv0vd",
        "outputId": "37474194-04b4-4656-920d-ba430f240a2b"
      },
      "execution_count": 19,
      "outputs": [
        {
          "output_type": "stream",
          "name": "stdout",
          "text": [
            "[1, 2, 3, 4]\n",
            "2\n"
          ]
        }
      ]
    },
    {
      "cell_type": "code",
      "source": [
        "import math\n",
        "num=int(input(\"請輸入成績? \"))\n",
        "Tt=num\n",
        "if num<50:\n",
        "  Tt=math.sqrt(num)*10\n",
        "print('num=%d, Tt=%3.2f'%(num,Tt))"
      ],
      "metadata": {
        "colab": {
          "base_uri": "https://localhost:8080/"
        },
        "id": "7hCA7nRaysQV",
        "outputId": "0fe3d5fa-831d-4f16-8247-689c0b87e96e"
      },
      "execution_count": 23,
      "outputs": [
        {
          "output_type": "stream",
          "name": "stdout",
          "text": [
            "請輸入成績? 40\n",
            "num=40, Tt=63.25\n"
          ]
        }
      ]
    },
    {
      "cell_type": "code",
      "source": [
        "import math\n",
        "num=int(input(\"請輸入成績?(1-100) \"))\n",
        "Tt=num\n",
        "if num<50:\n",
        "  Tt=math.sqrt(num)*10\n",
        "else:\n",
        "  Tt=num+10\n",
        "print('num=%d, Tt=%3.2f'%(num,Tt))"
      ],
      "metadata": {
        "colab": {
          "base_uri": "https://localhost:8080/"
        },
        "id": "6ZCOr5x35DBf",
        "outputId": "6cf6df01-11c6-4159-9a9d-8b1091bd96f9"
      },
      "execution_count": 25,
      "outputs": [
        {
          "output_type": "stream",
          "name": "stdout",
          "text": [
            "請輸入成績?(1-100) 49\n",
            "num=49, Tt=70.00\n"
          ]
        }
      ]
    },
    {
      "cell_type": "code",
      "source": [
        "for i in range(0,10,2):\n",
        "  print(i)"
      ],
      "metadata": {
        "colab": {
          "base_uri": "https://localhost:8080/"
        },
        "id": "BfbKNGDzASvz",
        "outputId": "549e4270-ac37-434b-9ace-261055f0a67e"
      },
      "execution_count": 26,
      "outputs": [
        {
          "output_type": "stream",
          "name": "stdout",
          "text": [
            "0\n",
            "2\n",
            "4\n",
            "6\n",
            "8\n"
          ]
        }
      ]
    },
    {
      "cell_type": "code",
      "source": [],
      "metadata": {
        "id": "qaggjEVkAX0U"
      },
      "execution_count": null,
      "outputs": []
    }
  ]
}