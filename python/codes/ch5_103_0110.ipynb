{
  "nbformat": 4,
  "nbformat_minor": 0,
  "metadata": {
    "colab": {
      "provenance": []
    },
    "kernelspec": {
      "name": "python3",
      "display_name": "Python 3"
    },
    "language_info": {
      "name": "python"
    }
  },
  "cells": [
    {
      "cell_type": "code",
      "execution_count": 2,
      "metadata": {
        "colab": {
          "base_uri": "https://localhost:8080/"
        },
        "id": "o3pClVupx4kP",
        "outputId": "cb296c77-2c1f-44da-d994-8ee484177e1d"
      },
      "outputs": [
        {
          "output_type": "stream",
          "name": "stdout",
          "text": [
            "Please input n : 10\n",
            "The result is  7.07\n"
          ]
        }
      ],
      "source": [
        "#E_5_8 功能: 計算1-(1/n)的函數。\n",
        "n=int(input('Please input n : '))\n",
        "result=0\n",
        "for i in range(2,n+1,1):\n",
        "    result=result+(1-(1/i))\n",
        "print('%s %.2f' %('The result is ', result))"
      ]
    },
    {
      "cell_type": "code",
      "source": [
        "from random import randint as ri\n",
        "import random\n",
        "s=['A','B','C','D','E']\n",
        "for i in range(10):\n",
        "  print('%2d'%ri(1,6),end=\" \")\n",
        "print()\n",
        "for i in range(10):\n",
        "  print('%2s'%random.choice(s),end=\" \")\n",
        "print()"
      ],
      "metadata": {
        "colab": {
          "base_uri": "https://localhost:8080/"
        },
        "id": "5_zZ3rk_yAZo",
        "outputId": "c1e9b835-2166-4135-aeb4-031b024ef675"
      },
      "execution_count": 11,
      "outputs": [
        {
          "output_type": "stream",
          "name": "stdout",
          "text": [
            " 2  1  3  6  5  5  4  1  5  5 \n",
            " E  B  D  B  D  C  D  C  E  B \n"
          ]
        }
      ]
    },
    {
      "cell_type": "code",
      "source": [
        "for i in range(1,10):\n",
        "  for j in range(1,10):\n",
        "    print('{}x{}={:2d}'.format(i,j,i*j),end=' ')\n",
        "  print()"
      ],
      "metadata": {
        "colab": {
          "base_uri": "https://localhost:8080/"
        },
        "id": "RJ4k1T6-2DNS",
        "outputId": "4bbc719f-c10b-4412-96ba-7e9ebf6db130"
      },
      "execution_count": 9,
      "outputs": [
        {
          "output_type": "stream",
          "name": "stdout",
          "text": [
            "1x1= 1 1x2= 2 1x3= 3 1x4= 4 1x5= 5 1x6= 6 1x7= 7 1x8= 8 1x9= 9 \n",
            "2x1= 2 2x2= 4 2x3= 6 2x4= 8 2x5=10 2x6=12 2x7=14 2x8=16 2x9=18 \n",
            "3x1= 3 3x2= 6 3x3= 9 3x4=12 3x5=15 3x6=18 3x7=21 3x8=24 3x9=27 \n",
            "4x1= 4 4x2= 8 4x3=12 4x4=16 4x5=20 4x6=24 4x7=28 4x8=32 4x9=36 \n",
            "5x1= 5 5x2=10 5x3=15 5x4=20 5x5=25 5x6=30 5x7=35 5x8=40 5x9=45 \n",
            "6x1= 6 6x2=12 6x3=18 6x4=24 6x5=30 6x6=36 6x7=42 6x8=48 6x9=54 \n",
            "7x1= 7 7x2=14 7x3=21 7x4=28 7x5=35 7x6=42 7x7=49 7x8=56 7x9=63 \n",
            "8x1= 8 8x2=16 8x3=24 8x4=32 8x5=40 8x6=48 8x7=56 8x8=64 8x9=72 \n",
            "9x1= 9 9x2=18 9x3=27 9x4=36 9x5=45 9x6=54 9x7=63 9x8=72 9x9=81 \n"
          ]
        }
      ]
    },
    {
      "cell_type": "markdown",
      "source": [
        "## BMI值計算\n",
        "\n",
        "##### BMI值計算公式:    BMI = 體重(公斤) / $身高^2$($公尺^2$)\n",
        "\n",
        "##### 例如：一個52公斤的人，身高是155公分，則BMI為 :\n",
        "\n",
        "##### 52(公斤)/$1.55^2$ ( $公尺^2$ )= 21.6\n",
        "\n",
        "##### 體重正常範圍為  BMI=18.5～24\n",
        "......................................................................................................................"
      ],
      "metadata": {
        "id": "UuGP-VwR8xEZ"
      }
    },
    {
      "cell_type": "code",
      "source": [
        "h=float(input('請輸入身高(公分)? '))\n",
        "w=float(input('請輸入體重(公斤)? '))\n",
        "bmi = w/(pow(h/100.,2))\n",
        "print('你的BMI值:{:5.2f}'.format(bmi))"
      ],
      "metadata": {
        "colab": {
          "base_uri": "https://localhost:8080/"
        },
        "id": "MwkvFutW9LnM",
        "outputId": "6556301c-6e7b-4ce2-e11a-7d8eb8b0cc26"
      },
      "execution_count": 13,
      "outputs": [
        {
          "output_type": "stream",
          "name": "stdout",
          "text": [
            "請輸入身高(公分)? 177\n",
            "請輸入體重(公斤)? 85\n",
            "你的BMI值:27.13\n"
          ]
        }
      ]
    },
    {
      "cell_type": "code",
      "source": [
        "def bmi():\n",
        "  h=float(input('請輸入身高(公分)? '))\n",
        "  if h==0:\n",
        "    return 0\n",
        "  w=float(input('請輸入體重(公斤)? '))\n",
        "  bmi = w/(pow(h/100.,2))\n",
        "  print('你的BMI值:{:5.2f}'.format(bmi))\n",
        "  return 1\n",
        "\n",
        "while 1:\n",
        "  if bmi()==0:\n",
        "    break"
      ],
      "metadata": {
        "colab": {
          "base_uri": "https://localhost:8080/"
        },
        "id": "Tj9dLp4aE9bt",
        "outputId": "12c1d613-f9e2-4274-ecb1-dcacb43a7da1"
      },
      "execution_count": 15,
      "outputs": [
        {
          "name": "stdout",
          "output_type": "stream",
          "text": [
            "請輸入身高(公分)? 177\n",
            "請輸入體重(公斤)? 84\n",
            "你的BMI值:26.81\n",
            "請輸入身高(公分)? 0\n"
          ]
        }
      ]
    },
    {
      "cell_type": "code",
      "source": [
        "i=1\n",
        "while i<10:\n",
        "  for j in range(10):\n",
        "     print('{}x{}={:2d}'.format(i,j,i*j),end=' ')\n",
        "  print()\n",
        "  i=i+1"
      ],
      "metadata": {
        "colab": {
          "base_uri": "https://localhost:8080/"
        },
        "id": "fM3e4s_DAXV3",
        "outputId": "1c3c6e93-8c5a-439d-a5a5-65a4fdc113cc"
      },
      "execution_count": 14,
      "outputs": [
        {
          "output_type": "stream",
          "name": "stdout",
          "text": [
            "1x0= 0 1x1= 1 1x2= 2 1x3= 3 1x4= 4 1x5= 5 1x6= 6 1x7= 7 1x8= 8 1x9= 9 \n",
            "2x0= 0 2x1= 2 2x2= 4 2x3= 6 2x4= 8 2x5=10 2x6=12 2x7=14 2x8=16 2x9=18 \n",
            "3x0= 0 3x1= 3 3x2= 6 3x3= 9 3x4=12 3x5=15 3x6=18 3x7=21 3x8=24 3x9=27 \n",
            "4x0= 0 4x1= 4 4x2= 8 4x3=12 4x4=16 4x5=20 4x6=24 4x7=28 4x8=32 4x9=36 \n",
            "5x0= 0 5x1= 5 5x2=10 5x3=15 5x4=20 5x5=25 5x6=30 5x7=35 5x8=40 5x9=45 \n",
            "6x0= 0 6x1= 6 6x2=12 6x3=18 6x4=24 6x5=30 6x6=36 6x7=42 6x8=48 6x9=54 \n",
            "7x0= 0 7x1= 7 7x2=14 7x3=21 7x4=28 7x5=35 7x6=42 7x7=49 7x8=56 7x9=63 \n",
            "8x0= 0 8x1= 8 8x2=16 8x3=24 8x4=32 8x5=40 8x6=48 8x7=56 8x8=64 8x9=72 \n",
            "9x0= 0 9x1= 9 9x2=18 9x3=27 9x4=36 9x5=45 9x6=54 9x7=63 9x8=72 9x9=81 \n"
          ]
        }
      ]
    },
    {
      "cell_type": "code",
      "source": [],
      "metadata": {
        "id": "3BA50_x-DfJ2"
      },
      "execution_count": null,
      "outputs": []
    }
  ]
}