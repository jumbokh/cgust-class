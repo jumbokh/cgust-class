{
 "cells": [
  {
   "cell_type": "code",
   "execution_count": 1,
   "metadata": {
    "collapsed": false
   },
   "outputs": [
    {
     "name": "stdout",
     "output_type": "stream",
     "text": [
      "輸入一個正整數n = 10\n",
      "1累加到n的結果 =  55\n"
     ]
    }
   ],
   "source": [
    "#sumn_def.py功能: 主程式呼叫1層自訂函數\n",
    "def sumnfunc(n):\n",
    "#A_func功能: 計算累加\n",
    "    sumn=0\n",
    "    for i in range(n+1):\n",
    "        sumn=sumn+i\n",
    "    return(sumn)\n",
    "num=int(input('輸入一個正整數n = '))    \n",
    "result=sumnfunc(num)\n",
    "print('1累加到n的結果 = ', result)\n",
    "\n"
   ]
  },
  {
   "cell_type": "code",
   "execution_count": 3,
   "metadata": {
    "collapsed": false
   },
   "outputs": [
    {
     "name": "stdout",
     "output_type": "stream",
     "text": [
      "輸入一個正整數n = 5\n",
      "1累加到n的結果 =  15\n",
      "1累乘到n的結果 =  120\n"
     ]
    }
   ],
   "source": [
    "#E_6_2.py功能: 主程式呼叫2層的自訂函數\n",
    "def callfunc(n):\n",
    "#callfunc功能: 檢查數值型別與呼叫函數\n",
    "    if n.isdigit():\n",
    "        number=int(n)        \n",
    "        print('1累加到n的結果 = ', sumnfunc(number))        \n",
    "        print('1累乘到n的結果 = ', prodnfunc(number))        \n",
    "    else:\n",
    "        print('請輸入數值資料')    \n",
    "def sumnfunc(n):\n",
    "#sumnfunc: 計算累加    \n",
    "    sumn=0\n",
    "    for i in range(1,n+1):\n",
    "        sumn=sumn+i\n",
    "    return(sumn)   \n",
    "def prodnfunc(n):\n",
    "#prodnfunc功能: 計算累乘\n",
    "    prodn=1\n",
    "    for i in range(1,n+1):\n",
    "        prodn=prodn*i\n",
    "    return(prodn)    \n",
    "num=input('輸入一個正整數n = ')\n",
    "callfunc(num)\n",
    "\n",
    "\n"
   ]
  },
  {
   "cell_type": "code",
   "execution_count": 4,
   "metadata": {
    "collapsed": false
   },
   "outputs": [
    {
     "name": "stdout",
     "output_type": "stream",
     "text": [
      "max=9.0,min=1.0, mean=4.9,var=6.3,std=2.5\n"
     ]
    }
   ],
   "source": [
    "#descrip_stat.py功能: 以自訂函數寫法計算敍述統計並回傳\n",
    "import math\n",
    "def depsta(sample):\n",
    "#depsta功能: 計算樣本的敍述統計    \n",
    "    maxv=max(sample)\n",
    "    minv=min(sample)\n",
    "    meanv=sum(sample)/len(sample)\n",
    "    sumi=0\n",
    "    for i in range(0, len(sample)):\n",
    "        sumi=sumi+((sample[i]-meanv)**2)\n",
    "    varv=sumi/(len(sample)-1)    \n",
    "    stdv=math.sqrt(varv)\n",
    "    return(maxv, minv, meanv, varv, stdv)\n",
    "sample=[5,8,9,6,4,1,5,3,6,2]\n",
    "print('max=%2.1f,min=%2.1f, mean=%2.1f,var=%2.1f,std=%2.1f'%(depsta(sample)))\n"
   ]
  },
  {
   "cell_type": "code",
   "execution_count": 5,
   "metadata": {
    "collapsed": false
   },
   "outputs": [
    {
     "name": "stdout",
     "output_type": "stream",
     "text": [
      "呼叫函數前的原始值 [5, 8, 9, 6, 4, 1, 5, 3, 6, 2]\n",
      "呼叫函數後的內容值 [5, 8, 9, 6, 4, 1, 5, 3, 6, 2, 4.9]\n",
      "呼叫函數後的原始值也會被改變 [5, 8, 9, 6, 4, 1, 5, 3, 6, 2, 4.9]\n"
     ]
    }
   ],
   "source": [
    "#E_6_4.py 功能: 傳址的操作範例\n",
    "def callbyreference(number):\n",
    "#callbyreference函數功能: 計算平均新增到傳入參數之後    \n",
    "    n=len(number)\n",
    "    meanv=sum(number)/n\n",
    "    number.append(meanv)\n",
    "    return number\n",
    "sample=[5,8,9,6,4,1,5,3,6,2]\n",
    "print('呼叫函數前的原始值', sample)\n",
    "print('呼叫函數後的內容值', callbyreference(sample))\n",
    "print('呼叫函數後的原始值也會被改變', sample)\n"
   ]
  },
  {
   "cell_type": "code",
   "execution_count": 9,
   "metadata": {
    "collapsed": false
   },
   "outputs": [
    {
     "name": "stdout",
     "output_type": "stream",
     "text": [
      "呼叫函數前的原始值 4\n",
      "呼叫函數後的內容值 16\n",
      "呼叫函數前的原始值不會被改變 4\n"
     ]
    }
   ],
   "source": [
    "#E_6_5.py 功能: 傳值的操作範例\n",
    "def callbyvalue(number):\n",
    "#callbyvalue函數功能: 計算參數乘上自己後回傳    \n",
    "    number*=number\n",
    "    return number\n",
    "sample=4\n",
    "print('呼叫函數前的原始值', sample)\n",
    "print('呼叫函數後的內容值', callbyvalue(sample))\n",
    "print('呼叫函數前的原始值不會被改變', sample)\n",
    "\n",
    "\n"
   ]
  },
  {
   "cell_type": "code",
   "execution_count": 11,
   "metadata": {
    "collapsed": false
   },
   "outputs": [
    {
     "name": "stdout",
     "output_type": "stream",
     "text": [
      "呼叫函數(x**2)+(4*x)+6 = 38\n"
     ]
    }
   ],
   "source": [
    "#E_6_7.py 功能: 位置參數的使用範例\n",
    "def polyequ(x):\n",
    "#polyequ: 計算(x**2)+(4*x)+6的結果    \n",
    "    return (x**2)+(4*x)+6\n",
    "result=polyequ(4)\n",
    "print('呼叫函數(x**2)+(4*x)+6 =', result)\n",
    "\n",
    "\n",
    "#sample=4    \n",
    "#result=polyequ(sample)"
   ]
  },
  {
   "cell_type": "code",
   "execution_count": 8,
   "metadata": {
    "collapsed": false
   },
   "outputs": [
    {
     "name": "stdout",
     "output_type": "stream",
     "text": [
      "呼叫函數(x**2)+(4*x)+6 = 38\n"
     ]
    }
   ],
   "source": [
    "#E_6_5.py 功能: 實際參數與形式參數的函數傳遞參數範例\n",
    "def polyequ(x):\n",
    "#polyequ: 計算(x**2)+(4*x)+6的結果    \n",
    "    return (x**2)+(4*x)+6\n",
    "result=polyequ(4)\n",
    "print('呼叫函數(x**2)+(4*x)+6 =', result)\n",
    "\n",
    "\n",
    "\n",
    "#sample=4    \n",
    "#result=polyequ(sample)"
   ]
  },
  {
   "cell_type": "code",
   "execution_count": 12,
   "metadata": {
    "collapsed": false
   },
   "outputs": [
    {
     "name": "stdout",
     "output_type": "stream",
     "text": [
      "Jack 的成績 = 40.00 \n",
      "Jack 的成績 = 63.25 \n",
      "Jack 的成績 = 60.00 \n",
      "Jack 的成績 = 55.00 \n",
      "Jack 的成績 = 63.25 \n"
     ]
    }
   ],
   "source": [
    "#E_6_8.py 功能: 預設參數的使用範例\n",
    "import math\n",
    "def defaultscore(score=40):\n",
    "#defaultscore: 判斷若小於50則開根號乘以10 \n",
    "    if score<50:\n",
    "        return math.sqrt(score)*10\n",
    "    else:\n",
    "        return score\n",
    "name='Jack'\n",
    "ss=[16,'',36,55,'']\n",
    "for ii in  ss:\n",
    "    if type(ii) is int:\n",
    "        result=defaultscore(ii)\n",
    "    else:\n",
    "        result=defaultscore()\n",
    "    print('%s 的成績 = %4.2f ' % (name, result))\n"
   ]
  },
  {
   "cell_type": "code",
   "execution_count": 16,
   "metadata": {
    "collapsed": false
   },
   "outputs": [
    {
     "ename": "SyntaxError",
     "evalue": "non-default argument follows default argument (<ipython-input-16-a84697e7306e>, line 2)",
     "output_type": "error",
     "traceback": [
      "\u001b[0;36m  File \u001b[0;32m\"<ipython-input-16-a84697e7306e>\"\u001b[0;36m, line \u001b[0;32m2\u001b[0m\n\u001b[0;31m    def showinf( name, age = 35, height):\u001b[0m\n\u001b[0m                ^\u001b[0m\n\u001b[0;31mSyntaxError\u001b[0m\u001b[0;31m:\u001b[0m non-default argument follows default argument\n"
     ]
    }
   ],
   "source": [
    "#E_6_9.py 功能: 預設參數之後不能再有參數的範例\n",
    "def showinf( name, age = 35, height):\n",
    "    print('Name = ', name)\n",
    "    print('Age = ', age)\n",
    "showinf( name='Jeremy',age=50, height=180)\n",
    "\n"
   ]
  },
  {
   "cell_type": "code",
   "execution_count": 17,
   "metadata": {
    "collapsed": false
   },
   "outputs": [
    {
     "name": "stdout",
     "output_type": "stream",
     "text": [
      "result = 9\n"
     ]
    }
   ],
   "source": [
    "#E_6_10.py 功能: 實際參數加*號，代入可迭代者的範例\n",
    "def func1(x, coe1,coe2):\n",
    "#func1: 計算x乘上系數後再相加\n",
    "    return (x*coe1)+(x*coe2)\n",
    "print('result =',func1(3, *range(1,3)))"
   ]
  },
  {
   "cell_type": "code",
   "execution_count": 18,
   "metadata": {
    "collapsed": false
   },
   "outputs": [
    {
     "name": "stdout",
     "output_type": "stream",
     "text": [
      "result = {'甲': 90, '乙': 80, '丙': 70}\n"
     ]
    }
   ],
   "source": [
    "#E_6_11.py 功能: 實際參數與「**」的用法，代入映射物件的範例\n",
    "def transfer(w, A,B,C):\n",
    "#transfer: 傳進的原始值*w後放入字典回傳\n",
    "    newdic={'甲': w*A, '乙': w*B, '丙': w*C}\n",
    "    return (newdic)\n",
    "weight=10    \n",
    "dic={'A': 9, 'B': 8, 'C':7}\n",
    "print('result =',transfer(weight, **dic))"
   ]
  },
  {
   "cell_type": "code",
   "execution_count": 19,
   "metadata": {
    "collapsed": false
   },
   "outputs": [
    {
     "name": "stdout",
     "output_type": "stream",
     "text": [
      "total1 = 19, total2 = 16, max = 19\n"
     ]
    }
   ],
   "source": [
    "#E_6_12.py 功能: 形式參數與「*」的用法，代入空的tuple範例\n",
    "def sumdata(a,b,c,*d):\n",
    "#sumdata: 傳進的原始值加總, tuple也加總\n",
    "    sum1=a+b+c\n",
    "    sum2=sum(d)\n",
    "    return (sum1, sum2)\n",
    "[t1, t2]=sumdata(5,6,8,2,6,8)\n",
    "print('total1 = %d, total2 = %d, max = %d' %(t1, t2, max(t1,t2)))\n"
   ]
  },
  {
   "cell_type": "code",
   "execution_count": 21,
   "metadata": {
    "collapsed": false
   },
   "outputs": [
    {
     "name": "stdout",
     "output_type": "stream",
     "text": [
      "先生您好, 您負責的銷售區域之銷售金額 = 12000\n"
     ]
    }
   ],
   "source": [
    "#E_6_13.py 功能: 形式參數與「**」的用法，代入空的dict範例\n",
    "def sales(n,**d):\n",
    "#sales 功能: 1. 判斷性別以及2. 加總字典的值\n",
    "    if n==1:\n",
    "        sex='先生'\n",
    "    else:\n",
    "        sex='小姐'\n",
    "    return (sex, sum(d.values()))\n",
    "[sex,total]=sales(1,A=5000, B=4000, C=3000)\n",
    "print('%s您好, 您負責的銷售區域之銷售金額 = %d' %(sex, total))\n",
    "\n"
   ]
  },
  {
   "cell_type": "code",
   "execution_count": 22,
   "metadata": {
    "collapsed": false
   },
   "outputs": [
    {
     "name": "stdout",
     "output_type": "stream",
     "text": [
      "x = 10 in global\n",
      "x = 5 in func2\n"
     ]
    }
   ],
   "source": [
    "#E_6_14.py 功能: 變數命名空間的範圍\n",
    "def func2():\n",
    "#func2: 在自訂函數內印出x    \n",
    "    x=5\n",
    "    print('x = %d %s'  %(x, 'in func2'))\n",
    "x=10    \n",
    "print('x = %d %s'  %(x, 'in global'))\n",
    "func2()    "
   ]
  },
  {
   "cell_type": "code",
   "execution_count": 23,
   "metadata": {
    "collapsed": false
   },
   "outputs": [
    {
     "name": "stdout",
     "output_type": "stream",
     "text": [
      "y in func3 =  True\n",
      "y in global =  False\n",
      "x in global =  True\n",
      "func3 in global =  True\n"
     ]
    }
   ],
   "source": [
    "#E_6_15.py 功能: 區域變數與全域變數在變數命名空間的查詢\n",
    "def func3():\n",
    "#func3: 在函數內查詢並印出y是否在區域變數在變數命名空間  \n",
    "    y=6\n",
    "    print('y in func3 = ', 'y' in locals())\n",
    "x=3    \n",
    "func3()\n",
    "print('y in global = ', 'y' in globals())\n",
    "print('x in global = ', 'x' in globals())\n",
    "print('func3 in global = ', 'func3' in globals())\n",
    "  "
   ]
  },
  {
   "cell_type": "code",
   "execution_count": 24,
   "metadata": {
    "collapsed": false
   },
   "outputs": [
    {
     "name": "stdout",
     "output_type": "stream",
     "text": [
      "global variable print inside func4\n",
      "global variable print outside func4\n"
     ]
    }
   ],
   "source": [
    "#E_6_16.py 功能: 印出變數所屬區域變數範圍或全域變數範圍\n",
    "def func4():\n",
    "#func4: 在函數內印出全域變數  \n",
    "     print(global_var, 'print inside func4')\n",
    "global_var='global variable'    \n",
    "func4()\n",
    "print(global_var, 'print outside func4')"
   ]
  },
  {
   "cell_type": "code",
   "execution_count": 25,
   "metadata": {
    "collapsed": false
   },
   "outputs": [
    {
     "name": "stdout",
     "output_type": "stream",
     "text": [
      "before call func5 num_var =  5\n",
      "inside func5 num_var =  15\n",
      "after call func5 num_var =  15\n"
     ]
    }
   ],
   "source": [
    "#E_6_17.py 功能: 在自訂函數內將某變數宣告全域變數\n",
    "def func5():\n",
    "#func5: 在函數內印出全域變數 \n",
    "    global num_var\n",
    "    num_var=num_var+10\n",
    "    print('inside func5 num_var = ', num_var)\n",
    "num_var=5    \n",
    "print('before call func5 num_var = ', num_var)\n",
    "func5()\n",
    "print('after call func5 num_var = ', num_var)  "
   ]
  },
  {
   "cell_type": "code",
   "execution_count": 26,
   "metadata": {
    "collapsed": false
   },
   "outputs": [
    {
     "name": "stdout",
     "output_type": "stream",
     "text": [
      "Before out_func variable = global variable\n",
      "In out_func variable = local variable\n",
      "In in_func variable = enclosed variable\n",
      "After in_func variable = local variable\n",
      "After out_func variable = global variable\n"
     ]
    }
   ],
   "source": [
    "#E_6_18.py 功能: 印出函數內含函數的封閉變數\n",
    "def out_func():\n",
    "#out_func: 印出區域變數並呼叫子函數in_func    \n",
    "    var='local variable'\n",
    "    print('In out_func variable =', var)\n",
    "    def in_func():\n",
    "    #in_func: 印出封閉變數       \n",
    "        var='enclosed variable'\n",
    "        print('In in_func variable =', var)\n",
    "    in_func()\n",
    "    print('After in_func variable =', var)\n",
    "var='global variable'\n",
    "print('Before out_func variable =', var)\n",
    "out_func()  \n",
    "print('After out_func variable =', var)"
   ]
  },
  {
   "cell_type": "code",
   "execution_count": 27,
   "metadata": {
    "collapsed": false
   },
   "outputs": [
    {
     "name": "stdout",
     "output_type": "stream",
     "text": [
      "my callfunc()\n",
      "The length of char variable =  13\n"
     ]
    }
   ],
   "source": [
    "#E_6_19.py 功能: 自訂函數名稱與Python內建函數相同\n",
    "def callfunc(recchar):\n",
    "#callfunc: 印出標題以及呼叫封閉函數\n",
    "    print('my callfunc()')\n",
    "    num=len(recchar)\n",
    "    print('The length of char variable = ', num)\n",
    "def len(recchar):\n",
    "#len: 計算字串長度    \n",
    "    sumi=0\n",
    "    for i in recchar:\n",
    "        sumi+=1\n",
    "    return(sumi)        \n",
    "callfunc('I love Python')  "
   ]
  },
  {
   "cell_type": "code",
   "execution_count": 28,
   "metadata": {
    "collapsed": false
   },
   "outputs": [
    {
     "name": "stdout",
     "output_type": "stream",
     "text": [
      "輸入 m= 10\n",
      "輸入 n= 7\n",
      "排列組合共有 120 方法\n"
     ]
    }
   ],
   "source": [
    "#RC_6_1 功能: 以自訂函數撰寫排列組合\n",
    "def fact(m):\n",
    "#fact: 計算階層\n",
    "    prodi=1\n",
    "    for i in range(m, 1, -1):\n",
    "        prodi*=i\n",
    "    return (prodi)\n",
    "m=int(input('輸入 m= '))\n",
    "n=int(input('輸入 n= '))\n",
    "number=fact(m)/(fact(n)*fact(m-n))\n",
    "print('%s %d %s' %('排列組合共有', number, '方法'))   "
   ]
  },
  {
   "cell_type": "code",
   "execution_count": 29,
   "metadata": {
    "collapsed": false
   },
   "outputs": [
    {
     "name": "stdout",
     "output_type": "stream",
     "text": [
      " 5個月後的魚群數目 =     152.02\n",
      "10個月後的魚群數目 =     445.50\n",
      "15個月後的魚群數目 =     782.64\n",
      "20個月後的魚群數目 =     941.65\n",
      "25個月後的魚群數目 =     986.36\n",
      "30個月後的魚群數目 =     996.92\n"
     ]
    }
   ],
   "source": [
    "#RC_6_2 功能: 水族箱中的5到30個月後魚群數目估計\n",
    "import math\n",
    "def fishev(t):\n",
    "#fishev: 計算魚群數目    \n",
    "    expv=25*math.exp(-0.3*t)\n",
    "    return(1000/(1+expv))\n",
    "for t in range(5, 30+5,5):\n",
    "    result=round(fishev(t),2)\n",
    "    print('%2d個月後的魚群數目 = %10.2f' %(t, result))\n",
    "    \n"
   ]
  },
  {
   "cell_type": "code",
   "execution_count": 30,
   "metadata": {
    "collapsed": false
   },
   "outputs": [
    {
     "name": "stdout",
     "output_type": "stream",
     "text": [
      " 年度    折舊費用    累計折舊  期末帳面價值\n",
      "   1      9000        9000         91000\n",
      "   2      9000       18000         82000\n",
      "   3      9000       27000         73000\n",
      "   4      9000       36000         64000\n",
      "   5      9000       45000         55000\n",
      "   6      9000       54000         46000\n",
      "   7      9000       63000         37000\n",
      "   8      9000       72000         28000\n",
      "   9      9000       81000         19000\n",
      "  10      9000       90000         10000\n"
     ]
    }
   ],
   "source": [
    "#RC_6_3 功能: 以自訂函數撰寫直線法折舊費用\n",
    "import numpy as np\n",
    "def straightline(cost,salvage,n):\n",
    "#straightline: 直線法公式\n",
    "    return ((cost-salvage)/n)\n",
    "def slinetable(exp_list,n,cost):\n",
    "    #slinetable: 計算折舊費用分攤表    \n",
    "    acm_exp=0\n",
    "    sline_result=[]\n",
    "    row=[]\n",
    "    for i in range(0,n):\n",
    "        acm_exp=acm_exp+exp_list[i]\n",
    "        balance=cost-acm_exp\n",
    "        row.append(i+1)\n",
    "        row.append(exp_list[i])\n",
    "        row.append(acm_exp)\n",
    "        row.append(balance)\n",
    "        sline_result.append(row)\n",
    "        row=[]\n",
    "    return (sline_result)\n",
    "cost=100000\n",
    "salvage=10000\n",
    "n=10\n",
    "sline_exp=straightline(cost,salvage,n)\n",
    "sline_exp_list=list(np.linspace(sline_exp,sline_exp, n))\n",
    "slt=slinetable(sline_exp_list,n,cost)\n",
    "print('%3s%8s%8s%8s' %('年度','折舊費用','累計折舊','期末帳面價值'))\n",
    "for i in range(0, n):\n",
    "    print('%4d%10d%12d%14d' %(slt[i][0],slt[i][1],slt[i][2],slt[i][3]))\n",
    "\n"
   ]
  },
  {
   "cell_type": "code",
   "execution_count": 32,
   "metadata": {
    "collapsed": false
   },
   "outputs": [
    {
     "name": "stdout",
     "output_type": "stream",
     "text": [
      "計算終值的年數 = 5\n",
      "5年後的終值 = 115.93\n"
     ]
    }
   ],
   "source": [
    "#RC_6_4 功能: 終值\n",
    "def fvfix(pv, i, n):\n",
    "#fvfix: 計算終值公式    \n",
    "    result=pv*(1+i)**n\n",
    "    return(result)\n",
    "pv=100\n",
    "i=0.03\n",
    "n=int(input('計算終值的年數 = '))\n",
    "print('%d年後的終值 = %6.2f' %(n, fvfix(pv, i, n)))"
   ]
  },
  {
   "cell_type": "code",
   "execution_count": 33,
   "metadata": {
    "collapsed": false
   },
   "outputs": [
    {
     "name": "stdout",
     "output_type": "stream",
     "text": [
      "輸入每個月存入金額 = 10000\n",
      "輸入預計幾年後退休 = 20\n",
      "FVIFA = 310.97\n",
      "20年後的終值 = 3109747.08\n"
     ]
    }
   ],
   "source": [
    "#RC_6_5 功能: 計算退休金\n",
    "def FVOA(PMT, i, n):\n",
    "#FVOA: 計算普通年金終值公式    \n",
    "    FVIFA=0\n",
    "    #計算年金終值複利因子\n",
    "    for t in range(1, n+1):\n",
    "        FVIFA=FVIFA+((1+i)**(n-t))\n",
    "    print('FVIFA =', round(FVIFA,2))        \n",
    "    #計算退休金=年金乘上複利因子        \n",
    "    fv=PMT*FVIFA\n",
    "    return(fv)\n",
    "PMT=int(input('輸入每個月存入金額 = '))    \n",
    "i=0.025\n",
    "n=int(input('輸入預計幾年後退休 = '))\n",
    "print('%d年後的終值 = %10.2f' %(n, FVOA(PMT, i/12,n*12 )))"
   ]
  },
  {
   "cell_type": "code",
   "execution_count": 35,
   "metadata": {
    "collapsed": false
   },
   "outputs": [
    {
     "name": "stdout",
     "output_type": "stream",
     "text": [
      "輸入終值 = 115.93\n",
      "輸入n年前 = 5\n",
      "5年前的現值 = 100.00\n"
     ]
    }
   ],
   "source": [
    "#RC_6_6 功能: 現值\n",
    "def pvfix(fv, i, n):\n",
    "#fvfix: 計算現值公式    \n",
    "    result=fv/((1+i)**(n))\n",
    "    return(result)\n",
    "fv=float(input('輸入終值 = '))    \n",
    "i=0.03\n",
    "n=int(input('輸入n年前 = '))\n",
    "print('%d年前的現值 = %6.2f' %(n, pvfix(fv, i, n)))\n"
   ]
  },
  {
   "cell_type": "code",
   "execution_count": 36,
   "metadata": {
    "collapsed": false
   },
   "outputs": [
    {
     "name": "stdout",
     "output_type": "stream",
     "text": [
      "原始投資金額 = 300000\n",
      "輸入每年領回金額 = 32500\n",
      "輸入可以領回總年數 = 10\n",
      "年利率 = 0.02\n",
      "本教育基金之投資方案現值 =  291934.01\n",
      "投資方案現值-原始投資金額=  -8065.99\n",
      "負報酬, 不建議購買\n"
     ]
    }
   ],
   "source": [
    "#RC_6_7 功能: 教育基金\n",
    "def PVOA(PMT, i, n):\n",
    "#PVOA: 計算普通年金現值公式    \n",
    "    PVIFA=0\n",
    "    #計算年金現值複利因子\n",
    "    for t in range(1, n+1):\n",
    "        PVIFA=PVIFA+((1+i)**(-t))\n",
    "    PVA=PMT*PVIFA\n",
    "    return(PVA)\n",
    "cash=int(input('原始投資金額 = '))    \n",
    "PMT=int(input('輸入每年領回金額 = '))    \n",
    "n=int(input('輸入可以領回總年數 = '))\n",
    "i=float(input('年利率 = '))\n",
    "investment=round(PVOA(PMT, i, n),2)\n",
    "print('本教育基金之投資方案現值 = ', investment)\n",
    "payoff=round(investment-cash,2)\n",
    "print('投資方案現值-原始投資金額= ', payoff)\n",
    "if payoff<0:\n",
    "    print('負報酬, 不建議購買')\n",
    "else: \n",
    "    print('正報酬, 建議購買')  \n",
    "    \n",
    "    \n"
   ]
  },
  {
   "cell_type": "code",
   "execution_count": 39,
   "metadata": {
    "collapsed": false
   },
   "outputs": [
    {
     "name": "stdout",
     "output_type": "stream",
     "text": [
      "輸入貸款年數 = 18\n",
      "每年應付貸款金額 =   72708.70\n"
     ]
    }
   ],
   "source": [
    "#RC_6_8 功能: 年金給付金額\n",
    "def annuity(pv, i, n):\n",
    "#annuity: 計算年金公式 \n",
    "    up=i*((1+i)**n)\n",
    "    down=((1+i)**n)-1\n",
    "    result=pv*(up/down)\n",
    "    return(result)\n",
    "i=0.03\n",
    "n=int(input('輸入貸款年數 = '))\n",
    "pv=1000000\n",
    "print('每年應付貸款金額 = %10.2f' %(annuity(pv, i,n)))"
   ]
  },
  {
   "cell_type": "code",
   "execution_count": null,
   "metadata": {
    "collapsed": true
   },
   "outputs": [],
   "source": []
  }
 ],
 "metadata": {
  "kernelspec": {
   "display_name": "Python 3",
   "language": "python",
   "name": "python3"
  },
  "language_info": {
   "codemirror_mode": {
    "name": "ipython",
    "version": 3
   },
   "file_extension": ".py",
   "mimetype": "text/x-python",
   "name": "python",
   "nbconvert_exporter": "python",
   "pygments_lexer": "ipython3",
   "version": "3.6.0"
  }
 },
 "nbformat": 4,
 "nbformat_minor": 2
}
