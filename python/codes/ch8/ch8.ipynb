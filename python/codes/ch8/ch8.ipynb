{
 "cells": [
  {
   "cell_type": "code",
   "execution_count": 1,
   "metadata": {
    "collapsed": false
   },
   "outputs": [
    {
     "name": "stdout",
     "output_type": "stream",
     "text": [
      "a客戶存款後餘額:  100\n",
      "b客戶存款後餘額:  50\n",
      "b客戶提款後餘額:  40\n",
      "a客戶提款後餘額:  90\n"
     ]
    }
   ],
   "source": [
    "# E_8_1: 銀行存提款功能採用程序導向程式設計模式\n",
    "#新增帳戶\n",
    "def create_account():\n",
    "    return {'balance': 0}\n",
    "#計算存款後餘額    \n",
    "def deposit(account, amount):\n",
    "    account['balance'] += amount\n",
    "    return account['balance']\n",
    "#計算提款後餘額\n",
    "def withdraw(account, amount):\n",
    "    account['balance'] -= amount\n",
    "    return account['balance']\n",
    "customer_a = create_account()\n",
    "customer_b = create_account()\n",
    "print('a客戶存款後餘額: ',deposit(customer_a, 100))\n",
    "print('b客戶存款後餘額: ',deposit(customer_b, 50))\n",
    "print('b客戶提款後餘額: ',withdraw(customer_b, 10))\n",
    "print('a客戶提款後餘額: ',withdraw(customer_a, 10))\n"
   ]
  },
  {
   "cell_type": "code",
   "execution_count": 2,
   "metadata": {
    "collapsed": false
   },
   "outputs": [
    {
     "name": "stdout",
     "output_type": "stream",
     "text": [
      "帳號: c001\n",
      "姓名: Jemery Lin\n",
      "初期餘額: 0\n",
      "存款後餘額:  100\n",
      "帳號: c002\n",
      "姓名: Barack Obama\n",
      "初期餘額: 0\n",
      "存款後餘額:  50\n",
      "帳號: c001\n",
      "姓名: Jemery Lin\n",
      "初期餘額: 100\n",
      "提款後餘額:  90\n",
      "帳號: c002\n",
      "姓名: Barack Obama\n",
      "初期餘額: 50\n",
      "提款後餘額:  40\n"
     ]
    }
   ],
   "source": [
    "# E_8_2: 銀行存提款功能採用物件導向程式設計模式\n",
    "#定義新增銀行帳戶類別\n",
    "class CreateBankAccount:\n",
    "    #定義新增帳戶方法，額餘設定為0    \n",
    "    def __init__(self, id, name):\n",
    "        self.id = id\n",
    "        self.name = name\n",
    "        self.balance = 0\n",
    "    #定義提款方法          \n",
    "    def withdraw(self, amount):\n",
    "        self.balance -= amount\n",
    "        return self.balance\n",
    "    #定義存款方法 \n",
    "    def deposit(self, amount):\n",
    "        self.balance += amount\n",
    "        return self.balance\n",
    "    def __str__(self):\n",
    "        return('帳號: '+self.id+ '\\n姓名: ' + self.name + '\\n初期餘額: ' + str(self.balance))        \n",
    "customer_a = CreateBankAccount('c001', 'Jemery Lin')\n",
    "customer_b = CreateBankAccount('c002', 'Barack Obama')\n",
    "print(customer_a.__str__())\n",
    "print('存款後餘額: ',customer_a.deposit(100))\n",
    "print(customer_b.__str__())\n",
    "print('存款後餘額: ',customer_b.deposit(50))\n",
    "print(customer_a.__str__())\n",
    "print('提款後餘額: ',customer_a.withdraw(10))\n",
    "print(customer_b.__str__())\n",
    "print('提款後餘額: ',customer_b.withdraw(10))"
   ]
  },
  {
   "cell_type": "code",
   "execution_count": 3,
   "metadata": {
    "collapsed": false
   },
   "outputs": [
    {
     "name": "stdout",
     "output_type": "stream",
     "text": [
      "你好! hello, 這是類別方法. \n",
      " U = U\n",
      "你好! hello, 這是靜態方法. \n",
      " U = U\n",
      "你好! %s, 這是實體方法. \n",
      " U = U\n"
     ]
    }
   ],
   "source": [
    "# E_8_3: 類別中不同方法的呼叫方式\n",
    "class CallM(object):\n",
    "    You='U'\n",
    "    @classmethod\n",
    "    def cls_method(cls, name):\n",
    "        print('你好! %s, 這是類別方法. ' % name)\n",
    "        print(' U =', cls.You)\n",
    "    @staticmethod    \n",
    "    def stc_method(name):\n",
    "        print('你好! %s, 這是靜態方法. ' % name)  \n",
    "        print(' U =', CallM.You)        \n",
    "    def nor_method(self):\n",
    "        print('你好! %s, 這是實體方法. ')  \n",
    "        print(' U =', self.You)  \n",
    "CallM.cls_method('hello')\n",
    "CallM.stc_method('hello')\n",
    "CallM.nor_method(CallM)        \n"
   ]
  },
  {
   "cell_type": "code",
   "execution_count": 4,
   "metadata": {
    "collapsed": false
   },
   "outputs": [
    {
     "name": "stdout",
     "output_type": "stream",
     "text": [
      "99\n",
      "我愛她99\n"
     ]
    }
   ],
   "source": [
    "# E_8_4: 封裝\n",
    "class Encap:\n",
    "    def __init__(self):\n",
    "        self.i = 99    \n",
    "        self.__i = 99  \n",
    "    def hello(self):\n",
    "        return ('我愛她'+ str(self.i))  \n",
    "    def __hello(self):\n",
    "        return ('私有方法')    \n",
    "Love=Encap()   \n",
    "print(Love.i)\n",
    "#print(Love.__i)\n",
    "print(Love.hello())\n",
    "#print(Love.__hello())\n"
   ]
  },
  {
   "cell_type": "code",
   "execution_count": 5,
   "metadata": {
    "collapsed": false
   },
   "outputs": [
    {
     "name": "stdout",
     "output_type": "stream",
     "text": [
      "帳號: k001\n",
      "姓名: Angela Merkel\n",
      "期初餘額: 0\n",
      "透支額度\t30000\n",
      "存款後餘額:  150\n",
      "提款後餘額:  100\n"
     ]
    }
   ],
   "source": [
    "# E_8_5: 支票存款繼承的應用\n",
    "#定義新增支票帳戶繼承自CreateBankAccount\n",
    "class CreateBankAccount:\n",
    "    #定義新增帳戶方法，額餘設定為0    \n",
    "    def __init__(self, id, name):\n",
    "        self.id = id\n",
    "        self.name = name\n",
    "        self.balance = 0\n",
    "    #定義提款方法          \n",
    "    def withdraw(self, amount):\n",
    "        self.balance -= amount\n",
    "        return self.balance\n",
    "    #定義存款方法 \n",
    "    def __deposit(self, amount):\n",
    "        self.balance += amount\n",
    "        return self.balance\n",
    "    def __str__(self):\n",
    "        return('帳號: '+self.id+ '\\n姓名: ' + self.name + '\\n期初餘額: ' + str(self.balance))    \n",
    "class CheckingAccount(CreateBankAccount):\n",
    "    def __init__(self, id, name):\n",
    "        super().__init__(id, name) # 呼叫父類別__init__()\n",
    "        self.overdraftlimit = 30000 #透支額度\n",
    "    #考慮透支額度的提款方法         \n",
    "    def withdraw(self, amount):\n",
    "        if amount <= self.balance + self.overdraftlimit:\n",
    "            self.balance -= amount \n",
    "        else:\n",
    "            raise ValueError('超出信用額度')\n",
    "        return self.balance\n",
    "    def __str__(self):\n",
    "         return (super().__str__() + \n",
    "                '\\n透支額度\\t' + str(self.overdraftlimit));\n",
    "\n",
    "customer_c = CheckingAccount('k001', 'Angela Merkel')\n",
    "print(customer_c.__str__())\n",
    "#print('存款後餘額: ',customer_c.deposit(150))\n",
    "print('存款後餘額: ',customer_c._CreateBankAccount__deposit(150))\n",
    "print('提款後餘額: ',customer_c.withdraw(50))"
   ]
  },
  {
   "cell_type": "code",
   "execution_count": 6,
   "metadata": {
    "collapsed": false
   },
   "outputs": [
    {
     "name": "stdout",
     "output_type": "stream",
     "text": [
      "呼叫父類別1方法(Parent_method1)\n",
      "呼叫父類別2方法(Parent_method2)\n",
      "子類別方法(child method)\n"
     ]
    }
   ],
   "source": [
    "# E_8_6: 多重繼承\n",
    "class ParentClass1():\n",
    "    def Parent_method1(self):\n",
    "        print(\"呼叫父類別1方法(Parent_method1)\")\n",
    "class ParentClass2():\n",
    "    def Parent_method2(self):\n",
    "        print(\"呼叫父類別2方法(Parent_method2)\")\n",
    "class ChildClass(ParentClass1, ParentClass2):\n",
    "    def Child_method(self):\n",
    "        print(\"子類別方法(child method)\")\n",
    "baby = ChildClass()\n",
    "baby.Parent_method1()\n",
    "baby.Parent_method2()\n",
    "baby.Child_method() "
   ]
  },
  {
   "cell_type": "code",
   "execution_count": 8,
   "metadata": {
    "collapsed": false
   },
   "outputs": [
    {
     "name": "stdout",
     "output_type": "stream",
     "text": [
      "動物名稱: 猫咪\t叫聲: 喵 喵!\n",
      "動物名稱: 狗狗\t叫聲: 旺 旺!\n",
      "動物名稱: 綿羊\t叫聲: 咩 咩!\n"
     ]
    }
   ],
   "source": [
    "# E_8_7: 多型\n",
    "class Animal():\n",
    "    def __init__(self, name): \n",
    "        self.name = name\n",
    "    def __str__(self):\n",
    "        return('動物名稱: '+self.name + '\\t叫聲: ')  \n",
    "class Cat(Animal):\n",
    "    def Call(self):\n",
    "        self.calling='喵 喵!'\n",
    "        return(super().__str__() + self.calling)\n",
    "class Dog(Animal):\n",
    "    def Call(self):\n",
    "        self.calling='旺 旺!'\n",
    "        return(super().__str__() + self.calling)\n",
    "class Sheep(Animal):\n",
    "    def Call(self):\n",
    "        self.calling='咩 咩!'\n",
    "        return(super().__str__() + self.calling)        \n",
    "Animals_List = [Cat('猫咪'), Dog('狗狗'), Sheep('綿羊')]\n",
    "for i in Animals_List:\n",
    "    print(i.Call())   "
   ]
  },
  {
   "cell_type": "code",
   "execution_count": 9,
   "metadata": {
    "collapsed": false
   },
   "outputs": [
    {
     "name": "stdout",
     "output_type": "stream",
     "text": [
      "字串不能算術運算: unsupported operand type(s) for +: 'int' and 'str'\n",
      "num = 150\n"
     ]
    }
   ],
   "source": [
    "# E_8_8: Raise 引發異常\n",
    "try: \n",
    "    a=100\n",
    "    b='50'\n",
    "    num=a+b\n",
    "    raise TypeError \n",
    "except TypeError as e: \n",
    "    print('字串不能算術運算: ' + str(e))  \n",
    "    num=int(a)+int(b)\n",
    "    print('num =' , num)"
   ]
  },
  {
   "cell_type": "code",
   "execution_count": 10,
   "metadata": {
    "collapsed": false
   },
   "outputs": [
    {
     "name": "stdout",
     "output_type": "stream",
     "text": [
      "請輸入正整數: D\n",
      "數值錯誤，invalid literal for int() with base 10: 'D'\n",
      "請輸入正整數: 2.3\n",
      "數值錯誤，invalid literal for int() with base 10: '2.3'\n",
      "請輸入正整數: 5\n",
      "1加到5 = 15\n"
     ]
    }
   ],
   "source": [
    "# E_8_9: 計累加的程式，加入異常處理機制\n",
    "def sumn(n):\n",
    "    sn=0\n",
    "    if n<=0: \n",
    "        raise ValueError('輸入的參數必須大於零哦')\n",
    "    else: \n",
    "        for i in range(1, n+1):\n",
    "            sn=sn+i\n",
    "        return(sn)\n",
    "while True: \n",
    "    try: \n",
    "        num=int(input('請輸入正整數: '))\n",
    "        result=sumn(num)\n",
    "    except ValueError as v:\n",
    "        print('數值錯誤，' + str(v))            \n",
    "    except:\n",
    "        print('未知錯誤')        \n",
    "    else: \n",
    "        print('1加到%d = %d' %(num, result))\n",
    "        break"
   ]
  },
  {
   "cell_type": "code",
   "execution_count": 12,
   "metadata": {
    "collapsed": false
   },
   "outputs": [
    {
     "name": "stdout",
     "output_type": "stream",
     "text": [
      "E_8_10\\__init__.py\n",
      "E_8_10\\files\\__init__.py\n",
      "E_8_10\\formats\\__init__.py\n",
      "This is E_8_10\\files\\openfile.py\n",
      "E_8_10.files.openfile\n",
      "This is E_8_10\\formats\\fontsize.py\n",
      "E_8_10.formats.fontsize\n"
     ]
    }
   ],
   "source": [
    "#E_8_11: 呼叫套件的方法\n",
    "import E_8_10.files.openfile as o\n",
    "from E_8_10.formats import fontsize as s\n",
    "print(o.openf())\n",
    "print(o.__name__)\n",
    "print(s.size())\n",
    "print(s.__name__)"
   ]
  },
  {
   "cell_type": "code",
   "execution_count": 13,
   "metadata": {
    "collapsed": false
   },
   "outputs": [
    {
     "name": "stdout",
     "output_type": "stream",
     "text": [
      "5年後的終值 =   115.9274\n",
      "5年後的現值 =   100.0000\n"
     ]
    }
   ],
   "source": [
    "#RC_8_1: 定義貨幣時間價值的類別\n",
    "class TimeValue:\n",
    "    #終值    \n",
    "    def fvfix(self, pv, i, n):\n",
    "        #fvfix: 計算終值公式    \n",
    "        fv=pv*(1+i)**n\n",
    "        return(fv)\n",
    "    #現值         \n",
    "    def pvfix(self, fv, i, n):\n",
    "        #pvfix: 計算現值公式    \n",
    "        pv=fv/((1+i)**n)\n",
    "        return(pv)      \n",
    "#設定初始值        \n",
    "pv=100\n",
    "fv=115.92740743\n",
    "i=0.03\n",
    "n=5    \n",
    "#呼叫TimeValue類別，建構物實體\n",
    "tv1=TimeValue()\n",
    "#呼叫物件實體的方法\n",
    "print('%d年後的終值 = %10.4f' %(n, tv1.fvfix(pv, i, n)))\n",
    "print('%d年後的現值 = %10.4f' %(n, tv1.pvfix(fv, i, n)))\n"
   ]
  },
  {
   "cell_type": "code",
   "execution_count": 14,
   "metadata": {
    "collapsed": false
   },
   "outputs": [
    {
     "name": "stdout",
     "output_type": "stream",
     "text": [
      "年複利次數   1, 有效利率 = 6.0000%\n",
      "年複利次數   2, 有效利率 = 6.0900%\n",
      "年複利次數   4, 有效利率 = 6.1364%\n",
      "年複利次數  12, 有效利率 = 6.1678%\n",
      "年複利次數  52, 有效利率 = 6.1800%\n",
      "年複利次數 365, 有效利率 = 6.1831%\n"
     ]
    }
   ],
   "source": [
    "#RC_8_2: 計算有率利率加入異常處理\n",
    "def earfix(rn, m):\n",
    "    #earfix: 計算有效利率公式   \n",
    "    if m<=0 | m>365: \n",
    "        raise ValueError('輸入的參數必須大於零哦')\n",
    "    elif type(m) is not int:\n",
    "        raise TypeError('輸入的參數必須是整數哦')\n",
    "    else: \n",
    "        ear=((1+(rn/m))**m)-1\n",
    "    return(ear)  \n",
    "#設定年、半年、季、月、週、日複利的次數    \n",
    "m=[1, 2, 4, 12, 52, 365]\n",
    "rn=0.06\n",
    "for i in m:\n",
    "    try: \n",
    "        ear=earfix(rn, i)\n",
    "    except ValueError as v:\n",
    "        print('數值錯誤，' + str(v))            \n",
    "        break         \n",
    "    except TypeError as t :\n",
    "        print('型別錯誤，' + str(t))  \n",
    "        break         \n",
    "    else: \n",
    "        print('年複利次數%4d, 有效利率 = %6.4f%%' %(i, ear*100))"
   ]
  },
  {
   "cell_type": "code",
   "execution_count": 17,
   "metadata": {
    "collapsed": false
   },
   "outputs": [
    {
     "name": "stdout",
     "output_type": "stream",
     "text": [
      "請輸入年複利次數: 1, 2, 4, 12, 52, 365 = 365\n",
      "5年後的終值 =   115.9274\n",
      "5年後的現值 =   100.0000\n",
      "有效利率 =   3.0453%\n",
      "連續複利 =   2.9999%\n"
     ]
    }
   ],
   "source": [
    "#RC_8_3: 將貨幣時間價值相關的方法建立成套件\n",
    "import PCLin_Finance.TimeValueClass.TimeValue as tv\n",
    "import PCLin_Finance.InterestsClass.Interest as rt\n",
    "#設定初始值        \n",
    "pv=100\n",
    "fv=115.92740743\n",
    "i=0.03\n",
    "n=5    \n",
    "rn=0.06\n",
    "m=int(input('請輸入年複利次數: 1, 2, 4, 12, 52, 365 = '))\n",
    "#呼叫TimeValue類別，建構物實體\n",
    "tv1=tv.TimeValue()\n",
    "#呼叫物件實體的方法\n",
    "print('%d年後的終值 = %10.4f' %(n, tv1.fvfix(pv, i, n)))\n",
    "print('%d年後的現值 = %10.4f' %(n, tv1.pvfix(fv, i, n)))\n",
    "#呼叫TimeValue類別，建構物實體\n",
    "rt1=rt.Interest()\n",
    "#呼叫物件實體的方法\n",
    "print('有效利率 = %8.4f%%' %(rt1.earfix(i, m)*100))\n",
    "print('連續複利 = %8.4f%%' %(rt1.ccrfix(i, m)*100))"
   ]
  },
  {
   "cell_type": "code",
   "execution_count": null,
   "metadata": {
    "collapsed": true
   },
   "outputs": [],
   "source": []
  }
 ],
 "metadata": {
  "kernelspec": {
   "display_name": "Python 3",
   "language": "python",
   "name": "python3"
  },
  "language_info": {
   "codemirror_mode": {
    "name": "ipython",
    "version": 3
   },
   "file_extension": ".py",
   "mimetype": "text/x-python",
   "name": "python",
   "nbconvert_exporter": "python",
   "pygments_lexer": "ipython3",
   "version": "3.6.0"
  }
 },
 "nbformat": 4,
 "nbformat_minor": 2
}
