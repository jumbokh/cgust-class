{
  "nbformat": 4,
  "nbformat_minor": 0,
  "metadata": {
    "colab": {
      "provenance": [],
      "authorship_tag": "ABX9TyOKsIIBVZVc2DvEpLy9CKsa",
      "include_colab_link": true
    },
    "kernelspec": {
      "name": "python3",
      "display_name": "Python 3"
    },
    "language_info": {
      "name": "python"
    }
  },
  "cells": [
    {
      "cell_type": "markdown",
      "metadata": {
        "id": "view-in-github",
        "colab_type": "text"
      },
      "source": [
        "<a href=\"https://colab.research.google.com/github/jumbokh/cgust-class/blob/main/python/codes/final_ex.ipynb\" target=\"_parent\"><img src=\"https://colab.research.google.com/assets/colab-badge.svg\" alt=\"Open In Colab\"/></a>"
      ]
    },
    {
      "cell_type": "code",
      "execution_count": 1,
      "metadata": {
        "colab": {
          "base_uri": "https://localhost:8080/"
        },
        "id": "gDQpajRkgz88",
        "outputId": "beed39e9-20df-43ed-90e1-6ea10ba2f079"
      },
      "outputs": [
        {
          "output_type": "stream",
          "name": "stdout",
          "text": [
            "100\n",
            "144\n",
            "64\n",
            "0b1100100\n"
          ]
        }
      ],
      "source": [
        "num=int(input())\n",
        "print(\"%o\"%(num))\n",
        "print(\"%x\"%(num))\n",
        "print(\"%s\"%(bin(num)))"
      ]
    },
    {
      "cell_type": "code",
      "source": [
        "name=input()\n",
        "day1=input()\n",
        "day2=input()\n",
        "day3=input()\n",
        "day4=input()\n",
        "day5=input()\n",
        "day6=input()\n",
        "day7=input()\n",
        "\n",
        "print(\"{0:<8}{1:^5}{2:^5}{3:^5}{4:^5}{5:^5}{6:^5}{7:^5}\".\\\n",
        "     format(name,day1,day2,day3,day4,day5,day6,day7))"
      ],
      "metadata": {
        "colab": {
          "base_uri": "https://localhost:8080/"
        },
        "id": "3D6rkhEZg1aK",
        "outputId": "1f71f7f5-aa2f-4771-8cbd-9272659fe4a7"
      },
      "execution_count": 2,
      "outputs": [
        {
          "output_type": "stream",
          "name": "stdout",
          "text": [
            "Alice\n",
            "500\n",
            "450\n",
            "380\n",
            "400\n",
            "520\n",
            "480\n",
            "500\n",
            "Alice    500  450  380  400  520  480  500 \n"
          ]
        }
      ]
    },
    {
      "cell_type": "code",
      "source": [
        "grade1=int(input())\n",
        "grade2=int(input())\n",
        "lastGrade=int(input())\n",
        "if(grade1>=60 or grade2>=60) and lastGrade>=60:\n",
        "    print(\"PASS\")\n",
        "else:\n",
        "    print(\"FAIL\")"
      ],
      "metadata": {
        "colab": {
          "base_uri": "https://localhost:8080/"
        },
        "id": "hihwgI8YhDqK",
        "outputId": "3500daa0-90f8-40ff-e680-fe5d28d38adf"
      },
      "execution_count": 3,
      "outputs": [
        {
          "output_type": "stream",
          "name": "stdout",
          "text": [
            "90\n",
            "80\n",
            "72\n",
            "PASS\n"
          ]
        }
      ]
    },
    {
      "cell_type": "code",
      "source": [
        "a=int(input())\n",
        "b=int(input())\n",
        "print(a+b)\n",
        "print(a-b)\n",
        "print(a*b)\n",
        "print(a**b)\n",
        "print(a//b)\n",
        "print(a%b)"
      ],
      "metadata": {
        "colab": {
          "base_uri": "https://localhost:8080/"
        },
        "id": "cDnrp2UChEp5",
        "outputId": "e0d28bba-31ed-4d82-e009-01334fd31149"
      },
      "execution_count": 4,
      "outputs": [
        {
          "output_type": "stream",
          "name": "stdout",
          "text": [
            "5\n",
            "9\n",
            "14\n",
            "-4\n",
            "45\n",
            "1953125\n",
            "0\n",
            "5\n"
          ]
        }
      ]
    },
    {
      "cell_type": "code",
      "source": [
        "a=int(input())\n",
        "b=int(input())\n",
        "print(a&b)\n",
        "print(a|b)\n",
        "print(a^b)"
      ],
      "metadata": {
        "colab": {
          "base_uri": "https://localhost:8080/"
        },
        "id": "SU5phq_UhKth",
        "outputId": "fc0c7d87-a9fa-4316-c592-f2188bbaf9f1"
      },
      "execution_count": 5,
      "outputs": [
        {
          "output_type": "stream",
          "name": "stdout",
          "text": [
            "5\n",
            "9\n",
            "1\n",
            "13\n",
            "12\n"
          ]
        }
      ]
    },
    {
      "cell_type": "code",
      "source": [
        "C=float(input())\n",
        "F=(9/5)*C+32\n",
        "print(F)"
      ],
      "metadata": {
        "colab": {
          "base_uri": "https://localhost:8080/"
        },
        "id": "veLBcwRvhO-S",
        "outputId": "8cd8b25b-0c21-4735-a358-593fe02e4c06"
      },
      "execution_count": 6,
      "outputs": [
        {
          "output_type": "stream",
          "name": "stdout",
          "text": [
            "38\n",
            "100.4\n"
          ]
        }
      ]
    },
    {
      "cell_type": "code",
      "source": [
        "a=int(input())\n",
        "b=int(input())\n",
        "print(a==b)\n",
        "print(a!=b)\n",
        "print(a>b)\n",
        "print(a<b)"
      ],
      "metadata": {
        "colab": {
          "base_uri": "https://localhost:8080/"
        },
        "id": "65VHGTknhTCq",
        "outputId": "21ec45a3-b247-499f-bf18-12fa15d99602"
      },
      "execution_count": 7,
      "outputs": [
        {
          "output_type": "stream",
          "name": "stdout",
          "text": [
            "5\n",
            "9\n",
            "False\n",
            "True\n",
            "False\n",
            "True\n"
          ]
        }
      ]
    },
    {
      "cell_type": "code",
      "source": [
        "score1=int(input())\n",
        "score2=int(input())\n",
        "score3=int(input())\n",
        "\n",
        "scoreTotal=score1+score2+score3\n",
        "average=round(scoreTotal / 3, 1)\n",
        "\n",
        "if average>=90:\n",
        "    grade=\"A\"\n",
        "elif 80<=average<90:\n",
        "    grade=\"B\"\n",
        "elif 70<=average<80:\n",
        "    grade=\"C\"\n",
        "elif 60<=average<70:\n",
        "    grade=\"D\"\n",
        "else:\n",
        "    grade=\"F\"\n",
        "\n",
        "print(grade)"
      ],
      "metadata": {
        "colab": {
          "base_uri": "https://localhost:8080/"
        },
        "id": "NKRAqdQMhZkq",
        "outputId": "436b7ada-ec5f-44c0-cd15-d36520faf80e"
      },
      "execution_count": 8,
      "outputs": [
        {
          "output_type": "stream",
          "name": "stdout",
          "text": [
            "90\n",
            "80\n",
            "72\n",
            "B\n"
          ]
        }
      ]
    },
    {
      "cell_type": "code",
      "source": [
        "year=int(input())\n",
        "if(year % 4 == 0 and year % 100 != 0) or (year % 400 == 0):\n",
        "  print(\"leap year\")\n",
        "else:\n",
        "  print(\"common year\")"
      ],
      "metadata": {
        "colab": {
          "base_uri": "https://localhost:8080/"
        },
        "id": "4RecScO_haZr",
        "outputId": "ebc85ede-0cdb-4655-d7bd-dcde670b0da5"
      },
      "execution_count": 9,
      "outputs": [
        {
          "output_type": "stream",
          "name": "stdout",
          "text": [
            "2023\n",
            "common year\n"
          ]
        }
      ]
    },
    {
      "cell_type": "code",
      "source": [
        "r = int(input())\n",
        "c = int(input())\n",
        "for x in range(1, r+1):\n",
        "    for y in range(1, c):\n",
        "        print(x * y, end=\" \")\n",
        "    print(x * c)"
      ],
      "metadata": {
        "colab": {
          "base_uri": "https://localhost:8080/"
        },
        "id": "-vpPG2FlhhEq",
        "outputId": "1a6493dd-c491-471b-bdca-f08360e69242"
      },
      "execution_count": 10,
      "outputs": [
        {
          "output_type": "stream",
          "name": "stdout",
          "text": [
            "5\n",
            "20\n",
            "1 2 3 4 5 6 7 8 9 10 11 12 13 14 15 16 17 18 19 20\n",
            "2 4 6 8 10 12 14 16 18 20 22 24 26 28 30 32 34 36 38 40\n",
            "3 6 9 12 15 18 21 24 27 30 33 36 39 42 45 48 51 54 57 60\n",
            "4 8 12 16 20 24 28 32 36 40 44 48 52 56 60 64 68 72 76 80\n",
            "5 10 15 20 25 30 35 40 45 50 55 60 65 70 75 80 85 90 95 100\n"
          ]
        }
      ]
    },
    {
      "cell_type": "code",
      "source": [
        "a=int(input())\n",
        "b=int(input())\n",
        "sum=0\n",
        "for num in range(a,b+1):\n",
        "    if num % 5==0:\n",
        "        sum+=num\n",
        "print(sum)"
      ],
      "metadata": {
        "colab": {
          "base_uri": "https://localhost:8080/"
        },
        "id": "SYmo1ANIhnvu",
        "outputId": "afcf3430-9b9c-40c1-d4cf-d47cb9434f21"
      },
      "execution_count": 11,
      "outputs": [
        {
          "output_type": "stream",
          "name": "stdout",
          "text": [
            "5\n",
            "20\n",
            "50\n"
          ]
        }
      ]
    }
  ]
}