{
  "nbformat": 4,
  "nbformat_minor": 0,
  "metadata": {
    "colab": {
      "provenance": [],
      "authorship_tag": "ABX9TyN5banK8qRubf6g+T370B6Q",
      "include_colab_link": true
    },
    "kernelspec": {
      "name": "python3",
      "display_name": "Python 3"
    },
    "language_info": {
      "name": "python"
    }
  },
  "cells": [
    {
      "cell_type": "markdown",
      "metadata": {
        "id": "view-in-github",
        "colab_type": "text"
      },
      "source": [
        "<a href=\"https://colab.research.google.com/github/jumbokh/cgust-class/blob/main/python/codes/numpy_test.ipynb\" target=\"_parent\"><img src=\"https://colab.research.google.com/assets/colab-badge.svg\" alt=\"Open In Colab\"/></a>"
      ]
    },
    {
      "cell_type": "code",
      "execution_count": 1,
      "metadata": {
        "colab": {
          "base_uri": "https://localhost:8080/"
        },
        "id": "BI6p2KKzOB1l",
        "outputId": "7a1fdaf9-76f3-41e6-ed36-90409a909179"
      },
      "outputs": [
        {
          "output_type": "stream",
          "name": "stdout",
          "text": [
            "[[1 2]\n",
            " [3 4]\n",
            " [5 6]\n",
            " [7 8]]\n"
          ]
        }
      ],
      "source": [
        "import numpy as np\n",
        "\n",
        "a = np.array([1,2,3,4,5,6,7,8])\n",
        "b = a.reshape((4,2))\n",
        "print(b)"
      ]
    },
    {
      "cell_type": "code",
      "source": [
        "c = a.reshape((2,4))\n",
        "print(c)"
      ],
      "metadata": {
        "colab": {
          "base_uri": "https://localhost:8080/"
        },
        "id": "Fa7XRZz8ODRn",
        "outputId": "b408855a-0402-4326-ef31-ed78fad1243d"
      },
      "execution_count": 2,
      "outputs": [
        {
          "output_type": "stream",
          "name": "stdout",
          "text": [
            "[[1 2 3 4]\n",
            " [5 6 7 8]]\n"
          ]
        }
      ]
    },
    {
      "cell_type": "code",
      "source": [
        "import numpy as np\n",
        "\n",
        "a = np.array([[1,2],[3,4],[5,6],[7,8]])\n",
        "b = a.reshape(-1)        # 轉換成一維陣列\n",
        "print(b)                 # [1 2 3 4 5 6 7 8]\n",
        "c = a.reshape((2,-1))    # 等同 a.reshape((2,4))\n",
        "print(c)"
      ],
      "metadata": {
        "colab": {
          "base_uri": "https://localhost:8080/"
        },
        "id": "nNpLPQZiOLXi",
        "outputId": "feab351a-4f78-4535-b38a-26e298104d97"
      },
      "execution_count": 3,
      "outputs": [
        {
          "output_type": "stream",
          "name": "stdout",
          "text": [
            "[1 2 3 4 5 6 7 8]\n",
            "[[1 2 3 4]\n",
            " [5 6 7 8]]\n"
          ]
        }
      ]
    },
    {
      "cell_type": "code",
      "source": [
        "d = a.reshape((2,2,-1))  # 等同 a.reshape((2,2,2))\n",
        "print(d)"
      ],
      "metadata": {
        "colab": {
          "base_uri": "https://localhost:8080/"
        },
        "id": "G8-vb6pJOUEq",
        "outputId": "0b6eccd9-dda5-4666-ede5-638d96df5d95"
      },
      "execution_count": 4,
      "outputs": [
        {
          "output_type": "stream",
          "name": "stdout",
          "text": [
            "[[[1 2]\n",
            "  [3 4]]\n",
            "\n",
            " [[5 6]\n",
            "  [7 8]]]\n"
          ]
        }
      ]
    },
    {
      "cell_type": "code",
      "source": [
        "import numpy as np\n",
        "\n",
        "a = np.array([[1,2],[3,4],[5,6],[7,8]])\n",
        "b = a.flatten('C')    # [1 2 3 4 5 6 7 8]\n",
        "c = a.flatten('F')    # [1 2 3 4 5 6 7 8]\n",
        "b1 = np.ravel(a,'C')  # [1 3 5 7 2 4 6 8]\n",
        "c1 = np.ravel(a,'K')  # [1 2 3 4 5 6 7 8]"
      ],
      "metadata": {
        "id": "o4oJ0ULGOY7f"
      },
      "execution_count": 5,
      "outputs": []
    },
    {
      "cell_type": "code",
      "source": [
        "import numpy as np\n",
        "\n",
        "a = np.array([[1,2],[3,4],[5,6],[7,8]])\n",
        "b = a.flat[3]\n",
        "print(b)    # 4"
      ],
      "metadata": {
        "colab": {
          "base_uri": "https://localhost:8080/"
        },
        "id": "GkHuEFUIOdZX",
        "outputId": "a86f41a2-21d1-4703-eb00-2394c1ffe34e"
      },
      "execution_count": 6,
      "outputs": [
        {
          "output_type": "stream",
          "name": "stdout",
          "text": [
            "4\n"
          ]
        }
      ]
    },
    {
      "cell_type": "code",
      "source": [
        "import numpy as np\n",
        "\n",
        "a = np.array([[1,2],[3,4]])\n",
        "b = a.T\n",
        "c = np.transpose(a)\n",
        "print(b)\n",
        "print(c)"
      ],
      "metadata": {
        "colab": {
          "base_uri": "https://localhost:8080/"
        },
        "id": "1Xii_C9VOi7v",
        "outputId": "ca4a072b-42bb-4d3b-f79b-4d9d57cdc0d4"
      },
      "execution_count": 7,
      "outputs": [
        {
          "output_type": "stream",
          "name": "stdout",
          "text": [
            "[[1 3]\n",
            " [2 4]]\n",
            "[[1 3]\n",
            " [2 4]]\n"
          ]
        }
      ]
    },
    {
      "cell_type": "code",
      "source": [
        "import numpy as np\n",
        "\n",
        "a = np.array([[1,1,1],[2,2,2],[3,3,3]])\n",
        "b = np.rollaxis(a,0,0)\n",
        "c = np.rollaxis(a,1,0)\n",
        "print(b)"
      ],
      "metadata": {
        "colab": {
          "base_uri": "https://localhost:8080/"
        },
        "id": "VM6-uf90Oojk",
        "outputId": "188bd758-3a0f-43ec-cae5-68bd3c3d0846"
      },
      "execution_count": 8,
      "outputs": [
        {
          "output_type": "stream",
          "name": "stdout",
          "text": [
            "[[1 1 1]\n",
            " [2 2 2]\n",
            " [3 3 3]]\n"
          ]
        }
      ]
    },
    {
      "cell_type": "code",
      "source": [
        "print(c)"
      ],
      "metadata": {
        "colab": {
          "base_uri": "https://localhost:8080/"
        },
        "id": "jBKawCLfOt20",
        "outputId": "0870ffcb-6e96-4bd0-8156-79f360263e58"
      },
      "execution_count": 9,
      "outputs": [
        {
          "output_type": "stream",
          "name": "stdout",
          "text": [
            "[[1 2 3]\n",
            " [1 2 3]\n",
            " [1 2 3]]\n"
          ]
        }
      ]
    },
    {
      "cell_type": "code",
      "source": [
        "import numpy as np\n",
        "\n",
        "a = np.array([[1,1,1],[2,2,2],[3,3,3]])\n",
        "b = np.swapaxes(a,0,0)\n",
        "c = np.swapaxes(a,0,1)\n",
        "print(b)"
      ],
      "metadata": {
        "colab": {
          "base_uri": "https://localhost:8080/"
        },
        "id": "NHXgCbbIOxbF",
        "outputId": "fa364901-f65c-47de-91e9-4b1b2afa80f8"
      },
      "execution_count": 10,
      "outputs": [
        {
          "output_type": "stream",
          "name": "stdout",
          "text": [
            "[[1 1 1]\n",
            " [2 2 2]\n",
            " [3 3 3]]\n"
          ]
        }
      ]
    },
    {
      "cell_type": "code",
      "source": [
        "print(c)"
      ],
      "metadata": {
        "colab": {
          "base_uri": "https://localhost:8080/"
        },
        "id": "e6LnHYnmO2PR",
        "outputId": "a1c9b54f-e42a-4450-b2ba-d4ec22441fa8"
      },
      "execution_count": 11,
      "outputs": [
        {
          "output_type": "stream",
          "name": "stdout",
          "text": [
            "[[1 2 3]\n",
            " [1 2 3]\n",
            " [1 2 3]]\n"
          ]
        }
      ]
    },
    {
      "cell_type": "code",
      "source": [
        "import numpy as np\n",
        "\n",
        "a = np.array([[1,1,1],[2,2,2]])\n",
        "b = np.resize(a, (3,2))\n",
        "print(b)"
      ],
      "metadata": {
        "colab": {
          "base_uri": "https://localhost:8080/"
        },
        "id": "Q_OXyCF9O5Y5",
        "outputId": "f54daca0-e61a-4a4d-d006-a0a36e95cf9d"
      },
      "execution_count": 12,
      "outputs": [
        {
          "output_type": "stream",
          "name": "stdout",
          "text": [
            "[[1 1]\n",
            " [1 2]\n",
            " [2 2]]\n"
          ]
        }
      ]
    },
    {
      "cell_type": "code",
      "source": [
        "c = np.resize(a, (5,5))\n",
        "print(c)"
      ],
      "metadata": {
        "colab": {
          "base_uri": "https://localhost:8080/"
        },
        "id": "GbgJMX0HO_g4",
        "outputId": "01d0d64f-40aa-410f-d94c-880935503f11"
      },
      "execution_count": 13,
      "outputs": [
        {
          "output_type": "stream",
          "name": "stdout",
          "text": [
            "[[1 1 1 2 2]\n",
            " [2 1 1 1 2]\n",
            " [2 2 1 1 1]\n",
            " [2 2 2 1 1]\n",
            " [1 2 2 2 1]]\n"
          ]
        }
      ]
    },
    {
      "cell_type": "code",
      "source": [
        "d = np.resize(a, (2,2))\n",
        "print(d)"
      ],
      "metadata": {
        "colab": {
          "base_uri": "https://localhost:8080/"
        },
        "id": "8_FnR8GnPCqo",
        "outputId": "88b0be17-c8a4-4e4b-e646-4f7f37685efb"
      },
      "execution_count": 14,
      "outputs": [
        {
          "output_type": "stream",
          "name": "stdout",
          "text": [
            "[[1 1]\n",
            " [1 2]]\n"
          ]
        }
      ]
    },
    {
      "cell_type": "code",
      "source": [
        "import numpy as np\n",
        "\n",
        "a = np.array([[1,1,1],[2,2,2]])\n",
        "b = np.append(a, 1)\n",
        "c = np.append(a, [3,3,3])\n",
        "print(b)   # [1 1 1 2 2 2 1]\n",
        "print(c)   # [1 1 1 2 2 2 3 3 3]"
      ],
      "metadata": {
        "colab": {
          "base_uri": "https://localhost:8080/"
        },
        "id": "GKSZ005uPFlP",
        "outputId": "2d218d5a-8189-4c5e-8fe7-1ddabce3c3c3"
      },
      "execution_count": 15,
      "outputs": [
        {
          "output_type": "stream",
          "name": "stdout",
          "text": [
            "[1 1 1 2 2 2 1]\n",
            "[1 1 1 2 2 2 3 3 3]\n"
          ]
        }
      ]
    },
    {
      "cell_type": "code",
      "source": [
        "import numpy as np\n",
        "\n",
        "a = np.array([[1,1,1],[2,2,2]])\n",
        "b = np.append(a, [[3,3,3],[4,4,4]],1)\n",
        "print(b)"
      ],
      "metadata": {
        "colab": {
          "base_uri": "https://localhost:8080/"
        },
        "id": "3hmhxiQFPI6P",
        "outputId": "2165fed4-b1cf-47d1-a0c9-f2796d9c3ab5"
      },
      "execution_count": 16,
      "outputs": [
        {
          "output_type": "stream",
          "name": "stdout",
          "text": [
            "[[1 1 1 3 3 3]\n",
            " [2 2 2 4 4 4]]\n"
          ]
        }
      ]
    },
    {
      "cell_type": "code",
      "source": [
        "c = np.append(a, [[3,3,3],[4,4,4]],0)\n",
        "print(c)"
      ],
      "metadata": {
        "colab": {
          "base_uri": "https://localhost:8080/"
        },
        "id": "4yi_UHgzPMff",
        "outputId": "cec4d40f-46be-49d0-ff48-e6b39e16bd4f"
      },
      "execution_count": 17,
      "outputs": [
        {
          "output_type": "stream",
          "name": "stdout",
          "text": [
            "[[1 1 1]\n",
            " [2 2 2]\n",
            " [3 3 3]\n",
            " [4 4 4]]\n"
          ]
        }
      ]
    },
    {
      "cell_type": "code",
      "source": [
        "import numpy as np\n",
        "\n",
        "a = np.array([[1,1],[2,2],[3,3]])\n",
        "b = np.insert(a, 1, [4,4])\n",
        "c = np.insert(a, 2, [4,4])\n",
        "print(b)   # [1 4 4 1 2 2 3 3]\n",
        "print(c)   # [1 1 4 4 2 2 3 3]\n",
        "d = np.insert(a, 2, [4,4], 0)\n",
        "print(d)"
      ],
      "metadata": {
        "colab": {
          "base_uri": "https://localhost:8080/"
        },
        "id": "VU7rjV_VPPju",
        "outputId": "1d99dd07-e940-42de-cb1f-8b75d5c3cf48"
      },
      "execution_count": 18,
      "outputs": [
        {
          "output_type": "stream",
          "name": "stdout",
          "text": [
            "[1 4 4 1 2 2 3 3]\n",
            "[1 1 4 4 2 2 3 3]\n",
            "[[1 1]\n",
            " [2 2]\n",
            " [4 4]\n",
            " [3 3]]\n"
          ]
        }
      ]
    },
    {
      "cell_type": "code",
      "source": [
        "import numpy as np\n",
        "\n",
        "a = np.array([[1,2],[3,4],[5,6]])\n",
        "b = np.delete(a, 1)\n",
        "c = np.delete(a, 2)\n",
        "print(b)    # [1 3 4 5 6]\n",
        "print(c)    # [1 2 4 5 6]\n",
        "d = np.delete(a, 2, 0)\n",
        "print(d)"
      ],
      "metadata": {
        "colab": {
          "base_uri": "https://localhost:8080/"
        },
        "id": "k-FdhxUdPTg8",
        "outputId": "0088d680-a77a-4e56-f685-830069815348"
      },
      "execution_count": 19,
      "outputs": [
        {
          "output_type": "stream",
          "name": "stdout",
          "text": [
            "[1 3 4 5 6]\n",
            "[1 2 4 5 6]\n",
            "[[1 2]\n",
            " [3 4]]\n"
          ]
        }
      ]
    },
    {
      "cell_type": "code",
      "source": [
        "import numpy as np\n",
        "\n",
        "a = np.array([[1,1],[2,2],[3,3]])\n",
        "b = np.unique(a)\n",
        "c = np.unique(a, return_index=True)\n",
        "d = np.unique(a, return_inverse=True)\n",
        "e = np.unique(a, return_counts=True)\n",
        "print(b)   # [1 2 3]\n",
        "print(c)   # (array([1, 2, 3]), array([0, 2, 4]))\n",
        "print(d)   # (array([1, 2, 3]), array([0, 0, 1, 1, 2, 2]))\n",
        "print(e)   # (array([1, 2, 3]), array([2, 2, 2]))"
      ],
      "metadata": {
        "colab": {
          "base_uri": "https://localhost:8080/"
        },
        "id": "utMNMRyoPW9M",
        "outputId": "3999d081-f390-449f-f081-f8a91af743a4"
      },
      "execution_count": 20,
      "outputs": [
        {
          "output_type": "stream",
          "name": "stdout",
          "text": [
            "[1 2 3]\n",
            "(array([1, 2, 3]), array([0, 2, 4]))\n",
            "(array([1, 2, 3]), array([0, 0, 1, 1, 2, 2]))\n",
            "(array([1, 2, 3]), array([2, 2, 2]))\n"
          ]
        }
      ]
    },
    {
      "cell_type": "markdown",
      "source": [
        "## 填充一維陣列"
      ],
      "metadata": {
        "id": "rPScAJ_IPhDt"
      }
    },
    {
      "cell_type": "code",
      "source": [
        "import numpy as np\n",
        "a = np.array([-2,-1,0,1,2])\n",
        "print(np.pad(a,5))\n",
        "# 左右各多出五個空格，填入 0\n",
        " # [ 0  0  0  0  0 -2 -1  0  1  2  0  0  0  0  0]\n",
        "\n",
        "print(np.pad(a,5,constant_values = (5,8)))\n",
        "# 左右各多出五個空格，左邊填入 5，右邊填入 8\n",
        "# [ 5  5  5  5  5 -2 -1  0  1  2  8  8  8  8  8]\n",
        "\n",
        "print(np.pad(a,(1,5)))\n",
        "# 左邊多出一個空格，右邊多出五個空格，填入 0\n",
        "# [ 0 -2 -1  0  1  2  0  0  0  0  0]\n",
        "\n",
        "print(np.pad(a,(1,5),constant_values = (5,8)))\n",
        "# 左邊多出一個空格，右邊多出五個空格，左邊填入 5，右邊填入 8\n",
        "# [ 5 -2 -1  0  1  2  8  8  8  8  8]"
      ],
      "metadata": {
        "colab": {
          "base_uri": "https://localhost:8080/"
        },
        "id": "7xpyK1rQPbe7",
        "outputId": "60630e38-7967-45c3-8999-36e14599d4f6"
      },
      "execution_count": 21,
      "outputs": [
        {
          "output_type": "stream",
          "name": "stdout",
          "text": [
            "[ 0  0  0  0  0 -2 -1  0  1  2  0  0  0  0  0]\n",
            "[ 5  5  5  5  5 -2 -1  0  1  2  8  8  8  8  8]\n",
            "[ 0 -2 -1  0  1  2  0  0  0  0  0]\n",
            "[ 5 -2 -1  0  1  2  8  8  8  8  8]\n"
          ]
        }
      ]
    },
    {
      "cell_type": "code",
      "source": [
        "import numpy as np\n",
        "a = np.array([-2,-1,0,1,2])\n",
        "print(np.pad(a,5,mode='edge'))        # [-2 -2 -2 -2 -2 -2 -1  0  1  2  2  2  2  2  2]\n",
        "print(np.pad(a,5,mode='linear_ramp')) # [ 0  0  0 -1 -1 -2 -1  0  1  2  1  1  0  0  0]\n",
        "print(np.pad(a,5,mode='maximum'))     # [ 2  2  2  2  2 -2 -1  0  1  2  2  2  2  2  2]\n",
        "print(np.pad(a,5,mode='mean'))        # [ 0  0  0  0  0 -2 -1  0  1  2  0  0  0  0  0]\n",
        "print(np.pad(a,5,mode='median'))      # [ 0  0  0  0  0 -2 -1  0  1  2  0  0  0  0  0]\n",
        "print(np.pad(a,5,mode='minimum'))     # [-2 -2 -2 -2 -2 -2 -1  0  1  2 -2 -2 -2 -2 -2]\n",
        "print(np.pad(a,5,mode='reflect'))     # [ 1  2  1  0 -1 -2 -1  0  1  2  1  0 -1 -2 -1]\n",
        "print(np.pad(a,5,mode='symmetric'))   # [ 2  1  0 -1 -2 -2 -1  0  1  2  2  1  0 -1 -2]\n",
        "print(np.pad(a,5,mode='wrap'))        # [-2 -1  0  1  2 -2 -1  0  1  2 -2 -1  0  1  2]"
      ],
      "metadata": {
        "colab": {
          "base_uri": "https://localhost:8080/"
        },
        "id": "NrhboNgoPkpw",
        "outputId": "d927425c-b486-4ae0-94a3-87d0c1fe7eca"
      },
      "execution_count": 22,
      "outputs": [
        {
          "output_type": "stream",
          "name": "stdout",
          "text": [
            "[-2 -2 -2 -2 -2 -2 -1  0  1  2  2  2  2  2  2]\n",
            "[ 0 -1 -1 -2 -2 -2 -1  0  1  2  1  1  0  0  0]\n",
            "[ 2  2  2  2  2 -2 -1  0  1  2  2  2  2  2  2]\n",
            "[ 0  0  0  0  0 -2 -1  0  1  2  0  0  0  0  0]\n",
            "[ 0  0  0  0  0 -2 -1  0  1  2  0  0  0  0  0]\n",
            "[-2 -2 -2 -2 -2 -2 -1  0  1  2 -2 -2 -2 -2 -2]\n",
            "[ 1  2  1  0 -1 -2 -1  0  1  2  1  0 -1 -2 -1]\n",
            "[ 2  1  0 -1 -2 -2 -1  0  1  2  2  1  0 -1 -2]\n",
            "[-2 -1  0  1  2 -2 -1  0  1  2 -2 -1  0  1  2]\n"
          ]
        }
      ]
    },
    {
      "cell_type": "markdown",
      "source": [
        "### 填充多維陣列"
      ],
      "metadata": {
        "id": "i98KgcMNPtiq"
      }
    },
    {
      "cell_type": "code",
      "source": [
        "import numpy as np\n",
        "a = np.array([[1,1],[2,2]])\n",
        "print(np.pad(a,2))"
      ],
      "metadata": {
        "colab": {
          "base_uri": "https://localhost:8080/"
        },
        "id": "pim1t934PpJA",
        "outputId": "0ab59852-9149-46cf-ea68-0000f8c8a7c6"
      },
      "execution_count": 23,
      "outputs": [
        {
          "output_type": "stream",
          "name": "stdout",
          "text": [
            "[[0 0 0 0 0 0]\n",
            " [0 0 0 0 0 0]\n",
            " [0 0 1 1 0 0]\n",
            " [0 0 2 2 0 0]\n",
            " [0 0 0 0 0 0]\n",
            " [0 0 0 0 0 0]]\n"
          ]
        }
      ]
    },
    {
      "cell_type": "code",
      "source": [
        "print(np.pad(a,2,constant_values = (5,8)))"
      ],
      "metadata": {
        "colab": {
          "base_uri": "https://localhost:8080/"
        },
        "id": "oCLGPYL0Pxnt",
        "outputId": "7f8a57b6-f9e8-408e-9192-36d11f422245"
      },
      "execution_count": 24,
      "outputs": [
        {
          "output_type": "stream",
          "name": "stdout",
          "text": [
            "[[5 5 5 5 8 8]\n",
            " [5 5 5 5 8 8]\n",
            " [5 5 1 1 8 8]\n",
            " [5 5 2 2 8 8]\n",
            " [5 5 8 8 8 8]\n",
            " [5 5 8 8 8 8]]\n"
          ]
        }
      ]
    },
    {
      "cell_type": "code",
      "source": [
        "print(np.pad(a,(1,2)))"
      ],
      "metadata": {
        "colab": {
          "base_uri": "https://localhost:8080/"
        },
        "id": "AN9Hn_-qP0wn",
        "outputId": "fa88b420-7e84-4e93-82bd-eab13060a812"
      },
      "execution_count": 25,
      "outputs": [
        {
          "output_type": "stream",
          "name": "stdout",
          "text": [
            "[[0 0 0 0 0]\n",
            " [0 1 1 0 0]\n",
            " [0 2 2 0 0]\n",
            " [0 0 0 0 0]\n",
            " [0 0 0 0 0]]\n"
          ]
        }
      ]
    },
    {
      "cell_type": "code",
      "source": [
        "print(np.pad(a,(1,2),constant_values = (5,8)))"
      ],
      "metadata": {
        "colab": {
          "base_uri": "https://localhost:8080/"
        },
        "id": "R4M9W1VNP3om",
        "outputId": "64d4cbf1-94c5-4b4b-e35f-09184cb0af39"
      },
      "execution_count": 26,
      "outputs": [
        {
          "output_type": "stream",
          "name": "stdout",
          "text": [
            "[[5 5 5 8 8]\n",
            " [5 1 1 8 8]\n",
            " [5 2 2 8 8]\n",
            " [5 8 8 8 8]\n",
            " [5 8 8 8 8]]\n"
          ]
        }
      ]
    },
    {
      "cell_type": "code",
      "source": [
        "print(np.pad(a,2,mode='edge'))"
      ],
      "metadata": {
        "colab": {
          "base_uri": "https://localhost:8080/"
        },
        "id": "EM_c-TXCP6ZW",
        "outputId": "f3555c08-2883-4268-9dbb-feaeea450fdb"
      },
      "execution_count": 27,
      "outputs": [
        {
          "output_type": "stream",
          "name": "stdout",
          "text": [
            "[[1 1 1 1 1 1]\n",
            " [1 1 1 1 1 1]\n",
            " [1 1 1 1 1 1]\n",
            " [2 2 2 2 2 2]\n",
            " [2 2 2 2 2 2]\n",
            " [2 2 2 2 2 2]]\n"
          ]
        }
      ]
    },
    {
      "cell_type": "code",
      "source": [
        "print(np.pad(a,2,mode='linear_ramp'))"
      ],
      "metadata": {
        "colab": {
          "base_uri": "https://localhost:8080/"
        },
        "id": "7iFGdBQzP9sA",
        "outputId": "9b292d6b-0c56-4944-be12-dd5603799a3d"
      },
      "execution_count": 28,
      "outputs": [
        {
          "output_type": "stream",
          "name": "stdout",
          "text": [
            "[[0 0 0 0 0 0]\n",
            " [0 0 0 0 0 0]\n",
            " [0 0 1 1 0 0]\n",
            " [0 1 2 2 1 0]\n",
            " [0 0 1 1 0 0]\n",
            " [0 0 0 0 0 0]]\n"
          ]
        }
      ]
    },
    {
      "cell_type": "code",
      "source": [
        "print(np.pad(a,2,mode='maximum'))"
      ],
      "metadata": {
        "colab": {
          "base_uri": "https://localhost:8080/"
        },
        "id": "5z9lXKNXQAwT",
        "outputId": "0d189673-6157-4b3d-f861-9fff67da7d61"
      },
      "execution_count": 29,
      "outputs": [
        {
          "output_type": "stream",
          "name": "stdout",
          "text": [
            "[[2 2 2 2 2 2]\n",
            " [2 2 2 2 2 2]\n",
            " [1 1 1 1 1 1]\n",
            " [2 2 2 2 2 2]\n",
            " [2 2 2 2 2 2]\n",
            " [2 2 2 2 2 2]]\n"
          ]
        }
      ]
    },
    {
      "cell_type": "code",
      "source": [
        "print(np.pad(a,2,mode='mean'))"
      ],
      "metadata": {
        "colab": {
          "base_uri": "https://localhost:8080/"
        },
        "id": "za1grz3cQEE0",
        "outputId": "620ab1eb-cc59-4521-d8de-f8352a1d50fd"
      },
      "execution_count": 30,
      "outputs": [
        {
          "output_type": "stream",
          "name": "stdout",
          "text": [
            "[[2 2 2 2 2 2]\n",
            " [2 2 2 2 2 2]\n",
            " [1 1 1 1 1 1]\n",
            " [2 2 2 2 2 2]\n",
            " [2 2 2 2 2 2]\n",
            " [2 2 2 2 2 2]]\n"
          ]
        }
      ]
    },
    {
      "cell_type": "code",
      "source": [
        "print(np.pad(a,2,mode='median'))"
      ],
      "metadata": {
        "colab": {
          "base_uri": "https://localhost:8080/"
        },
        "id": "-pn6VTxBQH1c",
        "outputId": "c8378c55-924c-4406-f0dd-a90da829aec6"
      },
      "execution_count": 31,
      "outputs": [
        {
          "output_type": "stream",
          "name": "stdout",
          "text": [
            "[[2 2 2 2 2 2]\n",
            " [2 2 2 2 2 2]\n",
            " [1 1 1 1 1 1]\n",
            " [2 2 2 2 2 2]\n",
            " [2 2 2 2 2 2]\n",
            " [2 2 2 2 2 2]]\n"
          ]
        }
      ]
    },
    {
      "cell_type": "code",
      "source": [
        "print(np.pad(a,2,mode='minimum'))"
      ],
      "metadata": {
        "colab": {
          "base_uri": "https://localhost:8080/"
        },
        "id": "2xOXT4KvQKtq",
        "outputId": "4afc97c1-d418-460e-ee4c-0f87b10ace92"
      },
      "execution_count": 32,
      "outputs": [
        {
          "output_type": "stream",
          "name": "stdout",
          "text": [
            "[[1 1 1 1 1 1]\n",
            " [1 1 1 1 1 1]\n",
            " [1 1 1 1 1 1]\n",
            " [2 2 2 2 2 2]\n",
            " [1 1 1 1 1 1]\n",
            " [1 1 1 1 1 1]]\n"
          ]
        }
      ]
    },
    {
      "cell_type": "code",
      "source": [
        "print(np.pad(a,2,mode='reflect'))"
      ],
      "metadata": {
        "colab": {
          "base_uri": "https://localhost:8080/"
        },
        "id": "w_IdBcQbQN5m",
        "outputId": "5391f049-3aff-410e-dc5c-4e58b4f6bd51"
      },
      "execution_count": 33,
      "outputs": [
        {
          "output_type": "stream",
          "name": "stdout",
          "text": [
            "[[1 1 1 1 1 1]\n",
            " [2 2 2 2 2 2]\n",
            " [1 1 1 1 1 1]\n",
            " [2 2 2 2 2 2]\n",
            " [1 1 1 1 1 1]\n",
            " [2 2 2 2 2 2]]\n"
          ]
        }
      ]
    },
    {
      "cell_type": "code",
      "source": [
        "print(np.pad(a,2,mode='symmetric'))"
      ],
      "metadata": {
        "colab": {
          "base_uri": "https://localhost:8080/"
        },
        "id": "uyJ6NJ2iQQ9A",
        "outputId": "c9959681-545b-481d-968d-1b80161813ef"
      },
      "execution_count": 34,
      "outputs": [
        {
          "output_type": "stream",
          "name": "stdout",
          "text": [
            "[[2 2 2 2 2 2]\n",
            " [1 1 1 1 1 1]\n",
            " [1 1 1 1 1 1]\n",
            " [2 2 2 2 2 2]\n",
            " [2 2 2 2 2 2]\n",
            " [1 1 1 1 1 1]]\n"
          ]
        }
      ]
    },
    {
      "cell_type": "code",
      "source": [
        "print(np.pad(a,2,mode='wrap'))"
      ],
      "metadata": {
        "colab": {
          "base_uri": "https://localhost:8080/"
        },
        "id": "fjefAkZ3QTo-",
        "outputId": "5efbb51f-6821-4d2a-c705-1bb1105fd3f7"
      },
      "execution_count": 35,
      "outputs": [
        {
          "output_type": "stream",
          "name": "stdout",
          "text": [
            "[[1 1 1 1 1 1]\n",
            " [2 2 2 2 2 2]\n",
            " [1 1 1 1 1 1]\n",
            " [2 2 2 2 2 2]\n",
            " [1 1 1 1 1 1]\n",
            " [2 2 2 2 2 2]]\n"
          ]
        }
      ]
    },
    {
      "cell_type": "markdown",
      "source": [
        "### 分割陣列"
      ],
      "metadata": {
        "id": "dmK-JBFLQa5A"
      }
    },
    {
      "cell_type": "code",
      "source": [
        "import numpy as np\n",
        "\n",
        "a = np.array([1,2,3,4,5,6])\n",
        "b = np.array_split(a, 3)\n",
        "c = np.split(a, 3)\n",
        "print(b)  # [array([1, 2]), array([3, 4]), array([5, 6])]\n",
        "print(c)  # [array([1, 2]), array([3, 4]), array([5, 6])]"
      ],
      "metadata": {
        "colab": {
          "base_uri": "https://localhost:8080/"
        },
        "id": "SdtxckplQWiv",
        "outputId": "d2b5364f-9b81-48df-8258-471b9e69f939"
      },
      "execution_count": 36,
      "outputs": [
        {
          "output_type": "stream",
          "name": "stdout",
          "text": [
            "[array([1, 2]), array([3, 4]), array([5, 6])]\n",
            "[array([1, 2]), array([3, 4]), array([5, 6])]\n"
          ]
        }
      ]
    },
    {
      "cell_type": "code",
      "source": [
        "import numpy as np\n",
        "\n",
        "a = np.array([[1,2],[3,4],[5,6]])\n",
        "b = np.array_split(a, 2)\n",
        "c = np.array_split(a, 2, 1)\n",
        "\n",
        "print(b)  # [array([[1, 2],[3, 4]]), array([[5, 6]])]\n",
        "print(c)  # [array([[1],[3],[5]]), array([[2],[4],[6]])]"
      ],
      "metadata": {
        "colab": {
          "base_uri": "https://localhost:8080/"
        },
        "id": "6jGfyNYsQfg0",
        "outputId": "aaf10c1a-323c-49c0-8f2f-881cf0cbc505"
      },
      "execution_count": 37,
      "outputs": [
        {
          "output_type": "stream",
          "name": "stdout",
          "text": [
            "[array([[1, 2],\n",
            "       [3, 4]]), array([[5, 6]])]\n",
            "[array([[1],\n",
            "       [3],\n",
            "       [5]]), array([[2],\n",
            "       [4],\n",
            "       [6]])]\n"
          ]
        }
      ]
    },
    {
      "cell_type": "code",
      "source": [
        "import numpy as np\n",
        "\n",
        "a = np.array([[1,1,1],[2,2,2],[3,3,3]])\n",
        "b = np.hsplit(a, 3)\n",
        "print(b)  # [array([[1],[2],[3]]), array([[1],[2],[3]]), array([[1],[2],[3]])]"
      ],
      "metadata": {
        "colab": {
          "base_uri": "https://localhost:8080/"
        },
        "id": "Ie81atNHQi89",
        "outputId": "a4e85331-dd96-4e5a-f1d2-b35447405df5"
      },
      "execution_count": 38,
      "outputs": [
        {
          "output_type": "stream",
          "name": "stdout",
          "text": [
            "[array([[1],\n",
            "       [2],\n",
            "       [3]]), array([[1],\n",
            "       [2],\n",
            "       [3]]), array([[1],\n",
            "       [2],\n",
            "       [3]])]\n"
          ]
        }
      ]
    },
    {
      "cell_type": "code",
      "source": [
        "import numpy as np\n",
        "\n",
        "a = np.array([[1,1,1],[2,2,2],[3,3,3]])\n",
        "b = np.vsplit(a, 3)\n",
        "print(b)   # [array([[1, 1, 1]]), array([[2, 2, 2]]), array([[3, 3, 3]])]"
      ],
      "metadata": {
        "colab": {
          "base_uri": "https://localhost:8080/"
        },
        "id": "cNoeY_WEQm0l",
        "outputId": "6db2162c-5b4c-4169-8046-395523a4eecd"
      },
      "execution_count": 39,
      "outputs": [
        {
          "output_type": "stream",
          "name": "stdout",
          "text": [
            "[array([[1, 1, 1]]), array([[2, 2, 2]]), array([[3, 3, 3]])]\n"
          ]
        }
      ]
    },
    {
      "cell_type": "code",
      "source": [
        "import numpy as np\n",
        "\n",
        "a = np.array([1])\n",
        "b = np.array([2,2])\n",
        "c = np.array([3,3,3])\n",
        "d = np.concatenate((a, b, c))\n",
        "print(d)   # [1 2 2 3 3 3]"
      ],
      "metadata": {
        "colab": {
          "base_uri": "https://localhost:8080/"
        },
        "id": "rApMnbFOQqHN",
        "outputId": "1f919efa-924e-4166-9ec5-d7789ba2b13e"
      },
      "execution_count": 40,
      "outputs": [
        {
          "output_type": "stream",
          "name": "stdout",
          "text": [
            "[1 2 2 3 3 3]\n"
          ]
        }
      ]
    },
    {
      "cell_type": "code",
      "source": [
        "import numpy as np\n",
        "\n",
        "a = np.array([[1,1],[2,2],[3,3]])\n",
        "b = np.array([[4,4],[5,5]])\n",
        "c = np.concatenate((a, b))\n",
        "print(c)"
      ],
      "metadata": {
        "colab": {
          "base_uri": "https://localhost:8080/"
        },
        "id": "FzcR_j7EQuqa",
        "outputId": "b49412b9-2129-4fba-e4b5-b59110654cd6"
      },
      "execution_count": 41,
      "outputs": [
        {
          "output_type": "stream",
          "name": "stdout",
          "text": [
            "[[1 1]\n",
            " [2 2]\n",
            " [3 3]\n",
            " [4 4]\n",
            " [5 5]]\n"
          ]
        }
      ]
    },
    {
      "cell_type": "code",
      "source": [
        "import numpy as np\n",
        "\n",
        "a = np.array([[1,1],[2,2],[3,3]])      # 3x2 陣列\n",
        "b = np.array([[4,4],[5,5],[6,6]])      # 3x2 陣列\n",
        "# b = np.array([[4,4],[5,5],[6,6,6]])  # 如果 b 的形狀和 a 不同，會發生錯誤\n",
        "c = np.concatenate((a, b), axis=0)     # axis 設定為 0\n",
        "print(c)                               # 連接變成 6x2 陣列"
      ],
      "metadata": {
        "colab": {
          "base_uri": "https://localhost:8080/"
        },
        "id": "KBj_Aj8RQyNK",
        "outputId": "b9791b5b-35ec-4d6b-9d23-10f7b3400154"
      },
      "execution_count": 42,
      "outputs": [
        {
          "output_type": "stream",
          "name": "stdout",
          "text": [
            "[[1 1]\n",
            " [2 2]\n",
            " [3 3]\n",
            " [4 4]\n",
            " [5 5]\n",
            " [6 6]]\n"
          ]
        }
      ]
    },
    {
      "cell_type": "code",
      "source": [
        "d = np.concatenate((a, b), axis=1)     # axis 設定為 1\n",
        "print(d)                               # 連接變成 3x4 陣列"
      ],
      "metadata": {
        "colab": {
          "base_uri": "https://localhost:8080/"
        },
        "id": "hgkqwpS1Q1pi",
        "outputId": "57fafce2-e211-40d7-b176-a7f498d473cf"
      },
      "execution_count": 43,
      "outputs": [
        {
          "output_type": "stream",
          "name": "stdout",
          "text": [
            "[[1 1 4 4]\n",
            " [2 2 5 5]\n",
            " [3 3 6 6]]\n"
          ]
        }
      ]
    },
    {
      "cell_type": "code",
      "source": [
        "import numpy as np\n",
        "\n",
        "a = np.array([1,1])\n",
        "b = np.array([2,2])\n",
        "c = np.array([3,3])\n",
        "d = np.concatenate((a, b, c))\n",
        "print(d)   # [1 1 2 2 3 3]"
      ],
      "metadata": {
        "colab": {
          "base_uri": "https://localhost:8080/"
        },
        "id": "D7ny2SprQ406",
        "outputId": "e630fca6-0651-48e9-b440-56a216a781c9"
      },
      "execution_count": 44,
      "outputs": [
        {
          "output_type": "stream",
          "name": "stdout",
          "text": [
            "[1 1 2 2 3 3]\n"
          ]
        }
      ]
    },
    {
      "cell_type": "code",
      "source": [
        "import numpy as np\n",
        "\n",
        "a = np.array([[1,1],[2,2],[3,3]])  # 3x2 的陣列\n",
        "b = np.array([[4,4],[5,5],[6,6]])  # 3x2 的陣列\n",
        "c = np.stack((a, b), axis=0)       # axis 設定為 0\n",
        "print(c)                           # 堆積成為 2x3x2 的陣列"
      ],
      "metadata": {
        "colab": {
          "base_uri": "https://localhost:8080/"
        },
        "id": "v2Rc4IeRQ8PA",
        "outputId": "ca9d2697-4df7-4e6c-af21-ed0218ba70be"
      },
      "execution_count": 45,
      "outputs": [
        {
          "output_type": "stream",
          "name": "stdout",
          "text": [
            "[[[1 1]\n",
            "  [2 2]\n",
            "  [3 3]]\n",
            "\n",
            " [[4 4]\n",
            "  [5 5]\n",
            "  [6 6]]]\n"
          ]
        }
      ]
    },
    {
      "cell_type": "code",
      "source": [
        "d = np.stack((a, b), axis=1)       # axis 設定為 0\n",
        "print(d)                           # 堆積成為 3x2x2 的陣列"
      ],
      "metadata": {
        "colab": {
          "base_uri": "https://localhost:8080/"
        },
        "id": "Dax9oCQoQ_Wg",
        "outputId": "a6d2fff9-2766-4b20-8644-ab6540d2013f"
      },
      "execution_count": 46,
      "outputs": [
        {
          "output_type": "stream",
          "name": "stdout",
          "text": [
            "[[[1 1]\n",
            "  [4 4]]\n",
            "\n",
            " [[2 2]\n",
            "  [5 5]]\n",
            "\n",
            " [[3 3]\n",
            "  [6 6]]]\n"
          ]
        }
      ]
    },
    {
      "cell_type": "code",
      "source": [
        "a = np.array([[1,1],[2,2],[3,3]])   # 3x2 陣列\n",
        "b = np.array([[4,4],[5,5],[6,6]])   # 3x2 陣列\n",
        "c = np.hstack((a, b))               # 水平合併\n",
        "print(c)                            # 變成 3x4 的陣列"
      ],
      "metadata": {
        "colab": {
          "base_uri": "https://localhost:8080/"
        },
        "id": "kcKKANLpRCSf",
        "outputId": "3e274adc-bc03-4c2a-9e62-f132257e4419"
      },
      "execution_count": 47,
      "outputs": [
        {
          "output_type": "stream",
          "name": "stdout",
          "text": [
            "[[1 1 4 4]\n",
            " [2 2 5 5]\n",
            " [3 3 6 6]]\n"
          ]
        }
      ]
    },
    {
      "cell_type": "code",
      "source": [
        "d = np.vstack((a, b))               # 垂直合併\n",
        "print(d)                            # 變成 6x2 的陣列"
      ],
      "metadata": {
        "colab": {
          "base_uri": "https://localhost:8080/"
        },
        "id": "nLMz_umARGGH",
        "outputId": "965c2946-5e19-42a8-f913-46c003916515"
      },
      "execution_count": 48,
      "outputs": [
        {
          "output_type": "stream",
          "name": "stdout",
          "text": [
            "[[1 1]\n",
            " [2 2]\n",
            " [3 3]\n",
            " [4 4]\n",
            " [5 5]\n",
            " [6 6]]\n"
          ]
        }
      ]
    },
    {
      "cell_type": "markdown",
      "source": [
        "### 陣列排序"
      ],
      "metadata": {
        "id": "zom4Ndh5RQHl"
      }
    },
    {
      "cell_type": "code",
      "source": [
        "a = np.array([5,3,4,2,1,6,7,9,8])\n",
        "b = np.sort(a)\n",
        "print(b)    # [1 2 3 4 5 6 7 8 9]"
      ],
      "metadata": {
        "colab": {
          "base_uri": "https://localhost:8080/"
        },
        "id": "jyaQEZEnRJG0",
        "outputId": "04838670-93b1-428d-fa25-1cc913af0594"
      },
      "execution_count": 49,
      "outputs": [
        {
          "output_type": "stream",
          "name": "stdout",
          "text": [
            "[1 2 3 4 5 6 7 8 9]\n"
          ]
        }
      ]
    },
    {
      "cell_type": "code",
      "source": [
        "import numpy as np\n",
        "\n",
        "arr = [\n",
        "  [2,3],\n",
        "  [5,2],\n",
        "  [3,1]\n",
        "]\n",
        "a = np.array(arr)\n",
        "b = np.sort(a)   # 針對最後一軸排序 ( -1，二維陣列就是 1 )，所以只會排列 2 和 3、5 和 2、3 和 1\n",
        "print(b)"
      ],
      "metadata": {
        "colab": {
          "base_uri": "https://localhost:8080/"
        },
        "id": "LT20lB44RT81",
        "outputId": "2a116141-599c-4661-9014-6a1ff3aab804"
      },
      "execution_count": 50,
      "outputs": [
        {
          "output_type": "stream",
          "name": "stdout",
          "text": [
            "[[2 3]\n",
            " [2 5]\n",
            " [1 3]]\n"
          ]
        }
      ]
    },
    {
      "cell_type": "code",
      "source": [
        "c = np.sort(a, axis=None)   # axis 設定 None 會打散並排序為一維陣列\n",
        "print(c)                    # [1 2 2 3 3 5]\n",
        "d = np.sort(a,axis=0)       # 針對垂直維度 ( 0 軸 ) 由小到大排序，所有項目都是從小到大\n",
        "print(d)"
      ],
      "metadata": {
        "colab": {
          "base_uri": "https://localhost:8080/"
        },
        "id": "oWpj1nvNRXxR",
        "outputId": "0bf54b7f-1dd8-41f6-963c-217038107bf4"
      },
      "execution_count": 51,
      "outputs": [
        {
          "output_type": "stream",
          "name": "stdout",
          "text": [
            "[1 2 2 3 3 5]\n",
            "[[2 1]\n",
            " [3 2]\n",
            " [5 3]]\n"
          ]
        }
      ]
    },
    {
      "cell_type": "code",
      "source": [
        "e = np.sort(a,axis=1)       # 因為是二維陣列，axis 設定 1 等同 np.sort(a)\n",
        "print(e)"
      ],
      "metadata": {
        "colab": {
          "base_uri": "https://localhost:8080/"
        },
        "id": "FPd57ZrkRbPa",
        "outputId": "2c3d0aaf-2a3a-417e-aaaf-1337c5ba6482"
      },
      "execution_count": 52,
      "outputs": [
        {
          "output_type": "stream",
          "name": "stdout",
          "text": [
            "[[2 3]\n",
            " [2 5]\n",
            " [1 3]]\n"
          ]
        }
      ]
    },
    {
      "cell_type": "code",
      "source": [
        "import numpy as np\n",
        "\n",
        "arr = [\n",
        "  ('oxxo',200),\n",
        "  ('gkpen',100),\n",
        "  ('frank',300)\n",
        "]\n",
        "dt = np.dtype([('name','S10'),('num',int)])\n",
        "a = np.array(arr, dtype = dt)\n",
        "b = np.sort(a,order='name')    # 針對 name 欄位排序\n",
        "c = np.sort(a,order='num')     # 針對 um 欄位排序\n",
        "print(b)      # [(b'frank', 300) (b'gkpen', 100) (b'oxxo', 200)]\n",
        "print(c)      # [(b'gkpen', 100) (b'oxxo', 200) (b'frank', 300)]"
      ],
      "metadata": {
        "colab": {
          "base_uri": "https://localhost:8080/"
        },
        "id": "-q9lN7XWReNi",
        "outputId": "2aa89e95-8577-4005-d481-8153682090a7"
      },
      "execution_count": 53,
      "outputs": [
        {
          "output_type": "stream",
          "name": "stdout",
          "text": [
            "[(b'frank', 300) (b'gkpen', 100) (b'oxxo', 200)]\n",
            "[(b'gkpen', 100) (b'oxxo', 200) (b'frank', 300)]\n"
          ]
        }
      ]
    },
    {
      "cell_type": "code",
      "source": [
        "import numpy as np\n",
        "\n",
        "arr = [\n",
        "  [2,3,7],\n",
        "  [5,2,6],\n",
        "  [3,1,2]\n",
        "]\n",
        "a = np.array(arr)\n",
        "b = np.argsort(a)\n",
        "print(b)"
      ],
      "metadata": {
        "colab": {
          "base_uri": "https://localhost:8080/"
        },
        "id": "oeiItFJVRiTS",
        "outputId": "e50df0ce-7f11-44a0-b705-4d77f765dcbe"
      },
      "execution_count": 54,
      "outputs": [
        {
          "output_type": "stream",
          "name": "stdout",
          "text": [
            "[[0 1 2]\n",
            " [1 0 2]\n",
            " [1 2 0]]\n"
          ]
        }
      ]
    },
    {
      "cell_type": "code",
      "source": [
        "import numpy as np\n",
        "\n",
        "a = np.array([1,2,3,4,5,6,7,8])\n",
        "b = np.array(['e','d','a','c','g','h','f','b'])\n",
        "c = np.lexsort((a,b))    # b 先排序，然後 a 按照 b 的順序排序後回傳索引值\n",
        "d = np.lexsort((b,a))    # a 先排序，然後 b 按照 a 的順序排序後回傳索引值\n",
        "print(c)    # [2 7 3 1 0 6 4 5]   對應 3 8 4 2 1 7 5 6\n",
        "print(d)    # [0 1 2 3 4 5 6 7]"
      ],
      "metadata": {
        "colab": {
          "base_uri": "https://localhost:8080/"
        },
        "id": "ItoYOo0ORnFQ",
        "outputId": "a027d47a-a299-4fa1-d674-c8ac4e617272"
      },
      "execution_count": 55,
      "outputs": [
        {
          "output_type": "stream",
          "name": "stdout",
          "text": [
            "[2 7 3 1 0 6 4 5]\n",
            "[0 1 2 3 4 5 6 7]\n"
          ]
        }
      ]
    },
    {
      "cell_type": "code",
      "source": [
        "import numpy as np\n",
        "\n",
        "a = np.array([1,2,3,4,5,6,7,8])\n",
        "b = np.argmax(a)\n",
        "c = np.argmin(a)\n",
        "print(b)    # 7   對應 8\n",
        "print(c)    # 0   對應 1"
      ],
      "metadata": {
        "colab": {
          "base_uri": "https://localhost:8080/"
        },
        "id": "oh3U4VFIRqR4",
        "outputId": "506d3c04-89f3-4645-b936-70a1b5e57ac1"
      },
      "execution_count": 56,
      "outputs": [
        {
          "output_type": "stream",
          "name": "stdout",
          "text": [
            "7\n",
            "0\n"
          ]
        }
      ]
    },
    {
      "cell_type": "markdown",
      "source": [
        "## 廣播\n",
        "### NumPy 裡有個處理陣列的特別方法：廣播，意思是將「比較小的陣列內容，廣播到比較大的陣列中」，產生互相兼容的尺寸形狀，NumPy 的廣播實際使用 C 語言運作，可以有效的運用記憶體和運算，進一步提高程式運作的效率，這篇教學將會介紹 NumPy 廣播的用法。"
      ],
      "metadata": {
        "id": "i-vNt9N2R3MF"
      }
    },
    {
      "cell_type": "code",
      "source": [
        "import numpy as np\n",
        "\n",
        "a = np.array([1,2,3,4])   # 1x4 陣列\n",
        "b = 2                     # 廣播單一數字 2\n",
        "print(a+b)                # [3 4 5 6]\n",
        "print(a-b)                # [-1  0  1  2]\n",
        "print(a*b)                # [2 4 6 8]\n",
        "print(a%b)                # [1 0 1 0]\n",
        "\n",
        "c = np.array([[1,2,3],[4,5,6]])  # 2x3 陣列\n",
        "print(c+b)    # [[3 4 5] [6 7 8]]\n",
        "print(c-b)    # [[-1  0  1] [ 2  3  4]]\n",
        "print(c*b)    # [[ 2  4  6] [ 8 10 12]]\n",
        "print(c%b)    # [[1 0 1] [0 1 0]]"
      ],
      "metadata": {
        "colab": {
          "base_uri": "https://localhost:8080/"
        },
        "id": "Rks6sy_vRtcY",
        "outputId": "4805df8b-7ec2-4641-833f-4cab7c84eae7"
      },
      "execution_count": 57,
      "outputs": [
        {
          "output_type": "stream",
          "name": "stdout",
          "text": [
            "[3 4 5 6]\n",
            "[-1  0  1  2]\n",
            "[2 4 6 8]\n",
            "[1 0 1 0]\n",
            "[[3 4 5]\n",
            " [6 7 8]]\n",
            "[[-1  0  1]\n",
            " [ 2  3  4]]\n",
            "[[ 2  4  6]\n",
            " [ 8 10 12]]\n",
            "[[1 0 1]\n",
            " [0 1 0]]\n"
          ]
        }
      ]
    },
    {
      "cell_type": "markdown",
      "source": [
        "## 廣播陣列\n",
        "#### 如果要將某個陣列廣播到另外一個陣列，同樣能單純透過數學運算式進行計算後廣播，但必須注意在「同一個軸 ( 維度 )」上的數量必須相等或等於 1，不然廣播時會發生錯誤"
      ],
      "metadata": {
        "id": "0yoNVj0WSLfT"
      }
    },
    {
      "cell_type": "code",
      "source": [
        "import numpy as np\n",
        "\n",
        "a = np.array([[1,1,1],[2,2,2]])   # 2x3 陣列\n",
        "b = np.array([1,2,3])             # 1x3 陣列\n",
        "print(a+b)     # [[2 3 4] [3 4 5]]\n",
        "print(a-b)     # [[ 0 -1 -2] [ 1  0 -1]]\n",
        "print(a*b)     # [[1 2 3] [2 4 6]]\n",
        "print(a%b)     # [[0 1 1] [0 0 2]]\n",
        "\n",
        "c = np.array([[1,1,1],[2,2,2],[3,3,3]])   # 3x3 陣列\n",
        "d = np.array([[1],[2],[3]])               # 3x1 陣列\n",
        "print(c+d)     # [[2 2 2] [4 4 4] [6 6 6]]\n",
        "print(c-d)     # [[0 0 0] [0 0 0] [0 0 0]]\n",
        "print(c*d)     # [[1 1 1] [4 4 4] [9 9 9]]\n",
        "print(c%d)     # [[0 0 0] [0 0 0] [0 0 0]]"
      ],
      "metadata": {
        "colab": {
          "base_uri": "https://localhost:8080/"
        },
        "id": "MQhLyd29R-Sn",
        "outputId": "680b4901-a629-4a59-9a17-f96972f9a5dd"
      },
      "execution_count": 58,
      "outputs": [
        {
          "output_type": "stream",
          "name": "stdout",
          "text": [
            "[[2 3 4]\n",
            " [3 4 5]]\n",
            "[[ 0 -1 -2]\n",
            " [ 1  0 -1]]\n",
            "[[1 2 3]\n",
            " [2 4 6]]\n",
            "[[0 1 1]\n",
            " [0 0 2]]\n",
            "[[2 2 2]\n",
            " [4 4 4]\n",
            " [6 6 6]]\n",
            "[[0 0 0]\n",
            " [0 0 0]\n",
            " [0 0 0]]\n",
            "[[1 1 1]\n",
            " [4 4 4]\n",
            " [9 9 9]]\n",
            "[[0 0 0]\n",
            " [0 0 0]\n",
            " [0 0 0]]\n"
          ]
        }
      ]
    },
    {
      "cell_type": "code",
      "source": [
        "import numpy as np\n",
        "a = np.array([[1,1,1],[2,2,2]])   # 2x3 陣列\n",
        "b = np.array([[3,3,3],[4,4,4]])   # 2x3 陣列\n",
        "print(a+b)     # [[4 4 4] [6 6 6]]\n",
        "print(a-b)     # [[-2 -2 -2] [-2 -2 -2]]\n",
        "print(a*b)     # [[3 3 3] [8 8 8]]\n",
        "print(a%b)     # [[1 1 1] [2 2 2]]"
      ],
      "metadata": {
        "colab": {
          "base_uri": "https://localhost:8080/"
        },
        "id": "wc860dQ8SKHb",
        "outputId": "56b85322-218a-4884-cd24-a83fca7790ff"
      },
      "execution_count": 59,
      "outputs": [
        {
          "output_type": "stream",
          "name": "stdout",
          "text": [
            "[[4 4 4]\n",
            " [6 6 6]]\n",
            "[[-2 -2 -2]\n",
            " [-2 -2 -2]]\n",
            "[[3 3 3]\n",
            " [8 8 8]]\n",
            "[[1 1 1]\n",
            " [2 2 2]]\n"
          ]
        }
      ]
    },
    {
      "cell_type": "markdown",
      "source": [
        "## 字串操作處理\n",
        "#### 在 Python 裡如果遇到資料中的文字處理狀況，通常會使用迴圈的方式慢慢處理，然而 NumPy 提供許多處理與操作陣列裡文字的方法，能夠很簡單的進行分割、合併、置換...等字串處理，也能夠快速地進行內容判斷並回傳布林值，這篇教學會介紹 NumPy 操作與處理字串的方法。"
      ],
      "metadata": {
        "id": "ah5RkOzjSiTl"
      }
    },
    {
      "cell_type": "markdown",
      "source": [
        "#### 建立字串陣列\n",
        "#### 透過 NumPy 建立字串陣列的方法，可以建立由字串所組成的新陣列。"
      ],
      "metadata": {
        "id": "mRwb_4hgTtYg"
      }
    },
    {
      "cell_type": "code",
      "source": [
        "from numpy import char\n",
        "\n",
        "a = char.array(['a','b','c. \\n', 1])     # 換行符號和空白會被取代，數字轉換成文字\n",
        "b = char.asarray(['a','b','c. \\n',1])    # 換行符號和空白會被取代，數字轉換成文字\n",
        "print(a)                                 # ['a' 'b' 'c.' '1']\n",
        "print(b)                                 # ['a' 'b' 'c.' '1']\n",
        "c1 = char.chararray((3,3))               # 產生一個 3x3 的文字陣列，內容放入 string\n",
        "c2 = char.chararray((3,3), unicode=True) # 產生一個 3x3 的文字陣列，內容放入 unicode 字串\n",
        "print(c1)                                # [[b'\\xa0' b'\\x10' ''] [b'\\xe6' b'!' b'V'] ['' '' '']]\n",
        "print(c2)                                # [['' '' ''] ['' '' ''] ['' '' '']]\n",
        "d = char.chararray((3,3), unicode=True)  # 產生一個 3x3 的文字陣列，內容放入 unicode 字串\n",
        "d[:] = 'a'                               # 將內容全換成字母 a\n",
        "print(d)                                 # [['a' 'a' 'a'] ['a' 'a' 'a'] ['a' 'a' 'a']]"
      ],
      "metadata": {
        "colab": {
          "base_uri": "https://localhost:8080/"
        },
        "id": "Ouk9HFw_SW-I",
        "outputId": "1d287ff1-0069-43f8-b8c0-7c70c6c3b4d7"
      },
      "execution_count": 60,
      "outputs": [
        {
          "output_type": "stream",
          "name": "stdout",
          "text": [
            "['a' 'b' 'c.' '1']\n",
            "['a' 'b' 'c.' '1']\n",
            "[[b'-' b'\\xdc' b'\\xb0']\n",
            " ['' b'\\xc9' b'Z']\n",
            " ['' '' '']]\n",
            "[['' '' '']\n",
            " ['' '' '']\n",
            " ['' '' '']]\n",
            "[['a' 'a' 'a']\n",
            " ['a' 'a' 'a']\n",
            " ['a' 'a' 'a']]\n"
          ]
        }
      ]
    },
    {
      "cell_type": "markdown",
      "source": [
        "## 組合、重複字串\n",
        "#### 透過 NumPy 組合、重複字串的方法，可以組合不同的字串陣列，或重複字串內容，成為新的陣列。"
      ],
      "metadata": {
        "id": "qfZv0RZBTlhJ"
      }
    },
    {
      "cell_type": "code",
      "source": [
        "from numpy import char\n",
        "\n",
        "a = np.array(['a','b','c','d'])      # 1x4 一維陣列\n",
        "b = np.array(['w','x','y','z'])      # 1x4 一維陣列\n",
        "print(char.add(a,b))                 # ['aw' 'bx' 'cy' 'dz']\n",
        "print(char.multiply(a,3))            # ['aaa' 'bbb' 'ccc' 'ddd']\n",
        "\n",
        "c = np.array([['a','b'],['c','d']])  # 2x2 二維陣列\n",
        "d = np.array([['w','x'],['y','z']])  # 2x2 二維陣列\n",
        "print(char.add(c,d))                 # [['aw' 'bx'] ['cy' 'dz']]\n",
        "print(char.multiply(c,3))            # [['aaa' 'bbb'] ['ccc' 'ddd']]"
      ],
      "metadata": {
        "colab": {
          "base_uri": "https://localhost:8080/"
        },
        "id": "ovnta7dcSo30",
        "outputId": "6e1e6814-cf87-41dd-fd57-c4ac9f7dc796"
      },
      "execution_count": 61,
      "outputs": [
        {
          "output_type": "stream",
          "name": "stdout",
          "text": [
            "['aw' 'bx' 'cy' 'dz']\n",
            "['aaa' 'bbb' 'ccc' 'ddd']\n",
            "[['aw' 'bx']\n",
            " ['cy' 'dz']]\n",
            "[['aaa' 'bbb']\n",
            " ['ccc' 'ddd']]\n"
          ]
        }
      ]
    },
    {
      "cell_type": "markdown",
      "source": [
        "## 對齊、補齊字串\n",
        "#### 透過 NumPy 對齊、補齊字串的方法，可以對齊字串內容，或使用特定字元補齊內容，成為新的陣列。"
      ],
      "metadata": {
        "id": "jX2z0SNJTfxj"
      }
    },
    {
      "cell_type": "code",
      "source": [
        "from numpy import char\n",
        "\n",
        "a = np.array(['a','bb','ccc','dddd'])\n",
        "print(char.center(a, 10, '+'))    # 置中對齊，空白補 +\n",
        "                                  # ['++++a+++++' '++++bb++++' '+++ccc++++' '+++dddd+++']\n",
        "print(char.ljust(a, 10, '+'))     # 置左對齊，空白補 +\n",
        "                                  # ['a+++++++++' 'bb++++++++' 'ccc+++++++' 'dddd++++++']\n",
        "print(char.rjust(a, 10, '+'))     # 置右對齊，空白補 +\n",
        "                                  # ['+++++++++a' '++++++++bb' '+++++++ccc' '++++++dddd']\n",
        "print(char.zfill(a, 10))          # 置右對齊，空白補 0\n",
        "                                  # ['000000000a' '00000000bb' '0000000ccc' '000000dddd']"
      ],
      "metadata": {
        "colab": {
          "base_uri": "https://localhost:8080/"
        },
        "id": "o0swv5rMStYd",
        "outputId": "7104e6d3-aff2-4ae2-8025-42e193c51161"
      },
      "execution_count": 62,
      "outputs": [
        {
          "output_type": "stream",
          "name": "stdout",
          "text": [
            "['++++a+++++' '++++bb++++' '+++ccc++++' '+++dddd+++']\n",
            "['a+++++++++' 'bb++++++++' 'ccc+++++++' 'dddd++++++']\n",
            "['+++++++++a' '++++++++bb' '+++++++ccc' '++++++dddd']\n",
            "['000000000a' '00000000bb' '0000000ccc' '000000dddd']\n"
          ]
        }
      ]
    },
    {
      "cell_type": "markdown",
      "source": [
        "## 移除、分割字串\n",
        "#### 透過 NumPy 移除、分割字串的方法，可以移除字串內特定文字，或根據特定字元分割字串，成為新的陣列。"
      ],
      "metadata": {
        "id": "oZoOiMjgTaW1"
      }
    },
    {
      "cell_type": "code",
      "source": [
        "from numpy import char\n",
        "\n",
        "a = np.array(['aaa','aa\\nbb','bb\\naa','abab'])\n",
        "print(char.lstrip(a,'a'))     # 移除左側所有 a ( 遇到不是 a 就停止 )\n",
        "                              # ['' '\\nbb' 'bb\\naa' 'bab']\n",
        "print(char.rstrip(a,'a'))     # 移除右側所有 a ( 遇到不是 a 就停止 )\n",
        "                              # ['' 'aa\\nbb' 'bb\\n' 'abab']\n",
        "print(char.strip(a,'a'))      # 移除左右所有 a ( 遇到不是 a 就停止 )\n",
        "                              # ['' '\\nbb' 'bb\\n' 'bab']\n",
        "print(char.partition(a,'a'))  # 以 b 的左側分割元素 ( 分割後會包含 b )\n",
        "                              # [['' 'a' 'aa'] ['' 'a' 'a\\nbb'] ['bb\\n' 'a' 'a'] ['' 'a' 'bab']]\n",
        "print(char.rpartition(a,'a')) # 以 b 的右側分割元素 ( 分割後會包含 b )\n",
        "                              # [['aa' 'a' ''] ['a' 'a' '\\nbb'] ['bb\\na' 'a' ''] ['ab' 'a' 'b']]\n",
        "print(char.split(a,'a'))      # 以 b 的左側分割元素 ( 分割後會不包含 b )\n",
        "                              # [list(['', '', '', '']) list(['', '', '\\nbb']) list(['bb\\n', '', '']) list(['', 'b', 'b'])]\n",
        "print(char.rsplit(a,'a'))     # 以 b 的右側分割元素 ( 分割後會不包含 b )\n",
        "                              # [list(['', '', '', '']) list(['', '', '\\nbb']) list(['bb\\n', '', '']) list(['', 'b', 'b'])]\n",
        "print(char.splitlines(a))     # 根據換行符號分割元素\n",
        "                              # [list(['aaa']) list(['aa', 'bb']) list(['bb', 'aa']) list(['abab'])]"
      ],
      "metadata": {
        "colab": {
          "base_uri": "https://localhost:8080/"
        },
        "id": "IujWBhI0Swm6",
        "outputId": "6dff7c31-3e70-4089-b63e-f9207704962f"
      },
      "execution_count": 63,
      "outputs": [
        {
          "output_type": "stream",
          "name": "stdout",
          "text": [
            "['' '\\nbb' 'bb\\naa' 'bab']\n",
            "['' 'aa\\nbb' 'bb\\n' 'abab']\n",
            "['' '\\nbb' 'bb\\n' 'bab']\n",
            "[['' 'a' 'aa']\n",
            " ['' 'a' 'a\\nbb']\n",
            " ['bb\\n' 'a' 'a']\n",
            " ['' 'a' 'bab']]\n",
            "[['aa' 'a' '']\n",
            " ['a' 'a' '\\nbb']\n",
            " ['bb\\na' 'a' '']\n",
            " ['ab' 'a' 'b']]\n",
            "[list(['', '', '', '']) list(['', '', '\\nbb']) list(['bb\\n', '', ''])\n",
            " list(['', 'b', 'b'])]\n",
            "[list(['', '', '', '']) list(['', '', '\\nbb']) list(['bb\\n', '', ''])\n",
            " list(['', 'b', 'b'])]\n",
            "[list(['aaa']) list(['aa', 'bb']) list(['bb', 'aa']) list(['abab'])]\n"
          ]
        }
      ]
    },
    {
      "cell_type": "markdown",
      "source": [
        "## 替換、轉換字串\n",
        "#### 透過 NumPy 替換、轉換字串的方法，可以替換字串內的特定文字，或進行大小寫的轉換，成為新的陣列。"
      ],
      "metadata": {
        "id": "nS1zjRkqTU6d"
      }
    },
    {
      "cell_type": "code",
      "source": [
        "from numpy import char\n",
        "\n",
        "a = np.array(['abc','ABC','abc xyz'])\n",
        "print(char.capitalize(a))           # 一段文字的字首字母轉大寫\n",
        "                                    # ['Abc' 'Abc' 'Abc xyz']\n",
        "print(char.lower(a))                # 字母全部轉小寫\n",
        "                                    # ['abc' 'abc' 'abc xyz']\n",
        "print(char.upper(a))                # 字母全部轉大寫\n",
        "                                    # ['ABC' 'ABC' 'ABC XYZ']\n",
        "print(char.swapcase(a))             # 字母大小寫互換\n",
        "                                    # ['ABC' 'abc' 'ABC XYZ']\n",
        "print(char.title(a))                # 所有單字字首轉大寫\n",
        "                                    # ['Abc' 'Abc' 'Abc Xyz']\n",
        "print(char.join('-',a))             # 所有字母之間加上 -\n",
        "                                    # ['a-b-c' 'A-B-C' 'a-b-c- -x-y-z']\n",
        "print(char.join(['-',':','+'],a))   # 在不同項目裡，所有字母間加上對應的符號\n",
        "                                    # ['a-b-c' 'A:B:C' 'a+b+c+ +x+y+z']\n",
        "print(char.replace(a,'abc','mno'))  # 置換 abc 為 mno\n",
        "                                    # ['mno' 'ABC' 'mno xyz']\n",
        "c = char.encode(a)                  # 換成 unicode\n",
        "print(c)                            # [b'abc' b'ABC' b'abc xyz']\n",
        "print(char.decode(c))               # 換成 utf8\n",
        "                                    # ['abc' 'ABC' 'abc xyz']"
      ],
      "metadata": {
        "colab": {
          "base_uri": "https://localhost:8080/"
        },
        "id": "qujNfniDS0HK",
        "outputId": "11c3ee24-d060-4afa-e7e9-b085f790d20d"
      },
      "execution_count": 64,
      "outputs": [
        {
          "output_type": "stream",
          "name": "stdout",
          "text": [
            "['Abc' 'Abc' 'Abc xyz']\n",
            "['abc' 'abc' 'abc xyz']\n",
            "['ABC' 'ABC' 'ABC XYZ']\n",
            "['ABC' 'abc' 'ABC XYZ']\n",
            "['Abc' 'Abc' 'Abc Xyz']\n",
            "['a-b-c' 'A-B-C' 'a-b-c- -x-y-z']\n",
            "['a-b-c' 'A:B:C' 'a+b+c+ +x+y+z']\n",
            "['mno' 'ABC' 'mno xyz']\n",
            "[b'abc' b'ABC' b'abc xyz']\n",
            "['abc' 'ABC' 'abc xyz']\n"
          ]
        }
      ]
    },
    {
      "cell_type": "markdown",
      "source": [
        "## 尋找字串、計算字串長度\n",
        "#### 透過 NumPy 尋找字串、計算字串長度的方法，可以尋找字串內的特定文字，或計算字串長度，成為新的陣列。"
      ],
      "metadata": {
        "id": "gk66ItJYTOb-"
      }
    },
    {
      "cell_type": "code",
      "source": [
        "from numpy import char\n",
        "\n",
        "a = np.array(['abab','aabb','bbaa','xyz'])\n",
        "print(char.find(a,'a'))       # 從左邊開始找到字母 a 的位置\n",
        "                              # [ 0  0  2 -1]\n",
        "print(char.rfind(a,'a'))      # 從右邊開始找到字母 a 的位置\n",
        "                              # [ 2  1  3 -1]\n",
        "print(char.count(a,'a',0,2))  # 計算出現幾次字母 a\n",
        "                              # [1 2 0 0]\n",
        "print(char.count(a,'a',1,3))  # [1 1 1 0]\n",
        "print(char.str_len(a))        # [4 4 4 3]"
      ],
      "metadata": {
        "colab": {
          "base_uri": "https://localhost:8080/"
        },
        "id": "EXfmwQ3wS5Zy",
        "outputId": "46c83e4a-2569-4d86-e6f3-29c4d9f87483"
      },
      "execution_count": 65,
      "outputs": [
        {
          "output_type": "stream",
          "name": "stdout",
          "text": [
            "[ 0  0  2 -1]\n",
            "[ 2  1  3 -1]\n",
            "[1 2 0 0]\n",
            "[1 1 1 0]\n",
            "[4 4 4 3]\n"
          ]
        }
      ]
    },
    {
      "cell_type": "markdown",
      "source": [
        "## 判斷字串\n",
        "#### 透過 NumPy 判斷字串的方法，可以判斷字串的內容、大小寫、開頭或結尾，並回傳布林值所組成的新陣列。"
      ],
      "metadata": {
        "id": "LqY7v5Z5TFER"
      }
    },
    {
      "cell_type": "code",
      "source": [
        "from numpy import char\n",
        "\n",
        "\n",
        "a = np.array(['abc','ABC','Abc Cba','abc123','123',''])\n",
        "b = np.array(['abc','123','xyz','abc123','123',''])\n",
        "print(char.isalpha(a))         # 只有字母 True，有包含數字或其他符號 False\n",
        "                               # [ True  True False False False False]\n",
        "print(char.isalnum(a))         # 只有字母和數字 True，有包含其它符號 False\n",
        "                               # [ True  True False  True  True False]\n",
        "print(char.isdecimal(a))       # 只有十進位數字 True，有包含其它符號或字母 False\n",
        "                               # [False False False False  True False]\n",
        "print(char.isdigit(a))         # 只有純數字 True，有包含其它符號或字母 False\n",
        "                               # [False False False False  True False]\n",
        "print(char.isnumeric(a))       # 只有純數字 True，有包含其它符號或字母 False\n",
        "                               # [False False False False  True False]\n",
        "print(char.isspace(a))         # 只有空白符號 True，有包含字母、數字或其它符號 False\n",
        "                               # [False False False False False False]\n",
        "print(char.islower(a))         # 至少有一個字母且都小寫 True，有包含大寫 False\n",
        "                               # [ True False False  True False False]\n",
        "print(char.isupper(a))         # 至少有一個字母且都大寫 True，有包含小寫 False\n",
        "                               # [False  True False False False False]\n",
        "print(char.istitle(a))         # 字串是 title ( 每個單字的字首都大寫 ) True，否則 False\n",
        "                               # [False False  True False False False]\n",
        "print(char.startswith(a,'a'))  # a 開頭的字串 True，否則 False\n",
        "                               # [ True False False  True False False]\n",
        "print(char.endswith(a,'a'))    # a 結尾的字串 True，否則 False\n",
        "                               # [False False  True False False False]\n",
        "print(char.equal(a,b))         # a 陣列和 b 陣列元素相等 True，否則 False\n",
        "                               # [ True False False  True  True  True]\n",
        "print(char.not_equal(a,b))     # a 陣列和 b 陣列元素不相等 True，否則 False\n",
        "                               # [False  True  True False False False]\n",
        "print(char.greater_equal(a,b)) # a 陣列和 b 陣列元素 的 unicode 大於且相等 True，否則 False\n",
        "                               # [ True  True False  True  True  True]\n",
        "print(char.less_equal(a,b))    # a 陣列和 b 陣列元素 的 unicode 小於且相等 True，否則 False\n",
        "                               # [ True False  True  True  True  True]\n",
        "print(char.greater(a,b))       # a 陣列和 b 陣列元素 的 unicode 大於 True，否則 False\n",
        "                               # [False  True False False False False]\n",
        "print(char.less(a,b))          # a 陣列和 b 陣列元素 的 unicode 小於 True，否則 False\n",
        "                               # [False False  True False False False]\n",
        "print(char.compare_chararrays(a,b,'>=',True))  # a 陣列和 b 陣列元素 的 unicode 大於等於 True，否則 False\n",
        "                               # [ True  True False  True  True  True]"
      ],
      "metadata": {
        "colab": {
          "base_uri": "https://localhost:8080/"
        },
        "id": "Ro_vJpY2S9Cr",
        "outputId": "819b94e6-8355-4e38-ca5b-cc2aa6452058"
      },
      "execution_count": 66,
      "outputs": [
        {
          "output_type": "stream",
          "name": "stdout",
          "text": [
            "[ True  True False False False False]\n",
            "[ True  True False  True  True False]\n",
            "[False False False False  True False]\n",
            "[False False False False  True False]\n",
            "[False False False False  True False]\n",
            "[False False False False False False]\n",
            "[ True False False  True False False]\n",
            "[False  True False False False False]\n",
            "[False False  True False False False]\n",
            "[ True False False  True False False]\n",
            "[False False  True False False False]\n",
            "[ True False False  True  True  True]\n",
            "[False  True  True False False False]\n",
            "[ True  True False  True  True  True]\n",
            "[ True False  True  True  True  True]\n",
            "[False  True False False False False]\n",
            "[False False  True False False False]\n",
            "[ True  True False  True  True  True]\n"
          ]
        }
      ]
    },
    {
      "cell_type": "code",
      "source": [],
      "metadata": {
        "id": "kKhqhxfSTBLY"
      },
      "execution_count": null,
      "outputs": []
    }
  ]
}