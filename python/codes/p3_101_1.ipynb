{
  "nbformat": 4,
  "nbformat_minor": 0,
  "metadata": {
    "colab": {
      "provenance": [],
      "authorship_tag": "ABX9TyNQJH655lsErBKWcBbinslx",
      "include_colab_link": true
    },
    "kernelspec": {
      "name": "python3",
      "display_name": "Python 3"
    },
    "language_info": {
      "name": "python"
    }
  },
  "cells": [
    {
      "cell_type": "markdown",
      "metadata": {
        "id": "view-in-github",
        "colab_type": "text"
      },
      "source": [
        "<a href=\"https://colab.research.google.com/github/jumbokh/cgust-class/blob/main/python/codes/p3_101_1.ipynb\" target=\"_parent\"><img src=\"https://colab.research.google.com/assets/colab-badge.svg\" alt=\"Open In Colab\"/></a>"
      ]
    },
    {
      "cell_type": "code",
      "execution_count": 1,
      "metadata": {
        "colab": {
          "base_uri": "https://localhost:8080/"
        },
        "id": "0vp8dnnBszuR",
        "outputId": "a2672170-7bcb-4098-89b6-64fcfdadbaa6"
      },
      "outputs": [
        {
          "output_type": "execute_result",
          "data": {
            "text/plain": [
              "1267650600228229401496703205376"
            ]
          },
          "metadata": {},
          "execution_count": 1
        }
      ],
      "source": [
        "2**100"
      ]
    },
    {
      "cell_type": "code",
      "source": [
        "x=1\n",
        "y=0\n",
        "x and y"
      ],
      "metadata": {
        "colab": {
          "base_uri": "https://localhost:8080/"
        },
        "id": "xGHoU3bSxC_4",
        "outputId": "5b4f318e-7d36-4252-838c-9a84d325b7fc"
      },
      "execution_count": 2,
      "outputs": [
        {
          "output_type": "execute_result",
          "data": {
            "text/plain": [
              "0"
            ]
          },
          "metadata": {},
          "execution_count": 2
        }
      ]
    },
    {
      "cell_type": "code",
      "source": [
        "x=True\n",
        "y=False\n",
        "x and y"
      ],
      "metadata": {
        "colab": {
          "base_uri": "https://localhost:8080/"
        },
        "id": "vlpgx09oyKPq",
        "outputId": "933bdb54-0d07-4589-c349-74e316de07fd"
      },
      "execution_count": 3,
      "outputs": [
        {
          "output_type": "execute_result",
          "data": {
            "text/plain": [
              "False"
            ]
          },
          "metadata": {},
          "execution_count": 3
        }
      ]
    },
    {
      "cell_type": "code",
      "source": [
        "x or y"
      ],
      "metadata": {
        "colab": {
          "base_uri": "https://localhost:8080/"
        },
        "id": "0e2rcuimylQT",
        "outputId": "91cf5dd7-1c93-4854-c775-b2a820745476"
      },
      "execution_count": 4,
      "outputs": [
        {
          "output_type": "execute_result",
          "data": {
            "text/plain": [
              "True"
            ]
          },
          "metadata": {},
          "execution_count": 4
        }
      ]
    },
    {
      "cell_type": "code",
      "source": [
        "not x"
      ],
      "metadata": {
        "colab": {
          "base_uri": "https://localhost:8080/"
        },
        "id": "2oKy_VwNzKUE",
        "outputId": "191abcac-bacb-443e-82c1-e080d5665a94"
      },
      "execution_count": 5,
      "outputs": [
        {
          "output_type": "execute_result",
          "data": {
            "text/plain": [
              "False"
            ]
          },
          "metadata": {},
          "execution_count": 5
        }
      ]
    },
    {
      "cell_type": "code",
      "source": [
        "x=not x"
      ],
      "metadata": {
        "id": "2i2kEPLszQZX"
      },
      "execution_count": 6,
      "outputs": []
    },
    {
      "cell_type": "code",
      "source": [
        "x"
      ],
      "metadata": {
        "colab": {
          "base_uri": "https://localhost:8080/"
        },
        "id": "6noYaCIdzVbg",
        "outputId": "6b0d2572-5df1-4211-b995-584e883eb84e"
      },
      "execution_count": 7,
      "outputs": [
        {
          "output_type": "execute_result",
          "data": {
            "text/plain": [
              "False"
            ]
          },
          "metadata": {},
          "execution_count": 7
        }
      ]
    },
    {
      "cell_type": "code",
      "source": [
        "Str='Do not worry.'\n",
        "Str"
      ],
      "metadata": {
        "colab": {
          "base_uri": "https://localhost:8080/",
          "height": 35
        },
        "id": "kaatFFLOzWUg",
        "outputId": "92b3c612-c572-4d60-a266-f1817eeef2b6"
      },
      "execution_count": 9,
      "outputs": [
        {
          "output_type": "execute_result",
          "data": {
            "text/plain": [
              "'Do not worry.'"
            ],
            "application/vnd.google.colaboratory.intrinsic+json": {
              "type": "string"
            }
          },
          "metadata": {},
          "execution_count": 9
        }
      ]
    },
    {
      "cell_type": "code",
      "source": [
        "Str='Do not worry. \\nAbout tomorrow.'\n",
        "Str"
      ],
      "metadata": {
        "colab": {
          "base_uri": "https://localhost:8080/",
          "height": 35
        },
        "id": "YcP-oqNr0M73",
        "outputId": "c2a40acc-71d2-4c5f-fc96-c85ef39a3cc5"
      },
      "execution_count": 10,
      "outputs": [
        {
          "output_type": "execute_result",
          "data": {
            "text/plain": [
              "'Do not worry. \\nAbout tomorrow.'"
            ],
            "application/vnd.google.colaboratory.intrinsic+json": {
              "type": "string"
            }
          },
          "metadata": {},
          "execution_count": 10
        }
      ]
    },
    {
      "cell_type": "code",
      "source": [
        "print(Str)"
      ],
      "metadata": {
        "colab": {
          "base_uri": "https://localhost:8080/"
        },
        "id": "e7Uo9oca1FGo",
        "outputId": "797d8e16-eadf-4c16-9e20-f07c6a156c3b"
      },
      "execution_count": 11,
      "outputs": [
        {
          "output_type": "stream",
          "name": "stdout",
          "text": [
            "Do not worry. \n",
            "About tomorrow.\n"
          ]
        }
      ]
    },
    {
      "cell_type": "code",
      "source": [
        "path='c:\\python'\n",
        "print(path)"
      ],
      "metadata": {
        "colab": {
          "base_uri": "https://localhost:8080/"
        },
        "id": "C7pQ6l051n42",
        "outputId": "9df6b423-5faf-4edf-b55f-d5e7abc1e4b1"
      },
      "execution_count": 12,
      "outputs": [
        {
          "output_type": "stream",
          "name": "stdout",
          "text": [
            "c:\\python\n"
          ]
        }
      ]
    },
    {
      "cell_type": "code",
      "source": [
        "path='c:\\newpython'\n",
        "print(path)"
      ],
      "metadata": {
        "colab": {
          "base_uri": "https://localhost:8080/"
        },
        "id": "wEKkgo7d2GL4",
        "outputId": "4c15e61e-ea09-4fc5-9049-62f42bfc2091"
      },
      "execution_count": 13,
      "outputs": [
        {
          "output_type": "stream",
          "name": "stdout",
          "text": [
            "c:\n",
            "ewpython\n"
          ]
        }
      ]
    },
    {
      "cell_type": "code",
      "source": [
        "path='c:\\\\newpython'\n",
        "print(path)"
      ],
      "metadata": {
        "colab": {
          "base_uri": "https://localhost:8080/"
        },
        "id": "XoRRpCoY2Oxe",
        "outputId": "5b3a679a-4837-404b-c930-49c3e582ee7f"
      },
      "execution_count": 14,
      "outputs": [
        {
          "output_type": "stream",
          "name": "stdout",
          "text": [
            "c:\\newpython\n"
          ]
        }
      ]
    },
    {
      "cell_type": "code",
      "source": [
        "path=r'c:\\newpython'  # r: raw\n",
        "print(path)"
      ],
      "metadata": {
        "colab": {
          "base_uri": "https://localhost:8080/"
        },
        "id": "sEi-SB_m2Ybv",
        "outputId": "509b7211-c740-4439-ace6-d1dfbde1003e"
      },
      "execution_count": 15,
      "outputs": [
        {
          "output_type": "stream",
          "name": "stdout",
          "text": [
            "c:\\newpython\n"
          ]
        }
      ]
    },
    {
      "cell_type": "code",
      "source": [],
      "metadata": {
        "id": "X4CoeTxR3Fwk"
      },
      "execution_count": null,
      "outputs": []
    }
  ]
}