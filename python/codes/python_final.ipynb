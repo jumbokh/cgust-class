{
  "nbformat": 4,
  "nbformat_minor": 0,
  "metadata": {
    "colab": {
      "provenance": []
    },
    "kernelspec": {
      "name": "python3",
      "display_name": "Python 3"
    },
    "language_info": {
      "name": "python"
    }
  },
  "cells": [
    {
      "cell_type": "code",
      "execution_count": null,
      "metadata": {
        "colab": {
          "base_uri": "https://localhost:8080/"
        },
        "id": "k1ktwMFrs9ls",
        "outputId": "28b1edaf-33ab-4149-dee1-dcc41128d8ef"
      },
      "outputs": [
        {
          "output_type": "stream",
          "name": "stdout",
          "text": [
            "100\n",
            "144\n",
            "64\n",
            "0b1100100\n"
          ]
        }
      ],
      "source": [
        "a = int(input())\n",
        "\n",
        "oct_a = oct(a)[2:]\n",
        "print(oct_a)\n",
        "\n",
        "hex_a = hex(a)[2:]\n",
        "print(hex_a)\n",
        "\n",
        "bin_a = bin(a)\n",
        "print(bin_a)"
      ]
    },
    {
      "cell_type": "code",
      "source": [
        "a = input()\n",
        "b = int(input())\n",
        "c = int(input())\n",
        "d = int(input())\n",
        "e = int(input())\n",
        "f = int(input())\n",
        "g = int(input())\n",
        "h = int(input())\n",
        "print('{0:<8}'.format(a),'{0:^5}'.format(b),'{0:^5}'.format(c),'{0:^5}'.format(d),'{0:^5}'.format(e),'{0:^5}'.format(f),'{0:^5}'.format(g),'{0:^5}'.format(h))"
      ],
      "metadata": {
        "colab": {
          "base_uri": "https://localhost:8080/"
        },
        "id": "aey7D5KbtUfk",
        "outputId": "aef29b10-f55d-49bd-faee-9dc44d0635bf"
      },
      "execution_count": null,
      "outputs": [
        {
          "output_type": "stream",
          "name": "stdout",
          "text": [
            "Amy\n",
            "500\n",
            "920\n",
            "1050\n",
            "320\n",
            "460\n",
            "780\n",
            "555\n",
            "Amy       500   920  1050   320   460   780   555 \n"
          ]
        }
      ]
    },
    {
      "cell_type": "code",
      "source": [
        "a = int(input())\n",
        "b = int(input())\n",
        "print(a+b)\n",
        "print(a-b)\n",
        "print(a*b)\n",
        "print(a**b)\n",
        "print(int(a/b))\n",
        "print(a%b)"
      ],
      "metadata": {
        "colab": {
          "base_uri": "https://localhost:8080/"
        },
        "id": "opc_6KTVtkWu",
        "outputId": "d17addd1-1dec-4cc6-ade1-99eca1947ee3"
      },
      "execution_count": null,
      "outputs": [
        {
          "output_type": "stream",
          "name": "stdout",
          "text": [
            "8\n",
            "5\n",
            "13\n",
            "3\n",
            "40\n",
            "32768\n",
            "1\n",
            "3\n"
          ]
        }
      ]
    },
    {
      "cell_type": "code",
      "source": [
        "a = int(input())\n",
        "b = int(input())\n",
        "c = int(input())\n",
        "if a>=60 or b>=60:\n",
        "  if c>=60:\n",
        "    print(\"PASS\")\n",
        "  else:\n",
        "    print(\"FAIL\")"
      ],
      "metadata": {
        "colab": {
          "base_uri": "https://localhost:8080/"
        },
        "id": "1npJoCMztX72",
        "outputId": "0ba8c565-23c1-4efa-866c-e3fd5e167f22"
      },
      "execution_count": null,
      "outputs": [
        {
          "output_type": "stream",
          "name": "stdout",
          "text": [
            "90\n",
            "80\n",
            "20\n",
            "FAIL\n"
          ]
        }
      ]
    },
    {
      "cell_type": "code",
      "source": [
        "a = int(input())\n",
        "b = int(input())\n",
        "print(a&b)\n",
        "print(a|b)\n",
        "print(a^b)"
      ],
      "metadata": {
        "colab": {
          "base_uri": "https://localhost:8080/"
        },
        "id": "O49jpQnatrxX",
        "outputId": "d688cca7-a1db-4bf8-8261-d206614d55ec"
      },
      "execution_count": null,
      "outputs": [
        {
          "output_type": "stream",
          "name": "stdout",
          "text": [
            "5\n",
            "9\n",
            "1\n",
            "13\n",
            "12\n"
          ]
        }
      ]
    },
    {
      "cell_type": "code",
      "source": [
        "a = int(input())\n",
        "b = int(input())\n",
        "c = int(input())\n",
        "d = (float(a+b+c))/3.0\n",
        "e = float(int(d * (10 ** 1)) / (10 ** 1))\n",
        "if e>=90:\n",
        "  print(\"A\")\n",
        "elif e>=80:\n",
        "  print(\"B\")\n",
        "elif e>=70:\n",
        "  print(\"C\")\n",
        "elif e>=60:\n",
        "  print(\"D\")\n",
        "else:\n",
        "  print(\"F\")"
      ],
      "metadata": {
        "colab": {
          "base_uri": "https://localhost:8080/"
        },
        "id": "wiFazDvjtyXf",
        "outputId": "ef4712f9-643d-4af5-9776-9a3533344c09"
      },
      "execution_count": null,
      "outputs": [
        {
          "output_type": "stream",
          "name": "stdout",
          "text": [
            "88\n",
            "99\n",
            "79\n",
            "B\n"
          ]
        }
      ]
    },
    {
      "cell_type": "code",
      "source": [
        "a = int(input())\n",
        "b = int(input())\n",
        "print(a==b)\n",
        "print(a!=b)\n",
        "print(a>b)\n",
        "print(a<b)"
      ],
      "metadata": {
        "colab": {
          "base_uri": "https://localhost:8080/"
        },
        "id": "LPdUMdSkt3pe",
        "outputId": "5b714aef-045b-4bac-8454-85955ed3a487"
      },
      "execution_count": null,
      "outputs": [
        {
          "output_type": "stream",
          "name": "stdout",
          "text": [
            "6\n",
            "10\n",
            "False\n",
            "True\n",
            "False\n",
            "True\n"
          ]
        }
      ]
    },
    {
      "cell_type": "code",
      "source": [
        "a = float(input())\n",
        "b = (a * 9 / 5) + 32\n",
        "print(b)"
      ],
      "metadata": {
        "colab": {
          "base_uri": "https://localhost:8080/"
        },
        "id": "izhlNtyFuBQQ",
        "outputId": "5bd57a74-befd-4066-fd4f-ff0dd0bdf9d7"
      },
      "execution_count": null,
      "outputs": [
        {
          "output_type": "stream",
          "name": "stdout",
          "text": [
            "10\n",
            "50.0\n"
          ]
        }
      ]
    },
    {
      "cell_type": "code",
      "source": [
        "a = int(input())\n",
        "b = int(input())\n",
        "sum = 0\n",
        "for i in range(a,b+1):\n",
        "  if (i%5==0):\n",
        "    sum = sum + i\n",
        "print(sum)"
      ],
      "metadata": {
        "colab": {
          "base_uri": "https://localhost:8080/"
        },
        "id": "0CVM4cvuuyvh",
        "outputId": "d6aeda0b-ffe4-4b0d-b136-719f81564695"
      },
      "execution_count": null,
      "outputs": [
        {
          "output_type": "stream",
          "name": "stdout",
          "text": [
            "5\n",
            "50\n",
            "275\n"
          ]
        }
      ]
    },
    {
      "cell_type": "code",
      "source": [
        "a = int(input())\n",
        "if a%400==0:\n",
        "  print(\"leap year\")\n",
        "elif a%4==0 and a%100!=0:\n",
        "  print(\"leap year\")\n",
        "else:\n",
        "  print(\"common year\")"
      ],
      "metadata": {
        "colab": {
          "base_uri": "https://localhost:8080/"
        },
        "id": "QYGCXDb3u2AW",
        "outputId": "2bba0a8e-28f5-4291-a9bb-1068ba4a096d"
      },
      "execution_count": null,
      "outputs": [
        {
          "output_type": "stream",
          "name": "stdout",
          "text": [
            "2023\n",
            "common year\n"
          ]
        }
      ]
    },
    {
      "cell_type": "code",
      "source": [],
      "metadata": {
        "id": "qzdLkgfy0h0F"
      },
      "execution_count": null,
      "outputs": []
    }
  ]
}